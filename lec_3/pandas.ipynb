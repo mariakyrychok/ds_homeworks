{
 "cells": [
  {
   "cell_type": "markdown",
   "id": "3214b2cd277241cd",
   "metadata": {
    "collapsed": false
   },
   "source": [
    "# Home task: pandas \n",
    "\n",
    "## Question 1\n",
    "\n",
    "- Load the energy data from the file [Energy Indicators.xls](http://unstats.un.org/unsd/environment/excel_file_tables/2013/Energy%20Indicators.xls).\n",
    "It is a list of indicators of energy supply and renewable electricity production from the United Nations for the year 2013.\n",
    "\n",
    "\n",
    "- It should be put into a DataFrame with the variable name of \"energy\"\n",
    "\n",
    "\n",
    "- Make sure to exclude the footer and header information from the datafile.\n",
    "\n",
    "\n",
    "- The first two columns are unneccessary, so you should get rid of them, and you should change the column labels so that the columns are:<br>\n",
    "`['Country', 'Energy Supply', 'Energy Supply per Capita', '% Renewable']`\n",
    "\n",
    "\n",
    "- Convert `Energy Supply` to gigajoules (there are 1,000,000 gigajoules in a petajoule).\n",
    "\n",
    "\n",
    "- For all countries which have missing data (e.g. data with `...`) make sure this is reflected as `np.NaN` values.\n",
    "\n",
    "\n",
    "- Rename the following list of countries (for use in later questions):\n",
    "    - `Republic of Korea`: `South Korea`,\n",
    "    - `United States of America`: `United States`,\n",
    "    - `United Kingdom of Great Britain and Northern Ireland`: `United Kingdom`,\n",
    "    - `China, Hong Kong Special Administrative Region`: `Hong Kong`\n",
    "\n",
    "\n",
    "- There are also several countries with numbers and/or parenthesis in their name. Be sure to remove these, e.g.:\n",
    "    - `Bolivia (Plurinational State of)` should be `Bolivia`,\n",
    "    - `Switzerland17` should be `Switzerland`.\n",
    "\n",
    "\n",
    "- Next, load the GDP data from the file [\"world_bank.csv\"](http://data.worldbank.org/indicator/NY.GDP.MKTP.CD). \n",
    "It is a csv containing countries' GDP from 1960 to 2015 from World Bank. Call this DataFrame \"GDP\"\n",
    "\n",
    "\n",
    "- Make sure to skip the header, and rename the following list of countries:\n",
    "    - `Korea, Rep.`: `South Korea`,\n",
    "    - `Iran, Islamic Rep.`: `Iran`,\n",
    "    - `Hong Kong SAR, China`: `Hong Kong`\n",
    "\n",
    "\n",
    "- Finally, load the \"Sciamgo Journal and Country Rank data for [Energy Engineering and Power Technology\"](http://www.scimagojr.com/countryrank.php?category=2102). It ranks countries based on their journal contributions in the aforementioned area. Call this DataFrame \"ScimEn\"\n",
    "\n",
    "\n",
    "- Join the three datasets: Energy, GDP, and ScimEn into a new dataset (using the intersection of country names). Use only the 10 years (2006-2015) of GDP data and only the top 15 countries by Scimagojr 'Rank' (Rank 1 through 15).\n",
    "\n",
    "\n",
    "- The index of this DataFrame should be the name of the country, and the columns should be<br>\n",
    "`['Rank', 'Documents', 'Citable documents', 'Citations', 'Self-citations', 'Citations per document', 'H index', 'Energy Supply', 'Energy Supply per Capita', '% Renewable', '2006', '2007', '2008', '2009', '2010', '2011', 2012', '2013', '2014', '2015']`\n",
    "\n",
    "Function \"answer_one\" should return the resulted DataFrame (20 columns and 15 entries)"
   ]
  },
  {
   "cell_type": "markdown",
   "source": [
    "## Answer the following questions in the context of only the top 15 countries by Scimagojr Rank (aka the DataFrame returned by `answer_one()`)\n"
   ],
   "metadata": {
    "collapsed": false
   },
   "id": "9ac544d65db78a3c"
  },
  {
   "cell_type": "code",
   "execution_count": 526,
   "id": "f9c1482d06a34f48",
   "metadata": {
    "collapsed": false,
    "ExecuteTime": {
     "end_time": "2023-10-15T07:04:27.351839Z",
     "start_time": "2023-10-15T07:04:26.952940Z"
    }
   },
   "outputs": [
    {
     "data": {
      "text/plain": "   Unnamed: 0      Unnamed: 1      Unnamed: 2 Petajoules Gigajoules  \\\n0         NaN     Afghanistan     Afghanistan        321         10   \n1         NaN         Albania         Albania        102         35   \n2         NaN         Algeria         Algeria       1959         51   \n3         NaN  American Samoa  American Samoa        ...        ...   \n4         NaN         Andorra         Andorra          9        121   \n\n            %  \n0   78.669280  \n1  100.000000  \n2    0.551010  \n3    0.641026  \n4   88.695650  ",
      "text/html": "<div>\n<style scoped>\n    .dataframe tbody tr th:only-of-type {\n        vertical-align: middle;\n    }\n\n    .dataframe tbody tr th {\n        vertical-align: top;\n    }\n\n    .dataframe thead th {\n        text-align: right;\n    }\n</style>\n<table border=\"1\" class=\"dataframe\">\n  <thead>\n    <tr style=\"text-align: right;\">\n      <th></th>\n      <th>Unnamed: 0</th>\n      <th>Unnamed: 1</th>\n      <th>Unnamed: 2</th>\n      <th>Petajoules</th>\n      <th>Gigajoules</th>\n      <th>%</th>\n    </tr>\n  </thead>\n  <tbody>\n    <tr>\n      <th>0</th>\n      <td>NaN</td>\n      <td>Afghanistan</td>\n      <td>Afghanistan</td>\n      <td>321</td>\n      <td>10</td>\n      <td>78.669280</td>\n    </tr>\n    <tr>\n      <th>1</th>\n      <td>NaN</td>\n      <td>Albania</td>\n      <td>Albania</td>\n      <td>102</td>\n      <td>35</td>\n      <td>100.000000</td>\n    </tr>\n    <tr>\n      <th>2</th>\n      <td>NaN</td>\n      <td>Algeria</td>\n      <td>Algeria</td>\n      <td>1959</td>\n      <td>51</td>\n      <td>0.551010</td>\n    </tr>\n    <tr>\n      <th>3</th>\n      <td>NaN</td>\n      <td>American Samoa</td>\n      <td>American Samoa</td>\n      <td>...</td>\n      <td>...</td>\n      <td>0.641026</td>\n    </tr>\n    <tr>\n      <th>4</th>\n      <td>NaN</td>\n      <td>Andorra</td>\n      <td>Andorra</td>\n      <td>9</td>\n      <td>121</td>\n      <td>88.695650</td>\n    </tr>\n  </tbody>\n</table>\n</div>"
     },
     "execution_count": 526,
     "metadata": {},
     "output_type": "execute_result"
    }
   ],
   "source": [
    "import pandas as pd\n",
    "import numpy as np\n",
    "import re\n",
    "from IPython.display import display\n",
    "\n",
    "energy = pd.read_excel('./datasets/energy_indicators.xls', skiprows=17, skipfooter=38)\n",
    "energy.head()"
   ]
  },
  {
   "cell_type": "code",
   "execution_count": 527,
   "outputs": [],
   "source": [
    "energy = energy.drop(energy.columns[[0, 2]], axis=1)"
   ],
   "metadata": {
    "collapsed": false,
    "ExecuteTime": {
     "end_time": "2023-10-15T07:04:27.369401Z",
     "start_time": "2023-10-15T07:04:26.987785Z"
    }
   },
   "id": "673717765ce33053"
  },
  {
   "cell_type": "code",
   "execution_count": 528,
   "outputs": [],
   "source": [
    "energy.columns = ['country', 'energy_supply', 'energy_supply_per_capita', 'renewable_%']"
   ],
   "metadata": {
    "collapsed": false,
    "ExecuteTime": {
     "end_time": "2023-10-15T07:04:27.369566Z",
     "start_time": "2023-10-15T07:04:26.993470Z"
    }
   },
   "id": "797316d0a8f3a96c"
  },
  {
   "cell_type": "code",
   "execution_count": 529,
   "outputs": [],
   "source": [
    "num_columns = ['energy_supply', 'energy_supply_per_capita', 'renewable_%']\n",
    "energy[num_columns] = energy[energy[num_columns].map(np.isreal)][num_columns]\n",
    "energy[num_columns] = energy[num_columns].astype('float64')"
   ],
   "metadata": {
    "collapsed": false,
    "ExecuteTime": {
     "end_time": "2023-10-15T07:04:27.370253Z",
     "start_time": "2023-10-15T07:04:27.012659Z"
    }
   },
   "id": "bd4a3209cd8042dc"
  },
  {
   "cell_type": "code",
   "execution_count": 530,
   "outputs": [],
   "source": [
    "energy.energy_supply = energy.energy_supply * 1000000"
   ],
   "metadata": {
    "collapsed": false,
    "ExecuteTime": {
     "end_time": "2023-10-15T07:04:27.370307Z",
     "start_time": "2023-10-15T07:04:27.015662Z"
    }
   },
   "id": "a2ab078848dfb8c0"
  },
  {
   "cell_type": "code",
   "execution_count": 531,
   "outputs": [],
   "source": [
    "renamed_countries = {\n",
    "    'Republic of Korea': 'South Korea',\n",
    "    'United States of America': 'United States',\n",
    "    'United Kingdom of Great Britain and Northern Ireland': 'United Kingdom',\n",
    "    'China, Hong Kong Special Administrative Region': 'Hong Kong',\n",
    "}\n",
    "energy.country = energy.country.replace(renamed_countries)"
   ],
   "metadata": {
    "collapsed": false,
    "ExecuteTime": {
     "end_time": "2023-10-15T07:04:27.370385Z",
     "start_time": "2023-10-15T07:04:27.017988Z"
    }
   },
   "id": "f2a7739cea109162"
  },
  {
   "cell_type": "code",
   "execution_count": 532,
   "outputs": [
    {
     "data": {
      "text/plain": "0"
     },
     "execution_count": 532,
     "metadata": {},
     "output_type": "execute_result"
    }
   ],
   "source": [
    "def has_numbers(input_string):\n",
    "    return any(map(str.isdigit, input_string))\n",
    "\n",
    "energy.country.apply(has_numbers).sum()"
   ],
   "metadata": {
    "collapsed": false,
    "ExecuteTime": {
     "end_time": "2023-10-15T07:04:27.370781Z",
     "start_time": "2023-10-15T07:04:27.023423Z"
    }
   },
   "id": "3aa1af7187daf785"
  },
  {
   "cell_type": "code",
   "execution_count": 533,
   "outputs": [
    {
     "data": {
      "text/plain": "                                country  energy_supply  \\\n24     Bolivia (Plurinational State of)   3.360000e+08   \n70          Falkland Islands (Malvinas)   1.000000e+06   \n98           Iran (Islamic Republic of)   9.172000e+09   \n133    Micronesia (Federated States of)   2.000000e+06   \n183           Sint Maarten (Dutch part)   1.200000e+07   \n221  Venezuela (Bolivarian Republic of)   2.871000e+09   \n\n     energy_supply_per_capita  renewable_%  \n24                       32.0    31.477120  \n70                      258.0    33.333330  \n98                      119.0     5.707721  \n133                      21.0     2.941176  \n183                     327.0     0.000000  \n221                      95.0    67.834520  ",
      "text/html": "<div>\n<style scoped>\n    .dataframe tbody tr th:only-of-type {\n        vertical-align: middle;\n    }\n\n    .dataframe tbody tr th {\n        vertical-align: top;\n    }\n\n    .dataframe thead th {\n        text-align: right;\n    }\n</style>\n<table border=\"1\" class=\"dataframe\">\n  <thead>\n    <tr style=\"text-align: right;\">\n      <th></th>\n      <th>country</th>\n      <th>energy_supply</th>\n      <th>energy_supply_per_capita</th>\n      <th>renewable_%</th>\n    </tr>\n  </thead>\n  <tbody>\n    <tr>\n      <th>24</th>\n      <td>Bolivia (Plurinational State of)</td>\n      <td>3.360000e+08</td>\n      <td>32.0</td>\n      <td>31.477120</td>\n    </tr>\n    <tr>\n      <th>70</th>\n      <td>Falkland Islands (Malvinas)</td>\n      <td>1.000000e+06</td>\n      <td>258.0</td>\n      <td>33.333330</td>\n    </tr>\n    <tr>\n      <th>98</th>\n      <td>Iran (Islamic Republic of)</td>\n      <td>9.172000e+09</td>\n      <td>119.0</td>\n      <td>5.707721</td>\n    </tr>\n    <tr>\n      <th>133</th>\n      <td>Micronesia (Federated States of)</td>\n      <td>2.000000e+06</td>\n      <td>21.0</td>\n      <td>2.941176</td>\n    </tr>\n    <tr>\n      <th>183</th>\n      <td>Sint Maarten (Dutch part)</td>\n      <td>1.200000e+07</td>\n      <td>327.0</td>\n      <td>0.000000</td>\n    </tr>\n    <tr>\n      <th>221</th>\n      <td>Venezuela (Bolivarian Republic of)</td>\n      <td>2.871000e+09</td>\n      <td>95.0</td>\n      <td>67.834520</td>\n    </tr>\n  </tbody>\n</table>\n</div>"
     },
     "execution_count": 533,
     "metadata": {},
     "output_type": "execute_result"
    }
   ],
   "source": [
    "energy[energy.country.str.contains('\\(')]"
   ],
   "metadata": {
    "collapsed": false,
    "ExecuteTime": {
     "end_time": "2023-10-15T07:04:27.389178Z",
     "start_time": "2023-10-15T07:04:27.030222Z"
    }
   },
   "id": "4b639d96aae89ead"
  },
  {
   "cell_type": "code",
   "execution_count": 534,
   "outputs": [],
   "source": [
    "def remove_parenthesis_area_in_str(input_string):\n",
    "    return re.sub(r\" ?\\([^)]+\\)\", \"\", input_string)\n",
    "\n",
    "energy.country = energy.country.apply(remove_parenthesis_area_in_str)"
   ],
   "metadata": {
    "collapsed": false,
    "ExecuteTime": {
     "end_time": "2023-10-15T07:04:27.391520Z",
     "start_time": "2023-10-15T07:04:27.033347Z"
    }
   },
   "id": "5b8b7d75b84817a5"
  },
  {
   "cell_type": "code",
   "execution_count": 535,
   "outputs": [
    {
     "data": {
      "text/plain": "                  Country Name Country Code     Indicator Name  \\\n0                        Aruba          ABW  GDP (current US$)   \n1  Africa Eastern and Southern          AFE  GDP (current US$)   \n2                  Afghanistan          AFG  GDP (current US$)   \n3   Africa Western and Central          AFW  GDP (current US$)   \n4                       Angola          AGO  GDP (current US$)   \n\n   Indicator Code          1960          1961          1962          1963  \\\n0  NY.GDP.MKTP.CD           NaN           NaN           NaN           NaN   \n1  NY.GDP.MKTP.CD  2.112502e+10  2.161623e+10  2.350628e+10  2.804836e+10   \n2  NY.GDP.MKTP.CD  5.377778e+08  5.488889e+08  5.466667e+08  7.511112e+08   \n3  NY.GDP.MKTP.CD  1.044764e+10  1.117321e+10  1.199053e+10  1.272769e+10   \n4  NY.GDP.MKTP.CD           NaN           NaN           NaN           NaN   \n\n           1964          1965  ...          2014          2015          2016  \\\n0           NaN           NaN  ...  2.791061e+09  2.963128e+09  2.983799e+09   \n1  2.592067e+10  2.947210e+10  ...  1.006526e+12  9.273485e+11  8.851764e+11   \n2  8.000000e+08  1.006667e+09  ...  2.055058e+10  1.999814e+10  1.801955e+10   \n3  1.389811e+10  1.492979e+10  ...  8.943225e+11  7.686447e+11  6.913634e+11   \n4           NaN           NaN  ...  1.372444e+11  8.721930e+10  4.984049e+10   \n\n           2017          2018          2019          2020          2021  \\\n0  3.092179e+09  3.276188e+09  3.395794e+09  2.610039e+09  3.126019e+09   \n1  1.021043e+12  1.007196e+12  1.000834e+12  9.275933e+11  1.081998e+12   \n2  1.889635e+10  1.841886e+10  1.890450e+10  2.014345e+10  1.458314e+10   \n3  6.848988e+11  7.670257e+11  8.225384e+11  7.864600e+11  8.444597e+11   \n4  6.897277e+10  7.779294e+10  6.930911e+10  5.024137e+10  6.568544e+10   \n\n           2022  Unnamed: 67  \n0           NaN          NaN  \n1  1.169484e+12          NaN  \n2           NaN          NaN  \n3  8.778633e+11          NaN  \n4  1.067136e+11          NaN  \n\n[5 rows x 68 columns]",
      "text/html": "<div>\n<style scoped>\n    .dataframe tbody tr th:only-of-type {\n        vertical-align: middle;\n    }\n\n    .dataframe tbody tr th {\n        vertical-align: top;\n    }\n\n    .dataframe thead th {\n        text-align: right;\n    }\n</style>\n<table border=\"1\" class=\"dataframe\">\n  <thead>\n    <tr style=\"text-align: right;\">\n      <th></th>\n      <th>Country Name</th>\n      <th>Country Code</th>\n      <th>Indicator Name</th>\n      <th>Indicator Code</th>\n      <th>1960</th>\n      <th>1961</th>\n      <th>1962</th>\n      <th>1963</th>\n      <th>1964</th>\n      <th>1965</th>\n      <th>...</th>\n      <th>2014</th>\n      <th>2015</th>\n      <th>2016</th>\n      <th>2017</th>\n      <th>2018</th>\n      <th>2019</th>\n      <th>2020</th>\n      <th>2021</th>\n      <th>2022</th>\n      <th>Unnamed: 67</th>\n    </tr>\n  </thead>\n  <tbody>\n    <tr>\n      <th>0</th>\n      <td>Aruba</td>\n      <td>ABW</td>\n      <td>GDP (current US$)</td>\n      <td>NY.GDP.MKTP.CD</td>\n      <td>NaN</td>\n      <td>NaN</td>\n      <td>NaN</td>\n      <td>NaN</td>\n      <td>NaN</td>\n      <td>NaN</td>\n      <td>...</td>\n      <td>2.791061e+09</td>\n      <td>2.963128e+09</td>\n      <td>2.983799e+09</td>\n      <td>3.092179e+09</td>\n      <td>3.276188e+09</td>\n      <td>3.395794e+09</td>\n      <td>2.610039e+09</td>\n      <td>3.126019e+09</td>\n      <td>NaN</td>\n      <td>NaN</td>\n    </tr>\n    <tr>\n      <th>1</th>\n      <td>Africa Eastern and Southern</td>\n      <td>AFE</td>\n      <td>GDP (current US$)</td>\n      <td>NY.GDP.MKTP.CD</td>\n      <td>2.112502e+10</td>\n      <td>2.161623e+10</td>\n      <td>2.350628e+10</td>\n      <td>2.804836e+10</td>\n      <td>2.592067e+10</td>\n      <td>2.947210e+10</td>\n      <td>...</td>\n      <td>1.006526e+12</td>\n      <td>9.273485e+11</td>\n      <td>8.851764e+11</td>\n      <td>1.021043e+12</td>\n      <td>1.007196e+12</td>\n      <td>1.000834e+12</td>\n      <td>9.275933e+11</td>\n      <td>1.081998e+12</td>\n      <td>1.169484e+12</td>\n      <td>NaN</td>\n    </tr>\n    <tr>\n      <th>2</th>\n      <td>Afghanistan</td>\n      <td>AFG</td>\n      <td>GDP (current US$)</td>\n      <td>NY.GDP.MKTP.CD</td>\n      <td>5.377778e+08</td>\n      <td>5.488889e+08</td>\n      <td>5.466667e+08</td>\n      <td>7.511112e+08</td>\n      <td>8.000000e+08</td>\n      <td>1.006667e+09</td>\n      <td>...</td>\n      <td>2.055058e+10</td>\n      <td>1.999814e+10</td>\n      <td>1.801955e+10</td>\n      <td>1.889635e+10</td>\n      <td>1.841886e+10</td>\n      <td>1.890450e+10</td>\n      <td>2.014345e+10</td>\n      <td>1.458314e+10</td>\n      <td>NaN</td>\n      <td>NaN</td>\n    </tr>\n    <tr>\n      <th>3</th>\n      <td>Africa Western and Central</td>\n      <td>AFW</td>\n      <td>GDP (current US$)</td>\n      <td>NY.GDP.MKTP.CD</td>\n      <td>1.044764e+10</td>\n      <td>1.117321e+10</td>\n      <td>1.199053e+10</td>\n      <td>1.272769e+10</td>\n      <td>1.389811e+10</td>\n      <td>1.492979e+10</td>\n      <td>...</td>\n      <td>8.943225e+11</td>\n      <td>7.686447e+11</td>\n      <td>6.913634e+11</td>\n      <td>6.848988e+11</td>\n      <td>7.670257e+11</td>\n      <td>8.225384e+11</td>\n      <td>7.864600e+11</td>\n      <td>8.444597e+11</td>\n      <td>8.778633e+11</td>\n      <td>NaN</td>\n    </tr>\n    <tr>\n      <th>4</th>\n      <td>Angola</td>\n      <td>AGO</td>\n      <td>GDP (current US$)</td>\n      <td>NY.GDP.MKTP.CD</td>\n      <td>NaN</td>\n      <td>NaN</td>\n      <td>NaN</td>\n      <td>NaN</td>\n      <td>NaN</td>\n      <td>NaN</td>\n      <td>...</td>\n      <td>1.372444e+11</td>\n      <td>8.721930e+10</td>\n      <td>4.984049e+10</td>\n      <td>6.897277e+10</td>\n      <td>7.779294e+10</td>\n      <td>6.930911e+10</td>\n      <td>5.024137e+10</td>\n      <td>6.568544e+10</td>\n      <td>1.067136e+11</td>\n      <td>NaN</td>\n    </tr>\n  </tbody>\n</table>\n<p>5 rows × 68 columns</p>\n</div>"
     },
     "execution_count": 535,
     "metadata": {},
     "output_type": "execute_result"
    }
   ],
   "source": [
    "gdp = pd.read_csv('./datasets/world_bank.csv', skiprows=4)\n",
    "gdp.head()"
   ],
   "metadata": {
    "collapsed": false,
    "ExecuteTime": {
     "end_time": "2023-10-15T07:04:27.398229Z",
     "start_time": "2023-10-15T07:04:27.035821Z"
    }
   },
   "id": "e7efed2dfe3206f1"
  },
  {
   "cell_type": "code",
   "execution_count": 536,
   "outputs": [],
   "source": [
    "def change_str_to_snake_case(string):\n",
    "    return string.replace(' ', '_').replace('-', '_').lower()\n",
    "\n",
    "gdp.rename(columns=change_str_to_snake_case, inplace=True)"
   ],
   "metadata": {
    "collapsed": false,
    "ExecuteTime": {
     "end_time": "2023-10-15T07:04:27.399110Z",
     "start_time": "2023-10-15T07:04:27.051738Z"
    }
   },
   "id": "551852e5e9fff2dd"
  },
  {
   "cell_type": "code",
   "execution_count": 537,
   "outputs": [],
   "source": [
    "renamed_countries = {\n",
    "    'Korea, Rep.': 'South Korea',\n",
    "    'Iran, Islamic Rep.': 'Iran',\n",
    "    'Hong Kong SAR, China': 'Hong Kong'\n",
    "}\n",
    "gdp.country_name = gdp.country_name.replace(renamed_countries)"
   ],
   "metadata": {
    "collapsed": false,
    "ExecuteTime": {
     "end_time": "2023-10-15T07:04:27.399146Z",
     "start_time": "2023-10-15T07:04:27.054959Z"
    }
   },
   "id": "e50eeccaa01a3734"
  },
  {
   "cell_type": "code",
   "execution_count": 538,
   "outputs": [
    {
     "data": {
      "text/plain": "    Rank             Country            Region  Documents  Citable documents  \\\n0      1               China    Asiatic Region     360468             358777   \n1      2       United States  Northern America     199442             195042   \n2      3               India    Asiatic Region      76103              74167   \n3      4               Japan    Asiatic Region      56249              55680   \n4      5      United Kingdom    Western Europe      52572              51156   \n5      6             Germany    Western Europe      47781              46767   \n6      7  Russian Federation    Eastern Europe      43567              43290   \n7      8              Canada  Northern America      39036              38276   \n8      9               Italy    Western Europe      35991              34424   \n9     10         South Korea    Asiatic Region      35294              35005   \n10    11                Iran       Middle East      29776              29448   \n11    12              France    Western Europe      29351              28759   \n12    13               Spain    Western Europe      27880              27272   \n13    14           Australia    Pacific Region      25906              25237   \n14    15              Brazil     Latin America      25887              25493   \n15    16              Turkey       Middle East      16617              16261   \n\n    Citations  Self-citations  Citations per document  H index  \n0     3947871         2705774                   10.95      308  \n1     3068926          881789                   15.39      422  \n2      760964          280893                   10.00      217  \n3      633294          136132                   11.26      217  \n4      909276          151672                   17.30      267  \n5      641717          133693                   13.43      230  \n6      175721           79765                    4.03      103  \n7      787010          125333                   20.16      263  \n8      529459          123042                   14.71      192  \n9      503147           87529                   14.26      182  \n10     511199          150489                   17.17      179  \n11     471469           79375                   16.06      205  \n12     515485           88803                   18.49      202  \n13     495278           72475                   19.12      212  \n14     260540           60487                   10.06      145  \n15     330572           61731                   19.89      181  ",
      "text/html": "<div>\n<style scoped>\n    .dataframe tbody tr th:only-of-type {\n        vertical-align: middle;\n    }\n\n    .dataframe tbody tr th {\n        vertical-align: top;\n    }\n\n    .dataframe thead th {\n        text-align: right;\n    }\n</style>\n<table border=\"1\" class=\"dataframe\">\n  <thead>\n    <tr style=\"text-align: right;\">\n      <th></th>\n      <th>Rank</th>\n      <th>Country</th>\n      <th>Region</th>\n      <th>Documents</th>\n      <th>Citable documents</th>\n      <th>Citations</th>\n      <th>Self-citations</th>\n      <th>Citations per document</th>\n      <th>H index</th>\n    </tr>\n  </thead>\n  <tbody>\n    <tr>\n      <th>0</th>\n      <td>1</td>\n      <td>China</td>\n      <td>Asiatic Region</td>\n      <td>360468</td>\n      <td>358777</td>\n      <td>3947871</td>\n      <td>2705774</td>\n      <td>10.95</td>\n      <td>308</td>\n    </tr>\n    <tr>\n      <th>1</th>\n      <td>2</td>\n      <td>United States</td>\n      <td>Northern America</td>\n      <td>199442</td>\n      <td>195042</td>\n      <td>3068926</td>\n      <td>881789</td>\n      <td>15.39</td>\n      <td>422</td>\n    </tr>\n    <tr>\n      <th>2</th>\n      <td>3</td>\n      <td>India</td>\n      <td>Asiatic Region</td>\n      <td>76103</td>\n      <td>74167</td>\n      <td>760964</td>\n      <td>280893</td>\n      <td>10.00</td>\n      <td>217</td>\n    </tr>\n    <tr>\n      <th>3</th>\n      <td>4</td>\n      <td>Japan</td>\n      <td>Asiatic Region</td>\n      <td>56249</td>\n      <td>55680</td>\n      <td>633294</td>\n      <td>136132</td>\n      <td>11.26</td>\n      <td>217</td>\n    </tr>\n    <tr>\n      <th>4</th>\n      <td>5</td>\n      <td>United Kingdom</td>\n      <td>Western Europe</td>\n      <td>52572</td>\n      <td>51156</td>\n      <td>909276</td>\n      <td>151672</td>\n      <td>17.30</td>\n      <td>267</td>\n    </tr>\n    <tr>\n      <th>5</th>\n      <td>6</td>\n      <td>Germany</td>\n      <td>Western Europe</td>\n      <td>47781</td>\n      <td>46767</td>\n      <td>641717</td>\n      <td>133693</td>\n      <td>13.43</td>\n      <td>230</td>\n    </tr>\n    <tr>\n      <th>6</th>\n      <td>7</td>\n      <td>Russian Federation</td>\n      <td>Eastern Europe</td>\n      <td>43567</td>\n      <td>43290</td>\n      <td>175721</td>\n      <td>79765</td>\n      <td>4.03</td>\n      <td>103</td>\n    </tr>\n    <tr>\n      <th>7</th>\n      <td>8</td>\n      <td>Canada</td>\n      <td>Northern America</td>\n      <td>39036</td>\n      <td>38276</td>\n      <td>787010</td>\n      <td>125333</td>\n      <td>20.16</td>\n      <td>263</td>\n    </tr>\n    <tr>\n      <th>8</th>\n      <td>9</td>\n      <td>Italy</td>\n      <td>Western Europe</td>\n      <td>35991</td>\n      <td>34424</td>\n      <td>529459</td>\n      <td>123042</td>\n      <td>14.71</td>\n      <td>192</td>\n    </tr>\n    <tr>\n      <th>9</th>\n      <td>10</td>\n      <td>South Korea</td>\n      <td>Asiatic Region</td>\n      <td>35294</td>\n      <td>35005</td>\n      <td>503147</td>\n      <td>87529</td>\n      <td>14.26</td>\n      <td>182</td>\n    </tr>\n    <tr>\n      <th>10</th>\n      <td>11</td>\n      <td>Iran</td>\n      <td>Middle East</td>\n      <td>29776</td>\n      <td>29448</td>\n      <td>511199</td>\n      <td>150489</td>\n      <td>17.17</td>\n      <td>179</td>\n    </tr>\n    <tr>\n      <th>11</th>\n      <td>12</td>\n      <td>France</td>\n      <td>Western Europe</td>\n      <td>29351</td>\n      <td>28759</td>\n      <td>471469</td>\n      <td>79375</td>\n      <td>16.06</td>\n      <td>205</td>\n    </tr>\n    <tr>\n      <th>12</th>\n      <td>13</td>\n      <td>Spain</td>\n      <td>Western Europe</td>\n      <td>27880</td>\n      <td>27272</td>\n      <td>515485</td>\n      <td>88803</td>\n      <td>18.49</td>\n      <td>202</td>\n    </tr>\n    <tr>\n      <th>13</th>\n      <td>14</td>\n      <td>Australia</td>\n      <td>Pacific Region</td>\n      <td>25906</td>\n      <td>25237</td>\n      <td>495278</td>\n      <td>72475</td>\n      <td>19.12</td>\n      <td>212</td>\n    </tr>\n    <tr>\n      <th>14</th>\n      <td>15</td>\n      <td>Brazil</td>\n      <td>Latin America</td>\n      <td>25887</td>\n      <td>25493</td>\n      <td>260540</td>\n      <td>60487</td>\n      <td>10.06</td>\n      <td>145</td>\n    </tr>\n    <tr>\n      <th>15</th>\n      <td>16</td>\n      <td>Turkey</td>\n      <td>Middle East</td>\n      <td>16617</td>\n      <td>16261</td>\n      <td>330572</td>\n      <td>61731</td>\n      <td>19.89</td>\n      <td>181</td>\n    </tr>\n  </tbody>\n</table>\n</div>"
     },
     "execution_count": 538,
     "metadata": {},
     "output_type": "execute_result"
    }
   ],
   "source": [
    "scim_en = pd.read_excel('./datasets/scimago_journal_country_rank.xlsx')\n",
    "scim_en.head(16)"
   ],
   "metadata": {
    "collapsed": false,
    "ExecuteTime": {
     "end_time": "2023-10-15T07:04:27.399565Z",
     "start_time": "2023-10-15T07:04:27.057833Z"
    }
   },
   "id": "5572a63c2d2585b7"
  },
  {
   "cell_type": "code",
   "execution_count": 539,
   "outputs": [],
   "source": [
    "scim_en.rename(columns=change_str_to_snake_case, inplace=True)"
   ],
   "metadata": {
    "collapsed": false,
    "ExecuteTime": {
     "end_time": "2023-10-15T07:04:27.399597Z",
     "start_time": "2023-10-15T07:04:27.109635Z"
    }
   },
   "id": "f1fa5f53022a02fc"
  },
  {
   "cell_type": "code",
   "execution_count": 540,
   "outputs": [
    {
     "data": {
      "text/plain": "                    rank  documents  citable_documents  citations  \\\ncountry                                                             \nChina                  1     360468             358777    3947871   \nUnited States          2     199442             195042    3068926   \nIndia                  3      76103              74167     760964   \nJapan                  4      56249              55680     633294   \nUnited Kingdom         5      52572              51156     909276   \nGermany                6      47781              46767     641717   \nRussian Federation     7      43567              43290     175721   \nCanada                 8      39036              38276     787010   \nItaly                  9      35991              34424     529459   \nSouth Korea           10      35294              35005     503147   \nIran                  11      29776              29448     511199   \nFrance                12      29351              28759     471469   \nSpain                 13      27880              27272     515485   \nAustralia             14      25906              25237     495278   \nBrazil                15      25887              25493     260540   \n\n                    self_citations  citations_per_document  h_index  \\\ncountry                                                               \nChina                      2705774                   10.95      308   \nUnited States               881789                   15.39      422   \nIndia                       280893                   10.00      217   \nJapan                       136132                   11.26      217   \nUnited Kingdom              151672                   17.30      267   \nGermany                     133693                   13.43      230   \nRussian Federation           79765                    4.03      103   \nCanada                      125333                   20.16      263   \nItaly                       123042                   14.71      192   \nSouth Korea                  87529                   14.26      182   \nIran                        150489                   17.17      179   \nFrance                       79375                   16.06      205   \nSpain                        88803                   18.49      202   \nAustralia                    72475                   19.12      212   \nBrazil                       60487                   10.06      145   \n\n                    energy_supply  energy_supply_per_capita  renewable_%  \\\ncountry                                                                    \nChina                1.271910e+11                      93.0    19.754910   \nUnited States        9.083800e+10                     286.0    11.570980   \nIndia                3.319500e+10                      26.0    14.969080   \nJapan                1.898400e+10                     149.0    10.232820   \nUnited Kingdom       7.920000e+09                     124.0    10.600470   \nGermany              1.326100e+10                     165.0    17.901530   \nRussian Federation   3.070900e+10                     214.0    17.288680   \nCanada               1.043100e+10                     296.0    61.945430   \nItaly                6.530000e+09                     109.0    33.667230   \nSouth Korea          1.100700e+10                     221.0     2.279353   \nIran                 9.172000e+09                     119.0     5.707721   \nFrance               1.059700e+10                     166.0    17.020280   \nSpain                4.923000e+09                     106.0    37.968590   \nAustralia            5.386000e+09                     231.0    11.810810   \nBrazil               1.214900e+10                      59.0    69.648030   \n\n                            2006          2007          2008          2009  \\\ncountry                                                                      \nChina               2.752119e+12  3.550328e+12  4.594337e+12  5.101691e+12   \nUnited States       1.381559e+13  1.447423e+13  1.476986e+13  1.447806e+13   \nIndia               9.402599e+11  1.216736e+12  1.198895e+12  1.341888e+12   \nJapan               4.601663e+12  4.579750e+12  5.106679e+12  5.289494e+12   \nUnited Kingdom      2.709978e+12  3.092996e+12  2.931684e+12  2.417566e+12   \nGermany             2.994704e+12  3.425578e+12  3.745264e+12  3.411261e+12   \nRussian Federation  9.899321e+11  1.299703e+12  1.660848e+12  1.222646e+12   \nCanada              1.319265e+12  1.468820e+12  1.552990e+12  1.374625e+12   \nItaly               1.949552e+12  2.213102e+12  2.408655e+12  2.199929e+12   \nSouth Korea         1.053217e+12  1.172614e+12  1.047339e+12  9.439419e+11   \nIran                2.662989e+11  3.498816e+11  4.123362e+11  4.163970e+11   \nFrance              2.320536e+12  2.660591e+12  2.930304e+12  2.700887e+12   \nSpain               1.260399e+12  1.474003e+12  1.631863e+12  1.491473e+12   \nAustralia           7.479074e+11  8.544273e+11  1.055686e+12  9.286298e+11   \nBrazil              1.107627e+12  1.397114e+12  1.695855e+12  1.666996e+12   \n\n                            2010          2011          2012          2013  \\\ncountry                                                                      \nChina               6.087192e+12  7.551545e+12  8.532186e+12  9.570471e+12   \nUnited States       1.504896e+13  1.559973e+13  1.625397e+13  1.684319e+13   \nIndia               1.675616e+12  1.823052e+12  1.827638e+12  1.856721e+12   \nJapan               5.759072e+12  6.233147e+12  6.272363e+12  5.212328e+12   \nUnited Kingdom      2.491397e+12  2.666403e+12  2.706341e+12  2.786315e+12   \nGermany             3.399668e+12  3.749315e+12  3.527143e+12  3.733805e+12   \nRussian Federation  1.524917e+12  2.045923e+12  2.208294e+12  2.292470e+12   \nCanada              1.617343e+12  1.793327e+12  1.828366e+12  1.846597e+12   \nItaly               2.136100e+12  2.294994e+12  2.086958e+12  2.141924e+12   \nSouth Korea         1.144067e+12  1.253223e+12  1.278428e+12  1.370795e+12   \nIran                4.868076e+11  6.261331e+11  6.440355e+11  4.927756e+11   \nFrance              2.645188e+12  2.865158e+12  2.683672e+12  2.811877e+12   \nSpain               1.422108e+12  1.480710e+12  1.324751e+12  1.355580e+12   \nAustralia           1.148570e+12  1.398456e+12  1.546953e+12  1.576330e+12   \nBrazil              2.208838e+12  2.616157e+12  2.465228e+12  2.472819e+12   \n\n                            2014          2015  \ncountry                                         \nChina               1.047562e+13  1.106157e+13  \nUnited States       1.755068e+13  1.820602e+13  \nIndia               2.039126e+12  2.103588e+12  \nJapan               4.896994e+12  4.444931e+12  \nUnited Kingdom      3.065223e+12  2.934858e+12  \nGermany             3.889093e+12  3.357586e+12  \nRussian Federation  2.059242e+12  1.363482e+12  \nCanada              1.805750e+12  1.556509e+12  \nItaly               2.162010e+12  1.836638e+12  \nSouth Korea         1.484318e+12  1.465773e+12  \nIran                4.603828e+11  4.082129e+11  \nFrance              2.855964e+12  2.439189e+12  \nSpain               1.371821e+12  1.196157e+12  \nAustralia           1.467590e+12  1.350580e+12  \nBrazil              2.456044e+12  1.802212e+12  ",
      "text/html": "<div>\n<style scoped>\n    .dataframe tbody tr th:only-of-type {\n        vertical-align: middle;\n    }\n\n    .dataframe tbody tr th {\n        vertical-align: top;\n    }\n\n    .dataframe thead th {\n        text-align: right;\n    }\n</style>\n<table border=\"1\" class=\"dataframe\">\n  <thead>\n    <tr style=\"text-align: right;\">\n      <th></th>\n      <th>rank</th>\n      <th>documents</th>\n      <th>citable_documents</th>\n      <th>citations</th>\n      <th>self_citations</th>\n      <th>citations_per_document</th>\n      <th>h_index</th>\n      <th>energy_supply</th>\n      <th>energy_supply_per_capita</th>\n      <th>renewable_%</th>\n      <th>2006</th>\n      <th>2007</th>\n      <th>2008</th>\n      <th>2009</th>\n      <th>2010</th>\n      <th>2011</th>\n      <th>2012</th>\n      <th>2013</th>\n      <th>2014</th>\n      <th>2015</th>\n    </tr>\n    <tr>\n      <th>country</th>\n      <th></th>\n      <th></th>\n      <th></th>\n      <th></th>\n      <th></th>\n      <th></th>\n      <th></th>\n      <th></th>\n      <th></th>\n      <th></th>\n      <th></th>\n      <th></th>\n      <th></th>\n      <th></th>\n      <th></th>\n      <th></th>\n      <th></th>\n      <th></th>\n      <th></th>\n      <th></th>\n    </tr>\n  </thead>\n  <tbody>\n    <tr>\n      <th>China</th>\n      <td>1</td>\n      <td>360468</td>\n      <td>358777</td>\n      <td>3947871</td>\n      <td>2705774</td>\n      <td>10.95</td>\n      <td>308</td>\n      <td>1.271910e+11</td>\n      <td>93.0</td>\n      <td>19.754910</td>\n      <td>2.752119e+12</td>\n      <td>3.550328e+12</td>\n      <td>4.594337e+12</td>\n      <td>5.101691e+12</td>\n      <td>6.087192e+12</td>\n      <td>7.551545e+12</td>\n      <td>8.532186e+12</td>\n      <td>9.570471e+12</td>\n      <td>1.047562e+13</td>\n      <td>1.106157e+13</td>\n    </tr>\n    <tr>\n      <th>United States</th>\n      <td>2</td>\n      <td>199442</td>\n      <td>195042</td>\n      <td>3068926</td>\n      <td>881789</td>\n      <td>15.39</td>\n      <td>422</td>\n      <td>9.083800e+10</td>\n      <td>286.0</td>\n      <td>11.570980</td>\n      <td>1.381559e+13</td>\n      <td>1.447423e+13</td>\n      <td>1.476986e+13</td>\n      <td>1.447806e+13</td>\n      <td>1.504896e+13</td>\n      <td>1.559973e+13</td>\n      <td>1.625397e+13</td>\n      <td>1.684319e+13</td>\n      <td>1.755068e+13</td>\n      <td>1.820602e+13</td>\n    </tr>\n    <tr>\n      <th>India</th>\n      <td>3</td>\n      <td>76103</td>\n      <td>74167</td>\n      <td>760964</td>\n      <td>280893</td>\n      <td>10.00</td>\n      <td>217</td>\n      <td>3.319500e+10</td>\n      <td>26.0</td>\n      <td>14.969080</td>\n      <td>9.402599e+11</td>\n      <td>1.216736e+12</td>\n      <td>1.198895e+12</td>\n      <td>1.341888e+12</td>\n      <td>1.675616e+12</td>\n      <td>1.823052e+12</td>\n      <td>1.827638e+12</td>\n      <td>1.856721e+12</td>\n      <td>2.039126e+12</td>\n      <td>2.103588e+12</td>\n    </tr>\n    <tr>\n      <th>Japan</th>\n      <td>4</td>\n      <td>56249</td>\n      <td>55680</td>\n      <td>633294</td>\n      <td>136132</td>\n      <td>11.26</td>\n      <td>217</td>\n      <td>1.898400e+10</td>\n      <td>149.0</td>\n      <td>10.232820</td>\n      <td>4.601663e+12</td>\n      <td>4.579750e+12</td>\n      <td>5.106679e+12</td>\n      <td>5.289494e+12</td>\n      <td>5.759072e+12</td>\n      <td>6.233147e+12</td>\n      <td>6.272363e+12</td>\n      <td>5.212328e+12</td>\n      <td>4.896994e+12</td>\n      <td>4.444931e+12</td>\n    </tr>\n    <tr>\n      <th>United Kingdom</th>\n      <td>5</td>\n      <td>52572</td>\n      <td>51156</td>\n      <td>909276</td>\n      <td>151672</td>\n      <td>17.30</td>\n      <td>267</td>\n      <td>7.920000e+09</td>\n      <td>124.0</td>\n      <td>10.600470</td>\n      <td>2.709978e+12</td>\n      <td>3.092996e+12</td>\n      <td>2.931684e+12</td>\n      <td>2.417566e+12</td>\n      <td>2.491397e+12</td>\n      <td>2.666403e+12</td>\n      <td>2.706341e+12</td>\n      <td>2.786315e+12</td>\n      <td>3.065223e+12</td>\n      <td>2.934858e+12</td>\n    </tr>\n    <tr>\n      <th>Germany</th>\n      <td>6</td>\n      <td>47781</td>\n      <td>46767</td>\n      <td>641717</td>\n      <td>133693</td>\n      <td>13.43</td>\n      <td>230</td>\n      <td>1.326100e+10</td>\n      <td>165.0</td>\n      <td>17.901530</td>\n      <td>2.994704e+12</td>\n      <td>3.425578e+12</td>\n      <td>3.745264e+12</td>\n      <td>3.411261e+12</td>\n      <td>3.399668e+12</td>\n      <td>3.749315e+12</td>\n      <td>3.527143e+12</td>\n      <td>3.733805e+12</td>\n      <td>3.889093e+12</td>\n      <td>3.357586e+12</td>\n    </tr>\n    <tr>\n      <th>Russian Federation</th>\n      <td>7</td>\n      <td>43567</td>\n      <td>43290</td>\n      <td>175721</td>\n      <td>79765</td>\n      <td>4.03</td>\n      <td>103</td>\n      <td>3.070900e+10</td>\n      <td>214.0</td>\n      <td>17.288680</td>\n      <td>9.899321e+11</td>\n      <td>1.299703e+12</td>\n      <td>1.660848e+12</td>\n      <td>1.222646e+12</td>\n      <td>1.524917e+12</td>\n      <td>2.045923e+12</td>\n      <td>2.208294e+12</td>\n      <td>2.292470e+12</td>\n      <td>2.059242e+12</td>\n      <td>1.363482e+12</td>\n    </tr>\n    <tr>\n      <th>Canada</th>\n      <td>8</td>\n      <td>39036</td>\n      <td>38276</td>\n      <td>787010</td>\n      <td>125333</td>\n      <td>20.16</td>\n      <td>263</td>\n      <td>1.043100e+10</td>\n      <td>296.0</td>\n      <td>61.945430</td>\n      <td>1.319265e+12</td>\n      <td>1.468820e+12</td>\n      <td>1.552990e+12</td>\n      <td>1.374625e+12</td>\n      <td>1.617343e+12</td>\n      <td>1.793327e+12</td>\n      <td>1.828366e+12</td>\n      <td>1.846597e+12</td>\n      <td>1.805750e+12</td>\n      <td>1.556509e+12</td>\n    </tr>\n    <tr>\n      <th>Italy</th>\n      <td>9</td>\n      <td>35991</td>\n      <td>34424</td>\n      <td>529459</td>\n      <td>123042</td>\n      <td>14.71</td>\n      <td>192</td>\n      <td>6.530000e+09</td>\n      <td>109.0</td>\n      <td>33.667230</td>\n      <td>1.949552e+12</td>\n      <td>2.213102e+12</td>\n      <td>2.408655e+12</td>\n      <td>2.199929e+12</td>\n      <td>2.136100e+12</td>\n      <td>2.294994e+12</td>\n      <td>2.086958e+12</td>\n      <td>2.141924e+12</td>\n      <td>2.162010e+12</td>\n      <td>1.836638e+12</td>\n    </tr>\n    <tr>\n      <th>South Korea</th>\n      <td>10</td>\n      <td>35294</td>\n      <td>35005</td>\n      <td>503147</td>\n      <td>87529</td>\n      <td>14.26</td>\n      <td>182</td>\n      <td>1.100700e+10</td>\n      <td>221.0</td>\n      <td>2.279353</td>\n      <td>1.053217e+12</td>\n      <td>1.172614e+12</td>\n      <td>1.047339e+12</td>\n      <td>9.439419e+11</td>\n      <td>1.144067e+12</td>\n      <td>1.253223e+12</td>\n      <td>1.278428e+12</td>\n      <td>1.370795e+12</td>\n      <td>1.484318e+12</td>\n      <td>1.465773e+12</td>\n    </tr>\n    <tr>\n      <th>Iran</th>\n      <td>11</td>\n      <td>29776</td>\n      <td>29448</td>\n      <td>511199</td>\n      <td>150489</td>\n      <td>17.17</td>\n      <td>179</td>\n      <td>9.172000e+09</td>\n      <td>119.0</td>\n      <td>5.707721</td>\n      <td>2.662989e+11</td>\n      <td>3.498816e+11</td>\n      <td>4.123362e+11</td>\n      <td>4.163970e+11</td>\n      <td>4.868076e+11</td>\n      <td>6.261331e+11</td>\n      <td>6.440355e+11</td>\n      <td>4.927756e+11</td>\n      <td>4.603828e+11</td>\n      <td>4.082129e+11</td>\n    </tr>\n    <tr>\n      <th>France</th>\n      <td>12</td>\n      <td>29351</td>\n      <td>28759</td>\n      <td>471469</td>\n      <td>79375</td>\n      <td>16.06</td>\n      <td>205</td>\n      <td>1.059700e+10</td>\n      <td>166.0</td>\n      <td>17.020280</td>\n      <td>2.320536e+12</td>\n      <td>2.660591e+12</td>\n      <td>2.930304e+12</td>\n      <td>2.700887e+12</td>\n      <td>2.645188e+12</td>\n      <td>2.865158e+12</td>\n      <td>2.683672e+12</td>\n      <td>2.811877e+12</td>\n      <td>2.855964e+12</td>\n      <td>2.439189e+12</td>\n    </tr>\n    <tr>\n      <th>Spain</th>\n      <td>13</td>\n      <td>27880</td>\n      <td>27272</td>\n      <td>515485</td>\n      <td>88803</td>\n      <td>18.49</td>\n      <td>202</td>\n      <td>4.923000e+09</td>\n      <td>106.0</td>\n      <td>37.968590</td>\n      <td>1.260399e+12</td>\n      <td>1.474003e+12</td>\n      <td>1.631863e+12</td>\n      <td>1.491473e+12</td>\n      <td>1.422108e+12</td>\n      <td>1.480710e+12</td>\n      <td>1.324751e+12</td>\n      <td>1.355580e+12</td>\n      <td>1.371821e+12</td>\n      <td>1.196157e+12</td>\n    </tr>\n    <tr>\n      <th>Australia</th>\n      <td>14</td>\n      <td>25906</td>\n      <td>25237</td>\n      <td>495278</td>\n      <td>72475</td>\n      <td>19.12</td>\n      <td>212</td>\n      <td>5.386000e+09</td>\n      <td>231.0</td>\n      <td>11.810810</td>\n      <td>7.479074e+11</td>\n      <td>8.544273e+11</td>\n      <td>1.055686e+12</td>\n      <td>9.286298e+11</td>\n      <td>1.148570e+12</td>\n      <td>1.398456e+12</td>\n      <td>1.546953e+12</td>\n      <td>1.576330e+12</td>\n      <td>1.467590e+12</td>\n      <td>1.350580e+12</td>\n    </tr>\n    <tr>\n      <th>Brazil</th>\n      <td>15</td>\n      <td>25887</td>\n      <td>25493</td>\n      <td>260540</td>\n      <td>60487</td>\n      <td>10.06</td>\n      <td>145</td>\n      <td>1.214900e+10</td>\n      <td>59.0</td>\n      <td>69.648030</td>\n      <td>1.107627e+12</td>\n      <td>1.397114e+12</td>\n      <td>1.695855e+12</td>\n      <td>1.666996e+12</td>\n      <td>2.208838e+12</td>\n      <td>2.616157e+12</td>\n      <td>2.465228e+12</td>\n      <td>2.472819e+12</td>\n      <td>2.456044e+12</td>\n      <td>1.802212e+12</td>\n    </tr>\n  </tbody>\n</table>\n</div>"
     },
     "execution_count": 540,
     "metadata": {},
     "output_type": "execute_result"
    }
   ],
   "source": [
    "gdp_years = ['2006', '2007', '2008', '2009', '2010', '2011', '2012', '2013', '2014', '2015']\n",
    "def answer_one():\n",
    "    return (scim_en.sort_values(by='rank').iloc[:15, :]\n",
    "            .merge(energy, on='country')\n",
    "            .merge(gdp[['country_name', *gdp_years]], left_on='country', right_on='country_name')\n",
    "            .drop(['country_name', 'region'], axis=1)\n",
    "            .set_index('country'))\n",
    "\n",
    "answer_one()"
   ],
   "metadata": {
    "collapsed": false,
    "ExecuteTime": {
     "end_time": "2023-10-15T07:04:27.400299Z",
     "start_time": "2023-10-15T07:04:27.114408Z"
    }
   },
   "id": "fd29bfe9868ded47"
  },
  {
   "cell_type": "markdown",
   "source": [
    "### Question 2\n",
    "What is the average GDP over the last 10 years for each country? (exclude missing values from this calculation.)\n",
    "\n",
    "*This function should return a Series named `avgGDP` with 15 countries and their average GDP sorted in descending order.*"
   ],
   "metadata": {
    "collapsed": false
   },
   "id": "7d5cc79ea7bb41fb"
  },
  {
   "cell_type": "code",
   "execution_count": 541,
   "outputs": [
    {
     "data": {
      "text/plain": "country\nUnited States         1.570403e+13\nChina                 6.927707e+12\nJapan                 5.239642e+12\nGermany               3.523342e+12\nUnited Kingdom        2.780276e+12\nFrance                2.691337e+12\nItaly                 2.142986e+12\nBrazil                1.988889e+12\nRussian Federation    1.666746e+12\nCanada                1.616359e+12\nIndia                 1.602352e+12\nSpain                 1.400886e+12\nSouth Korea           1.221372e+12\nAustralia             1.207513e+12\nIran                  4.563261e+11\ndtype: float64"
     },
     "execution_count": 541,
     "metadata": {},
     "output_type": "execute_result"
    }
   ],
   "source": [
    "def answer_two():\n",
    "    top_15 = answer_one()\n",
    "    avg_gdp = top_15[gdp_years].mean(axis=1)\n",
    "    return avg_gdp.sort_values(ascending=False)\n",
    "answer_two()"
   ],
   "metadata": {
    "collapsed": false,
    "ExecuteTime": {
     "end_time": "2023-10-15T07:04:27.400407Z",
     "start_time": "2023-10-15T07:04:27.126462Z"
    }
   },
   "id": "5a4371f9259d83f1"
  },
  {
   "cell_type": "markdown",
   "source": [
    "### Question 3\n",
    "By how much had the GDP changed over the 10 year span for the country with the 6th largest average GDP?\n",
    "\n",
    "*This function should return a single number.*"
   ],
   "metadata": {
    "collapsed": false
   },
   "id": "fd1393e93879033a"
  },
  {
   "cell_type": "code",
   "execution_count": 542,
   "outputs": [
    {
     "data": {
      "text/plain": "118652421857.7998"
     },
     "execution_count": 542,
     "metadata": {},
     "output_type": "execute_result"
    }
   ],
   "source": [
    "def answer_three():\n",
    "    top_15 = answer_one()\n",
    "    avg_gdp = answer_two()\n",
    "    return top_15.loc[avg_gdp.index[5], gdp_years[-1]] - top_15.loc[avg_gdp.index[5], gdp_years[0]]\n",
    "answer_three()"
   ],
   "metadata": {
    "collapsed": false,
    "ExecuteTime": {
     "end_time": "2023-10-15T07:04:27.400493Z",
     "start_time": "2023-10-15T07:04:27.134178Z"
    }
   },
   "id": "26976f7f98c3de41"
  },
  {
   "cell_type": "markdown",
   "source": [
    "### Question 4\n",
    "\n",
    "Create a new column that is the ratio of Self-Citations to Total Citations. \n",
    "What is the maximum value for this new column, and what country has the highest ratio?\n",
    "\n",
    "*This function should return a tuple with the name of the country and the ratio.*"
   ],
   "metadata": {
    "collapsed": false
   },
   "id": "d171f3002d92f903"
  },
  {
   "cell_type": "code",
   "execution_count": 543,
   "outputs": [
    {
     "data": {
      "text/plain": "('China', 0.6854)"
     },
     "execution_count": 543,
     "metadata": {},
     "output_type": "execute_result"
    }
   ],
   "source": [
    "def answer_four():\n",
    "    top_15 = answer_one()\n",
    "    top_15['citations_ratio'] = top_15.self_citations / top_15.citations\n",
    "    max_value = top_15.citations_ratio.sort_values(ascending=False).iloc[:1]\n",
    "    return max_value.index[0], np.round(max_value.iloc[0], 4)\n",
    "answer_four()"
   ],
   "metadata": {
    "collapsed": false,
    "ExecuteTime": {
     "end_time": "2023-10-15T07:04:27.400750Z",
     "start_time": "2023-10-15T07:04:27.146311Z"
    }
   },
   "id": "aead7546ffeb32b2"
  },
  {
   "cell_type": "markdown",
   "source": [
    "### Question 5\n",
    "\n",
    "Create a column that estimates the population using Energy Supply and Energy Supply per capita. \n",
    "What is the third most populous country according to this estimate?\n",
    "\n",
    "*This function should return a single string value.*"
   ],
   "metadata": {
    "collapsed": false
   },
   "id": "a1364a1bbcfa2c70"
  },
  {
   "cell_type": "code",
   "execution_count": 544,
   "outputs": [
    {
     "data": {
      "text/plain": "'United States'"
     },
     "execution_count": 544,
     "metadata": {},
     "output_type": "execute_result"
    }
   ],
   "source": [
    "def get_top_15_with_population():\n",
    "    top_15 = answer_one()\n",
    "    top_15['population'] = (top_15.energy_supply / top_15.energy_supply_per_capita).round()\n",
    "    return top_15\n",
    "\n",
    "def answer_five():\n",
    "    top_15 = get_top_15_with_population()\n",
    "    top_15.sort_values(by='population', ascending=False, inplace=True)\n",
    "    return top_15.iloc[[2]].index[0]\n",
    "answer_five()"
   ],
   "metadata": {
    "collapsed": false,
    "ExecuteTime": {
     "end_time": "2023-10-15T07:04:27.400823Z",
     "start_time": "2023-10-15T07:04:27.152684Z"
    }
   },
   "id": "9f9f276943b8288e"
  },
  {
   "cell_type": "markdown",
   "source": [
    "### Question 6\n",
    "Create a column that estimates the number of citable documents per person. \n",
    "What is the correlation between the number of citable documents per capita and the energy supply per capita? Use the `.corr()` method, (Pearson's correlation).\n",
    "\n",
    "*This function should return a single number.*\n"
   ],
   "metadata": {
    "collapsed": false
   },
   "id": "ecd0aa9d19f34c48"
  },
  {
   "cell_type": "code",
   "execution_count": 545,
   "outputs": [
    {
     "data": {
      "text/plain": "0.71"
     },
     "execution_count": 545,
     "metadata": {},
     "output_type": "execute_result"
    }
   ],
   "source": [
    "def answer_six():\n",
    "    top_15 = get_top_15_with_population()\n",
    "    top_15['citable_documents_per_capita'] = top_15.citable_documents / top_15.population\n",
    "    return np.round(top_15['citable_documents_per_capita'].corr(top_15['energy_supply_per_capita']), 2)\n",
    "answer_six()"
   ],
   "metadata": {
    "collapsed": false,
    "ExecuteTime": {
     "end_time": "2023-10-15T07:04:27.400906Z",
     "start_time": "2023-10-15T07:04:27.158460Z"
    }
   },
   "id": "11ba9ce718195157"
  },
  {
   "cell_type": "markdown",
   "source": [
    "### Question 7\n",
    "Use the following dictionary to group the Countries by Continent, then create a dateframe that displays the sample size (the number of countries in each continent bin), and the sum, mean, and std deviation for the estimated population of each country.\n",
    "\n",
    "```python\n",
    "ContinentDict  = {'China':'Asia', \n",
    "                  'United States':'North America', \n",
    "                  'Japan':'Asia', \n",
    "                  'United Kingdom':'Europe', \n",
    "                  'Russian Federation':'Europe', \n",
    "                  'Canada':'North America', \n",
    "                  'Germany':'Europe', \n",
    "                  'India':'Asia',\n",
    "                  'France':'Europe', \n",
    "                  'South Korea':'Asia', \n",
    "                  'Italy':'Europe', \n",
    "                  'Spain':'Europe', \n",
    "                  'Iran':'Asia',\n",
    "                  'Australia':'Australia', \n",
    "                  'Brazil':'South America'}\n",
    "```\n",
    "\n",
    "*This function should return a DataFrame with index named Continent `['Asia', 'Australia', 'Europe', 'North America', 'South America']` and columns `['size', 'sum', 'mean', 'std']`*"
   ],
   "metadata": {
    "collapsed": false
   },
   "id": "22c48373cdc791d6"
  },
  {
   "cell_type": "code",
   "execution_count": 546,
   "outputs": [
    {
     "data": {
      "text/plain": "              country    population                            \n                count          mean           std           sum\ncontinent                                                      \nAsia                5  5.797333e+08  6.790979e+08  2.898666e+09\nAustralia           1  2.331602e+07           NaN  2.331602e+07\nEurope              6  7.632161e+07  3.464767e+07  4.579297e+08\nNorth America       2  1.764276e+08  1.996696e+08  3.528552e+08\nSouth America       1  2.059153e+08           NaN  2.059153e+08",
      "text/html": "<div>\n<style scoped>\n    .dataframe tbody tr th:only-of-type {\n        vertical-align: middle;\n    }\n\n    .dataframe tbody tr th {\n        vertical-align: top;\n    }\n\n    .dataframe thead tr th {\n        text-align: left;\n    }\n\n    .dataframe thead tr:last-of-type th {\n        text-align: right;\n    }\n</style>\n<table border=\"1\" class=\"dataframe\">\n  <thead>\n    <tr>\n      <th></th>\n      <th>country</th>\n      <th colspan=\"3\" halign=\"left\">population</th>\n    </tr>\n    <tr>\n      <th></th>\n      <th>count</th>\n      <th>mean</th>\n      <th>std</th>\n      <th>sum</th>\n    </tr>\n    <tr>\n      <th>continent</th>\n      <th></th>\n      <th></th>\n      <th></th>\n      <th></th>\n    </tr>\n  </thead>\n  <tbody>\n    <tr>\n      <th>Asia</th>\n      <td>5</td>\n      <td>5.797333e+08</td>\n      <td>6.790979e+08</td>\n      <td>2.898666e+09</td>\n    </tr>\n    <tr>\n      <th>Australia</th>\n      <td>1</td>\n      <td>2.331602e+07</td>\n      <td>NaN</td>\n      <td>2.331602e+07</td>\n    </tr>\n    <tr>\n      <th>Europe</th>\n      <td>6</td>\n      <td>7.632161e+07</td>\n      <td>3.464767e+07</td>\n      <td>4.579297e+08</td>\n    </tr>\n    <tr>\n      <th>North America</th>\n      <td>2</td>\n      <td>1.764276e+08</td>\n      <td>1.996696e+08</td>\n      <td>3.528552e+08</td>\n    </tr>\n    <tr>\n      <th>South America</th>\n      <td>1</td>\n      <td>2.059153e+08</td>\n      <td>NaN</td>\n      <td>2.059153e+08</td>\n    </tr>\n  </tbody>\n</table>\n</div>"
     },
     "execution_count": 546,
     "metadata": {},
     "output_type": "execute_result"
    }
   ],
   "source": [
    "country_to_continent = {\n",
    "    'China':'Asia',\n",
    "    'United States':'North America',\n",
    "    'Japan':'Asia',\n",
    "    'United Kingdom':'Europe',\n",
    "    'Russian Federation':'Europe',\n",
    "    'Canada':'North America',\n",
    "    'Germany':'Europe',\n",
    "    'India':'Asia',\n",
    "    'France':'Europe',\n",
    "    'South Korea':'Asia',\n",
    "    'Italy':'Europe',\n",
    "    'Spain':'Europe',\n",
    "    'Iran':'Asia',\n",
    "    'Australia':'Australia',\n",
    "    'Brazil':'South America'\n",
    "}\n",
    "\n",
    "def answer_seven():\n",
    "    top_15 = get_top_15_with_population()\n",
    "    top_15['continent'] = [country_to_continent[country] for country in top_15.index.to_list()]\n",
    "    continent_stat = top_15.reset_index().pivot_table(\n",
    "        index='continent', values=['country', 'population'], \n",
    "        aggfunc={'country': 'count', 'population': ['sum', 'mean', 'std']}\n",
    "    )\n",
    "    return continent_stat\n",
    "answer_seven()"
   ],
   "metadata": {
    "collapsed": false,
    "ExecuteTime": {
     "end_time": "2023-10-15T07:04:27.401046Z",
     "start_time": "2023-10-15T07:04:27.170879Z"
    }
   },
   "id": "bed20af0f9fa9fdf"
  },
  {
   "cell_type": "code",
   "execution_count": 546,
   "outputs": [],
   "source": [],
   "metadata": {
    "collapsed": false,
    "ExecuteTime": {
     "end_time": "2023-10-15T07:04:27.401077Z",
     "start_time": "2023-10-15T07:04:27.180968Z"
    }
   },
   "id": "b7dc084776d15a96"
  },
  {
   "cell_type": "code",
   "execution_count": 546,
   "outputs": [],
   "source": [],
   "metadata": {
    "collapsed": false,
    "ExecuteTime": {
     "end_time": "2023-10-15T07:04:27.401105Z",
     "start_time": "2023-10-15T07:04:27.182702Z"
    }
   },
   "id": "f7a9cd8d4a2cce5b"
  },
  {
   "cell_type": "code",
   "execution_count": 546,
   "outputs": [],
   "source": [],
   "metadata": {
    "collapsed": false,
    "ExecuteTime": {
     "end_time": "2023-10-15T07:04:27.401133Z",
     "start_time": "2023-10-15T07:04:27.184594Z"
    }
   },
   "id": "92f685443dde7ad5"
  }
 ],
 "metadata": {
  "kernelspec": {
   "display_name": "Python 3 (ipykernel)",
   "language": "python",
   "name": "python3"
  },
  "language_info": {
   "codemirror_mode": {
    "name": "ipython",
    "version": 3
   },
   "file_extension": ".py",
   "mimetype": "text/x-python",
   "name": "python",
   "nbconvert_exporter": "python",
   "pygments_lexer": "ipython3",
   "version": "3.11.5"
  }
 },
 "nbformat": 4,
 "nbformat_minor": 5
}
