{
 "cells": [
  {
   "cell_type": "markdown",
   "id": "3214b2cd277241cd",
   "metadata": {
    "collapsed": false
   },
   "source": [
    "# Home task: pandas \n",
    "\n",
    "### Question 1\n",
    "\n",
    "- Load the energy data from the file [Energy Indicators.xls](http://unstats.un.org/unsd/environment/excel_file_tables/2013/Energy%20Indicators.xls).\n",
    "It is a list of indicators of energy supply and renewable electricity production from the United Nations for the year 2013.\n",
    "\n",
    "\n",
    "- It should be put into a DataFrame with the variable name of \"energy\"\n",
    "\n",
    "\n",
    "- Make sure to exclude the footer and header information from the datafile.\n",
    "\n",
    "\n",
    "- The first two columns are unneccessary, so you should get rid of them, and you should change the column labels so that the columns are:<br>\n",
    "`['Country', 'Energy Supply', 'Energy Supply per Capita', '% Renewable']`\n",
    "\n",
    "\n",
    "- Convert `Energy Supply` to gigajoules (there are 1,000,000 gigajoules in a petajoule).\n",
    "\n",
    "\n",
    "- For all countries which have missing data (e.g. data with `...`) make sure this is reflected as `np.NaN` values.\n",
    "\n",
    "\n",
    "- Rename the following list of countries (for use in later questions):\n",
    "    - `Republic of Korea`: `South Korea`,\n",
    "    - `United States of America`: `United States`,\n",
    "    - `United Kingdom of Great Britain and Northern Ireland`: `United Kingdom`,\n",
    "    - `China, Hong Kong Special Administrative Region`: `Hong Kong`\n",
    "\n",
    "\n",
    "- There are also several countries with numbers and/or parenthesis in their name. Be sure to remove these, e.g.:\n",
    "    - `Bolivia (Plurinational State of)` should be `Bolivia`,\n",
    "    - `Switzerland17` should be `Switzerland`.\n",
    "\n",
    "\n",
    "- Next, load the GDP data from the file [\"world_bank.csv\"](http://data.worldbank.org/indicator/NY.GDP.MKTP.CD). \n",
    "It is a csv containing countries' GDP from 1960 to 2015 from World Bank. Call this DataFrame \"GDP\"\n",
    "\n",
    "\n",
    "- Make sure to skip the header, and rename the following list of countries:\n",
    "    - `Korea, Rep.`: `South Korea`,\n",
    "    - `Iran, Islamic Rep.`: `Iran`,\n",
    "    - `Hong Kong SAR, China`: `Hong Kong`\n",
    "\n",
    "\n",
    "- Finally, load the \"Sciamgo Journal and Country Rank data for [Energy Engineering and Power Technology\"](http://www.scimagojr.com/countryrank.php?category=2102). It ranks countries based on their journal contributions in the aforementioned area. Call this DataFrame \"ScimEn\"\n",
    "\n",
    "\n",
    "- Join the three datasets: Energy, GDP, and ScimEn into a new dataset (using the intersection of country names). Use only the 10 years (2006-2015) of GDP data and only the top 15 countries by Scimagojr 'Rank' (Rank 1 through 15).\n",
    "\n",
    "\n",
    "- The index of this DataFrame should be the name of the country, and the columns should be<br>\n",
    "`['Rank', 'Documents', 'Citable documents', 'Citations', 'Self-citations', 'Citations per document', 'H index', 'Energy Supply', 'Energy Supply per Capita', '% Renewable', '2006', '2007', '2008', '2009', '2010', '2011', 2012', '2013', '2014', '2015']`\n",
    "\n",
    "Function \"answer_one\" should return the resulted DataFrame (20 columns and 15 entries)\n",
    "\n",
    "Answer the following questions in the context of only the top 15 countries by Scimagojr Rank (aka the DataFrame returned by `answer_one()`)\n"
   ]
  },
  {
   "cell_type": "markdown",
   "source": [
    "#### Importing modules"
   ],
   "metadata": {
    "collapsed": false
   },
   "id": "783bd5f12d6f0de9"
  },
  {
   "cell_type": "code",
   "execution_count": 668,
   "id": "f9c1482d06a34f48",
   "metadata": {
    "collapsed": false,
    "ExecuteTime": {
     "end_time": "2023-10-15T18:49:51.292873Z",
     "start_time": "2023-10-15T18:49:51.064686Z"
    }
   },
   "outputs": [],
   "source": [
    "import pandas as pd\n",
    "import numpy as np\n",
    "import re\n",
    "from IPython.display import display"
   ]
  },
  {
   "cell_type": "markdown",
   "source": [
    "#### Reading the energy data"
   ],
   "metadata": {
    "collapsed": false
   },
   "id": "ad74580daa5ef749"
  },
  {
   "cell_type": "code",
   "execution_count": 669,
   "outputs": [
    {
     "data": {
      "text/plain": "    Unnamed: 0           Unnamed: 1           Unnamed: 2 Petajoules  \\\n0          NaN          Afghanistan          Afghanistan        321   \n1          NaN              Albania              Albania        102   \n2          NaN              Algeria              Algeria       1959   \n3          NaN       American Samoa       American Samoa        ...   \n4          NaN              Andorra              Andorra          9   \n5          NaN               Angola               Angola        642   \n6          NaN             Anguilla             Anguilla          2   \n7          NaN  Antigua and Barbuda  Antigua and Barbuda          8   \n8          NaN            Argentina            Argentina       3378   \n9          NaN              Armenia              Armenia        143   \n10         NaN                Aruba                Aruba         12   \n11         NaN            Australia           Australia1       5386   \n12         NaN              Austria              Austria       1391   \n13         NaN           Azerbaijan           Azerbaijan        567   \n14         NaN              Bahamas              Bahamas         45   \n15         NaN              Bahrain              Bahrain        574   \n16         NaN           Bangladesh           Bangladesh       1625   \n17         NaN             Barbados             Barbados         19   \n18         NaN              Belarus              Belarus       1142   \n19         NaN              Belgium              Belgium       2338   \n\n   Gigajoules           %  \n0          10   78.669280  \n1          35  100.000000  \n2          51    0.551010  \n3         ...    0.641026  \n4         121   88.695650  \n5          27   70.909090  \n6         136    0.000000  \n7          84    0.000000  \n8          79   24.064520  \n9          48   28.236060  \n10        120   14.870690  \n11        231   11.810810  \n12        164   72.452820  \n13         60    6.384345  \n14        118    0.000000  \n15        425    0.000000  \n16         10    1.966329  \n17         69    0.000000  \n18        120    0.463389  \n19        210    9.959739  ",
      "text/html": "<div>\n<style scoped>\n    .dataframe tbody tr th:only-of-type {\n        vertical-align: middle;\n    }\n\n    .dataframe tbody tr th {\n        vertical-align: top;\n    }\n\n    .dataframe thead th {\n        text-align: right;\n    }\n</style>\n<table border=\"1\" class=\"dataframe\">\n  <thead>\n    <tr style=\"text-align: right;\">\n      <th></th>\n      <th>Unnamed: 0</th>\n      <th>Unnamed: 1</th>\n      <th>Unnamed: 2</th>\n      <th>Petajoules</th>\n      <th>Gigajoules</th>\n      <th>%</th>\n    </tr>\n  </thead>\n  <tbody>\n    <tr>\n      <th>0</th>\n      <td>NaN</td>\n      <td>Afghanistan</td>\n      <td>Afghanistan</td>\n      <td>321</td>\n      <td>10</td>\n      <td>78.669280</td>\n    </tr>\n    <tr>\n      <th>1</th>\n      <td>NaN</td>\n      <td>Albania</td>\n      <td>Albania</td>\n      <td>102</td>\n      <td>35</td>\n      <td>100.000000</td>\n    </tr>\n    <tr>\n      <th>2</th>\n      <td>NaN</td>\n      <td>Algeria</td>\n      <td>Algeria</td>\n      <td>1959</td>\n      <td>51</td>\n      <td>0.551010</td>\n    </tr>\n    <tr>\n      <th>3</th>\n      <td>NaN</td>\n      <td>American Samoa</td>\n      <td>American Samoa</td>\n      <td>...</td>\n      <td>...</td>\n      <td>0.641026</td>\n    </tr>\n    <tr>\n      <th>4</th>\n      <td>NaN</td>\n      <td>Andorra</td>\n      <td>Andorra</td>\n      <td>9</td>\n      <td>121</td>\n      <td>88.695650</td>\n    </tr>\n    <tr>\n      <th>5</th>\n      <td>NaN</td>\n      <td>Angola</td>\n      <td>Angola</td>\n      <td>642</td>\n      <td>27</td>\n      <td>70.909090</td>\n    </tr>\n    <tr>\n      <th>6</th>\n      <td>NaN</td>\n      <td>Anguilla</td>\n      <td>Anguilla</td>\n      <td>2</td>\n      <td>136</td>\n      <td>0.000000</td>\n    </tr>\n    <tr>\n      <th>7</th>\n      <td>NaN</td>\n      <td>Antigua and Barbuda</td>\n      <td>Antigua and Barbuda</td>\n      <td>8</td>\n      <td>84</td>\n      <td>0.000000</td>\n    </tr>\n    <tr>\n      <th>8</th>\n      <td>NaN</td>\n      <td>Argentina</td>\n      <td>Argentina</td>\n      <td>3378</td>\n      <td>79</td>\n      <td>24.064520</td>\n    </tr>\n    <tr>\n      <th>9</th>\n      <td>NaN</td>\n      <td>Armenia</td>\n      <td>Armenia</td>\n      <td>143</td>\n      <td>48</td>\n      <td>28.236060</td>\n    </tr>\n    <tr>\n      <th>10</th>\n      <td>NaN</td>\n      <td>Aruba</td>\n      <td>Aruba</td>\n      <td>12</td>\n      <td>120</td>\n      <td>14.870690</td>\n    </tr>\n    <tr>\n      <th>11</th>\n      <td>NaN</td>\n      <td>Australia</td>\n      <td>Australia1</td>\n      <td>5386</td>\n      <td>231</td>\n      <td>11.810810</td>\n    </tr>\n    <tr>\n      <th>12</th>\n      <td>NaN</td>\n      <td>Austria</td>\n      <td>Austria</td>\n      <td>1391</td>\n      <td>164</td>\n      <td>72.452820</td>\n    </tr>\n    <tr>\n      <th>13</th>\n      <td>NaN</td>\n      <td>Azerbaijan</td>\n      <td>Azerbaijan</td>\n      <td>567</td>\n      <td>60</td>\n      <td>6.384345</td>\n    </tr>\n    <tr>\n      <th>14</th>\n      <td>NaN</td>\n      <td>Bahamas</td>\n      <td>Bahamas</td>\n      <td>45</td>\n      <td>118</td>\n      <td>0.000000</td>\n    </tr>\n    <tr>\n      <th>15</th>\n      <td>NaN</td>\n      <td>Bahrain</td>\n      <td>Bahrain</td>\n      <td>574</td>\n      <td>425</td>\n      <td>0.000000</td>\n    </tr>\n    <tr>\n      <th>16</th>\n      <td>NaN</td>\n      <td>Bangladesh</td>\n      <td>Bangladesh</td>\n      <td>1625</td>\n      <td>10</td>\n      <td>1.966329</td>\n    </tr>\n    <tr>\n      <th>17</th>\n      <td>NaN</td>\n      <td>Barbados</td>\n      <td>Barbados</td>\n      <td>19</td>\n      <td>69</td>\n      <td>0.000000</td>\n    </tr>\n    <tr>\n      <th>18</th>\n      <td>NaN</td>\n      <td>Belarus</td>\n      <td>Belarus</td>\n      <td>1142</td>\n      <td>120</td>\n      <td>0.463389</td>\n    </tr>\n    <tr>\n      <th>19</th>\n      <td>NaN</td>\n      <td>Belgium</td>\n      <td>Belgium</td>\n      <td>2338</td>\n      <td>210</td>\n      <td>9.959739</td>\n    </tr>\n  </tbody>\n</table>\n</div>"
     },
     "execution_count": 669,
     "metadata": {},
     "output_type": "execute_result"
    }
   ],
   "source": [
    "energy = pd.read_excel('./datasets/energy_indicators.xls', skiprows=17, skipfooter=38)\n",
    "energy.head(20)"
   ],
   "metadata": {
    "collapsed": false,
    "ExecuteTime": {
     "end_time": "2023-10-15T18:49:51.476263Z",
     "start_time": "2023-10-15T18:49:51.081880Z"
    }
   },
   "id": "81aaa4120f52d9fe"
  },
  {
   "cell_type": "markdown",
   "source": [
    "#### Inspecting the data\n",
    "   1.  Checking the number of rows and columns\n",
    "   2.  Getting a summary of the dataframe\n",
    "   3.  Checking the data for null values\n",
    "   4.  Checking the duplicates in the dataframe"
   ],
   "metadata": {
    "collapsed": false
   },
   "id": "91081498bfedad35"
  },
  {
   "cell_type": "code",
   "execution_count": 670,
   "outputs": [
    {
     "data": {
      "text/plain": "(227, 6)"
     },
     "execution_count": 670,
     "metadata": {},
     "output_type": "execute_result"
    }
   ],
   "source": [
    "energy.shape"
   ],
   "metadata": {
    "collapsed": false,
    "ExecuteTime": {
     "end_time": "2023-10-15T18:49:51.484156Z",
     "start_time": "2023-10-15T18:49:51.111164Z"
    }
   },
   "id": "1a3f321f0efd01f9"
  },
  {
   "cell_type": "code",
   "execution_count": 671,
   "outputs": [
    {
     "data": {
      "text/plain": "Index(['Unnamed: 0', 'Unnamed: 1', 'Unnamed: 2', 'Petajoules', 'Gigajoules',\n       '%'],\n      dtype='object')"
     },
     "execution_count": 671,
     "metadata": {},
     "output_type": "execute_result"
    }
   ],
   "source": [
    "energy.columns"
   ],
   "metadata": {
    "collapsed": false,
    "ExecuteTime": {
     "end_time": "2023-10-15T18:49:51.484309Z",
     "start_time": "2023-10-15T18:49:51.114709Z"
    }
   },
   "id": "f4fa16d36a8a3692"
  },
  {
   "cell_type": "code",
   "execution_count": 672,
   "outputs": [
    {
     "name": "stdout",
     "output_type": "stream",
     "text": [
      "<class 'pandas.core.frame.DataFrame'>\n",
      "RangeIndex: 227 entries, 0 to 226\n",
      "Data columns (total 6 columns):\n",
      " #   Column      Non-Null Count  Dtype  \n",
      "---  ------      --------------  -----  \n",
      " 0   Unnamed: 0  0 non-null      float64\n",
      " 1   Unnamed: 1  227 non-null    object \n",
      " 2   Unnamed: 2  227 non-null    object \n",
      " 3   Petajoules  227 non-null    object \n",
      " 4   Gigajoules  227 non-null    object \n",
      " 5   %           227 non-null    float64\n",
      "dtypes: float64(2), object(4)\n",
      "memory usage: 10.8+ KB\n"
     ]
    }
   ],
   "source": [
    "energy.info()"
   ],
   "metadata": {
    "collapsed": false,
    "ExecuteTime": {
     "end_time": "2023-10-15T18:49:51.530391Z",
     "start_time": "2023-10-15T18:49:51.130171Z"
    }
   },
   "id": "a1d46514982d8264"
  },
  {
   "cell_type": "code",
   "execution_count": 673,
   "outputs": [
    {
     "data": {
      "text/plain": "Unnamed: 0    227\nUnnamed: 1      0\nUnnamed: 2      0\nPetajoules      0\nGigajoules      0\n%               0\ndtype: int64"
     },
     "execution_count": 673,
     "metadata": {},
     "output_type": "execute_result"
    }
   ],
   "source": [
    "energy.isnull().sum()"
   ],
   "metadata": {
    "collapsed": false,
    "ExecuteTime": {
     "end_time": "2023-10-15T18:49:51.530596Z",
     "start_time": "2023-10-15T18:49:51.133557Z"
    }
   },
   "id": "250116c5b7684fea"
  },
  {
   "cell_type": "code",
   "execution_count": 674,
   "outputs": [
    {
     "data": {
      "text/plain": "0"
     },
     "execution_count": 674,
     "metadata": {},
     "output_type": "execute_result"
    }
   ],
   "source": [
    "energy.duplicated().sum()"
   ],
   "metadata": {
    "collapsed": false,
    "ExecuteTime": {
     "end_time": "2023-10-15T18:49:51.542528Z",
     "start_time": "2023-10-15T18:49:51.137856Z"
    }
   },
   "id": "28ee923491e8888d"
  },
  {
   "cell_type": "markdown",
   "source": [
    "#### Observation\n",
    "1. The column names lack clarity and would benefit from more specific details.\n",
    "2. The `Unnamed: 0` column appears to be empty and can be safely removed.\n",
    "3. It seems that columns `Unnamed: 1` and `Unnamed: 2` likely contain redundant information, so one of them can be deleted.\n",
    "4. The data types for the `Petajoules` and `Gigajoules` columns should be changed to `int64`. Also columns should be converted to a uniform unit of measurement - Gigajoules.\n",
    "5. There are no duplicate entries in the dataframe.\n",
    "6. While there are no null values in the dataframe, it's worth noting that the `Petajoules` and `Gigajoules` columns contain some dirty data, such as the presence of `...` symbols.\n"
   ],
   "metadata": {
    "collapsed": false
   },
   "id": "a798f9762a45496f"
  },
  {
   "cell_type": "markdown",
   "source": [
    "#### Data cleaning and manipulation"
   ],
   "metadata": {
    "collapsed": false
   },
   "id": "7943a1920d6552d7"
  },
  {
   "cell_type": "code",
   "execution_count": 675,
   "outputs": [
    {
     "data": {
      "text/plain": "     Unnamed: 0                                         Unnamed: 1  \\\n11          NaN                                          Australia   \n42          NaN                                              China   \n43          NaN     China, Hong Kong Special Administrative Region   \n44          NaN         China, Macao Special Administrative Region   \n58          NaN                                            Denmark   \n73          NaN                                             France   \n83          NaN                                          Greenland   \n97          NaN                                          Indonesia   \n103         NaN                                              Italy   \n105         NaN                                              Japan   \n111         NaN                                             Kuwait   \n143         NaN                                        Netherlands   \n161         NaN                                           Portugal   \n177         NaN                                       Saudi Arabia   \n179         NaN                                             Serbia   \n190         NaN                                              Spain   \n197         NaN                                        Switzerland   \n212         NaN                                            Ukraine   \n214         NaN  United Kingdom of Great Britain and Northern I...   \n216         NaN                           United States of America   \n\n                                            Unnamed: 2 Petajoules Gigajoules  \\\n11                                          Australia1       5386        231   \n42                                              China2     127191         93   \n43     China, Hong Kong Special Administrative Region3        585         82   \n44         China, Macao Special Administrative Region4         47         83   \n58                                            Denmark5        725        129   \n73                                             France6      10597        166   \n83                                          Greenland7          9        166   \n97                                          Indonesia8       8754         35   \n103                                             Italy9       6530        109   \n105                                            Japan10      18984        149   \n111                                           Kuwait11       1475        410   \n143                                      Netherlands12       3199        190   \n161                                         Portugal13        899         86   \n177                                     Saudi Arabia14       7985        264   \n179                                           Serbia15        618         69   \n190                                            Spain16       4923        106   \n197                                      Switzerland17       1113        136   \n212                                          Ukraine18       4844        107   \n214  United Kingdom of Great Britain and Northern I...       7920        124   \n216                         United States of America20      90838        286   \n\n             %  \n11   11.810810  \n42   19.754910  \n43    0.000000  \n44    0.000000  \n58   33.537660  \n73   17.020280  \n83   78.125000  \n97   12.189040  \n103  33.667230  \n105  10.232820  \n111   0.000000  \n143   6.324659  \n161  53.340300  \n177   0.000352  \n179  27.216190  \n190  37.968590  \n197  57.745480  \n212   8.067312  \n214  10.600470  \n216  11.570980  ",
      "text/html": "<div>\n<style scoped>\n    .dataframe tbody tr th:only-of-type {\n        vertical-align: middle;\n    }\n\n    .dataframe tbody tr th {\n        vertical-align: top;\n    }\n\n    .dataframe thead th {\n        text-align: right;\n    }\n</style>\n<table border=\"1\" class=\"dataframe\">\n  <thead>\n    <tr style=\"text-align: right;\">\n      <th></th>\n      <th>Unnamed: 0</th>\n      <th>Unnamed: 1</th>\n      <th>Unnamed: 2</th>\n      <th>Petajoules</th>\n      <th>Gigajoules</th>\n      <th>%</th>\n    </tr>\n  </thead>\n  <tbody>\n    <tr>\n      <th>11</th>\n      <td>NaN</td>\n      <td>Australia</td>\n      <td>Australia1</td>\n      <td>5386</td>\n      <td>231</td>\n      <td>11.810810</td>\n    </tr>\n    <tr>\n      <th>42</th>\n      <td>NaN</td>\n      <td>China</td>\n      <td>China2</td>\n      <td>127191</td>\n      <td>93</td>\n      <td>19.754910</td>\n    </tr>\n    <tr>\n      <th>43</th>\n      <td>NaN</td>\n      <td>China, Hong Kong Special Administrative Region</td>\n      <td>China, Hong Kong Special Administrative Region3</td>\n      <td>585</td>\n      <td>82</td>\n      <td>0.000000</td>\n    </tr>\n    <tr>\n      <th>44</th>\n      <td>NaN</td>\n      <td>China, Macao Special Administrative Region</td>\n      <td>China, Macao Special Administrative Region4</td>\n      <td>47</td>\n      <td>83</td>\n      <td>0.000000</td>\n    </tr>\n    <tr>\n      <th>58</th>\n      <td>NaN</td>\n      <td>Denmark</td>\n      <td>Denmark5</td>\n      <td>725</td>\n      <td>129</td>\n      <td>33.537660</td>\n    </tr>\n    <tr>\n      <th>73</th>\n      <td>NaN</td>\n      <td>France</td>\n      <td>France6</td>\n      <td>10597</td>\n      <td>166</td>\n      <td>17.020280</td>\n    </tr>\n    <tr>\n      <th>83</th>\n      <td>NaN</td>\n      <td>Greenland</td>\n      <td>Greenland7</td>\n      <td>9</td>\n      <td>166</td>\n      <td>78.125000</td>\n    </tr>\n    <tr>\n      <th>97</th>\n      <td>NaN</td>\n      <td>Indonesia</td>\n      <td>Indonesia8</td>\n      <td>8754</td>\n      <td>35</td>\n      <td>12.189040</td>\n    </tr>\n    <tr>\n      <th>103</th>\n      <td>NaN</td>\n      <td>Italy</td>\n      <td>Italy9</td>\n      <td>6530</td>\n      <td>109</td>\n      <td>33.667230</td>\n    </tr>\n    <tr>\n      <th>105</th>\n      <td>NaN</td>\n      <td>Japan</td>\n      <td>Japan10</td>\n      <td>18984</td>\n      <td>149</td>\n      <td>10.232820</td>\n    </tr>\n    <tr>\n      <th>111</th>\n      <td>NaN</td>\n      <td>Kuwait</td>\n      <td>Kuwait11</td>\n      <td>1475</td>\n      <td>410</td>\n      <td>0.000000</td>\n    </tr>\n    <tr>\n      <th>143</th>\n      <td>NaN</td>\n      <td>Netherlands</td>\n      <td>Netherlands12</td>\n      <td>3199</td>\n      <td>190</td>\n      <td>6.324659</td>\n    </tr>\n    <tr>\n      <th>161</th>\n      <td>NaN</td>\n      <td>Portugal</td>\n      <td>Portugal13</td>\n      <td>899</td>\n      <td>86</td>\n      <td>53.340300</td>\n    </tr>\n    <tr>\n      <th>177</th>\n      <td>NaN</td>\n      <td>Saudi Arabia</td>\n      <td>Saudi Arabia14</td>\n      <td>7985</td>\n      <td>264</td>\n      <td>0.000352</td>\n    </tr>\n    <tr>\n      <th>179</th>\n      <td>NaN</td>\n      <td>Serbia</td>\n      <td>Serbia15</td>\n      <td>618</td>\n      <td>69</td>\n      <td>27.216190</td>\n    </tr>\n    <tr>\n      <th>190</th>\n      <td>NaN</td>\n      <td>Spain</td>\n      <td>Spain16</td>\n      <td>4923</td>\n      <td>106</td>\n      <td>37.968590</td>\n    </tr>\n    <tr>\n      <th>197</th>\n      <td>NaN</td>\n      <td>Switzerland</td>\n      <td>Switzerland17</td>\n      <td>1113</td>\n      <td>136</td>\n      <td>57.745480</td>\n    </tr>\n    <tr>\n      <th>212</th>\n      <td>NaN</td>\n      <td>Ukraine</td>\n      <td>Ukraine18</td>\n      <td>4844</td>\n      <td>107</td>\n      <td>8.067312</td>\n    </tr>\n    <tr>\n      <th>214</th>\n      <td>NaN</td>\n      <td>United Kingdom of Great Britain and Northern I...</td>\n      <td>United Kingdom of Great Britain and Northern I...</td>\n      <td>7920</td>\n      <td>124</td>\n      <td>10.600470</td>\n    </tr>\n    <tr>\n      <th>216</th>\n      <td>NaN</td>\n      <td>United States of America</td>\n      <td>United States of America20</td>\n      <td>90838</td>\n      <td>286</td>\n      <td>11.570980</td>\n    </tr>\n  </tbody>\n</table>\n</div>"
     },
     "execution_count": 675,
     "metadata": {},
     "output_type": "execute_result"
    }
   ],
   "source": [
    "energy[energy['Unnamed: 1'] != energy['Unnamed: 2']]"
   ],
   "metadata": {
    "collapsed": false,
    "ExecuteTime": {
     "end_time": "2023-10-15T18:49:51.547274Z",
     "start_time": "2023-10-15T18:49:51.143814Z"
    }
   },
   "id": "6c38da645a242fb5"
  },
  {
   "cell_type": "markdown",
   "source": [
    "It's evident that both `Unnamed: 1` and `Unnamed: 2` contain identical country data. `Unnamed: 1` appears to be the clearer option and should be retained."
   ],
   "metadata": {
    "collapsed": false
   },
   "id": "30224c45739e5579"
  },
  {
   "cell_type": "code",
   "execution_count": 676,
   "outputs": [],
   "source": [
    "energy = energy.drop(energy.columns[[0, 2]], axis=1)"
   ],
   "metadata": {
    "collapsed": false,
    "ExecuteTime": {
     "end_time": "2023-10-15T18:49:51.575011Z",
     "start_time": "2023-10-15T18:49:51.147841Z"
    }
   },
   "id": "673717765ce33053"
  },
  {
   "cell_type": "markdown",
   "source": [
    "Let's assign names to the columns:\n",
    "\n",
    "* `Unnamed: 1` will be labeled as `country` - the country name\n",
    "* `Petajoules` as `energy_supply` - the total amount of provided energy to meet the country's needs\n",
    "* `Gigajoules` as `energy_supply_per_capita` - the average energy available or consumed per individual\n",
    "* `%` as `renewable_%` - the percentage of renewable energy in the overall energy supply"
   ],
   "metadata": {
    "collapsed": false
   },
   "id": "27af8d33dfc3e77d"
  },
  {
   "cell_type": "code",
   "execution_count": 677,
   "outputs": [],
   "source": [
    "energy.columns = ['country', 'energy_supply', 'energy_supply_per_capita', 'renewable_%']"
   ],
   "metadata": {
    "collapsed": false,
    "ExecuteTime": {
     "end_time": "2023-10-15T18:49:51.578673Z",
     "start_time": "2023-10-15T18:49:51.152656Z"
    }
   },
   "id": "797316d0a8f3a96c"
  },
  {
   "cell_type": "markdown",
   "source": [
    "Let's change data type of `energy_supply` and `energy_supply_per_capita` and convert `energy_supply` to Gigajoules."
   ],
   "metadata": {
    "collapsed": false
   },
   "id": "32c327320ab6699c"
  },
  {
   "cell_type": "code",
   "execution_count": 678,
   "outputs": [],
   "source": [
    "num_columns = ['energy_supply', 'energy_supply_per_capita', 'renewable_%']\n",
    "energy[num_columns] = energy[energy[num_columns].map(np.isreal)][num_columns]\n",
    "energy[num_columns] = energy[num_columns].astype('float64') #converting to float as columns contain NaN\n",
    "energy.energy_supply = energy.energy_supply * 1000000"
   ],
   "metadata": {
    "collapsed": false,
    "ExecuteTime": {
     "end_time": "2023-10-15T18:49:51.586784Z",
     "start_time": "2023-10-15T18:49:51.160070Z"
    }
   },
   "id": "bd4a3209cd8042dc"
  },
  {
   "cell_type": "markdown",
   "source": [
    "We should rename some countries for further work."
   ],
   "metadata": {
    "collapsed": false
   },
   "id": "e34e4c70ac348c20"
  },
  {
   "cell_type": "code",
   "execution_count": 679,
   "outputs": [],
   "source": [
    "renamed_countries = {\n",
    "    'Republic of Korea': 'South Korea',\n",
    "    'United States of America': 'United States',\n",
    "    'United Kingdom of Great Britain and Northern Ireland': 'United Kingdom',\n",
    "    'China, Hong Kong Special Administrative Region': 'Hong Kong',\n",
    "}\n",
    "energy.country = energy.country.replace(renamed_countries)"
   ],
   "metadata": {
    "collapsed": false,
    "ExecuteTime": {
     "end_time": "2023-10-15T18:49:51.586891Z",
     "start_time": "2023-10-15T18:49:51.165773Z"
    }
   },
   "id": "f2a7739cea109162"
  },
  {
   "cell_type": "markdown",
   "source": [
    "Checking if there are numbers and parenthesis in the `country` column."
   ],
   "metadata": {
    "collapsed": false
   },
   "id": "a94da46d4e00a06a"
  },
  {
   "cell_type": "code",
   "execution_count": 680,
   "outputs": [
    {
     "data": {
      "text/plain": "0"
     },
     "execution_count": 680,
     "metadata": {},
     "output_type": "execute_result"
    }
   ],
   "source": [
    "def has_numbers(input_string):\n",
    "    return any(map(str.isdigit, input_string))\n",
    "\n",
    "energy.country.apply(has_numbers).sum()"
   ],
   "metadata": {
    "collapsed": false,
    "ExecuteTime": {
     "end_time": "2023-10-15T18:49:51.597569Z",
     "start_time": "2023-10-15T18:49:51.169922Z"
    }
   },
   "id": "3aa1af7187daf785"
  },
  {
   "cell_type": "code",
   "execution_count": 681,
   "outputs": [
    {
     "data": {
      "text/plain": "                                country  energy_supply  \\\n24     Bolivia (Plurinational State of)   3.360000e+08   \n70          Falkland Islands (Malvinas)   1.000000e+06   \n98           Iran (Islamic Republic of)   9.172000e+09   \n133    Micronesia (Federated States of)   2.000000e+06   \n183           Sint Maarten (Dutch part)   1.200000e+07   \n221  Venezuela (Bolivarian Republic of)   2.871000e+09   \n\n     energy_supply_per_capita  renewable_%  \n24                       32.0    31.477120  \n70                      258.0    33.333330  \n98                      119.0     5.707721  \n133                      21.0     2.941176  \n183                     327.0     0.000000  \n221                      95.0    67.834520  ",
      "text/html": "<div>\n<style scoped>\n    .dataframe tbody tr th:only-of-type {\n        vertical-align: middle;\n    }\n\n    .dataframe tbody tr th {\n        vertical-align: top;\n    }\n\n    .dataframe thead th {\n        text-align: right;\n    }\n</style>\n<table border=\"1\" class=\"dataframe\">\n  <thead>\n    <tr style=\"text-align: right;\">\n      <th></th>\n      <th>country</th>\n      <th>energy_supply</th>\n      <th>energy_supply_per_capita</th>\n      <th>renewable_%</th>\n    </tr>\n  </thead>\n  <tbody>\n    <tr>\n      <th>24</th>\n      <td>Bolivia (Plurinational State of)</td>\n      <td>3.360000e+08</td>\n      <td>32.0</td>\n      <td>31.477120</td>\n    </tr>\n    <tr>\n      <th>70</th>\n      <td>Falkland Islands (Malvinas)</td>\n      <td>1.000000e+06</td>\n      <td>258.0</td>\n      <td>33.333330</td>\n    </tr>\n    <tr>\n      <th>98</th>\n      <td>Iran (Islamic Republic of)</td>\n      <td>9.172000e+09</td>\n      <td>119.0</td>\n      <td>5.707721</td>\n    </tr>\n    <tr>\n      <th>133</th>\n      <td>Micronesia (Federated States of)</td>\n      <td>2.000000e+06</td>\n      <td>21.0</td>\n      <td>2.941176</td>\n    </tr>\n    <tr>\n      <th>183</th>\n      <td>Sint Maarten (Dutch part)</td>\n      <td>1.200000e+07</td>\n      <td>327.0</td>\n      <td>0.000000</td>\n    </tr>\n    <tr>\n      <th>221</th>\n      <td>Venezuela (Bolivarian Republic of)</td>\n      <td>2.871000e+09</td>\n      <td>95.0</td>\n      <td>67.834520</td>\n    </tr>\n  </tbody>\n</table>\n</div>"
     },
     "execution_count": 681,
     "metadata": {},
     "output_type": "execute_result"
    }
   ],
   "source": [
    "energy[energy.country.str.contains('\\(')]"
   ],
   "metadata": {
    "collapsed": false,
    "ExecuteTime": {
     "end_time": "2023-10-15T18:49:51.608910Z",
     "start_time": "2023-10-15T18:49:51.174986Z"
    }
   },
   "id": "4b639d96aae89ead"
  },
  {
   "cell_type": "markdown",
   "source": [
    "Removing the parenthesis area in country names."
   ],
   "metadata": {
    "collapsed": false
   },
   "id": "ec55ae44b36273bd"
  },
  {
   "cell_type": "code",
   "execution_count": 682,
   "outputs": [],
   "source": [
    "def remove_parenthesis_area_in_str(input_string):\n",
    "    return re.sub(r\" ?\\([^)]+\\)\", \"\", input_string)\n",
    "\n",
    "energy.country = energy.country.apply(remove_parenthesis_area_in_str)"
   ],
   "metadata": {
    "collapsed": false,
    "ExecuteTime": {
     "end_time": "2023-10-15T18:49:51.609025Z",
     "start_time": "2023-10-15T18:49:51.177552Z"
    }
   },
   "id": "5b8b7d75b84817a5"
  },
  {
   "cell_type": "markdown",
   "source": [
    "#### Reading the gdp data"
   ],
   "metadata": {
    "collapsed": false
   },
   "id": "3f857bf8b2a6fd11"
  },
  {
   "cell_type": "code",
   "execution_count": 683,
   "outputs": [
    {
     "data": {
      "text/plain": "                  Country Name Country Code     Indicator Name  \\\n0                        Aruba          ABW  GDP (current US$)   \n1  Africa Eastern and Southern          AFE  GDP (current US$)   \n2                  Afghanistan          AFG  GDP (current US$)   \n3   Africa Western and Central          AFW  GDP (current US$)   \n4                       Angola          AGO  GDP (current US$)   \n5                      Albania          ALB  GDP (current US$)   \n6                      Andorra          AND  GDP (current US$)   \n7                   Arab World          ARB  GDP (current US$)   \n8         United Arab Emirates          ARE  GDP (current US$)   \n9                    Argentina          ARG  GDP (current US$)   \n\n   Indicator Code          1960          1961          1962          1963  \\\n0  NY.GDP.MKTP.CD           NaN           NaN           NaN           NaN   \n1  NY.GDP.MKTP.CD  2.112502e+10  2.161623e+10  2.350628e+10  2.804836e+10   \n2  NY.GDP.MKTP.CD  5.377778e+08  5.488889e+08  5.466667e+08  7.511112e+08   \n3  NY.GDP.MKTP.CD  1.044764e+10  1.117321e+10  1.199053e+10  1.272769e+10   \n4  NY.GDP.MKTP.CD           NaN           NaN           NaN           NaN   \n5  NY.GDP.MKTP.CD           NaN           NaN           NaN           NaN   \n6  NY.GDP.MKTP.CD           NaN           NaN           NaN           NaN   \n7  NY.GDP.MKTP.CD           NaN           NaN           NaN           NaN   \n8  NY.GDP.MKTP.CD           NaN           NaN           NaN           NaN   \n9  NY.GDP.MKTP.CD           NaN           NaN  2.445060e+10  1.827212e+10   \n\n           1964          1965  ...          2014          2015          2016  \\\n0           NaN           NaN  ...  2.791061e+09  2.963128e+09  2.983799e+09   \n1  2.592067e+10  2.947210e+10  ...  1.006526e+12  9.273485e+11  8.851764e+11   \n2  8.000000e+08  1.006667e+09  ...  2.055058e+10  1.999814e+10  1.801955e+10   \n3  1.389811e+10  1.492979e+10  ...  8.943225e+11  7.686447e+11  6.913634e+11   \n4           NaN           NaN  ...  1.372444e+11  8.721930e+10  4.984049e+10   \n5           NaN           NaN  ...  1.322815e+10  1.138685e+10  1.186120e+10   \n6           NaN           NaN  ...  3.271686e+09  2.789881e+09  2.896610e+09   \n7           NaN           NaN  ...  2.905733e+12  2.554156e+12  2.537537e+12   \n8           NaN           NaN  ...  4.141054e+11  3.702755e+11  3.692553e+11   \n9  2.560525e+10  2.834471e+10  ...  5.263197e+11  5.947493e+11  5.575323e+11   \n\n           2017          2018          2019          2020          2021  \\\n0  3.092179e+09  3.276188e+09  3.395794e+09  2.610039e+09  3.126019e+09   \n1  1.021043e+12  1.007196e+12  1.000834e+12  9.275933e+11  1.081998e+12   \n2  1.889635e+10  1.841886e+10  1.890450e+10  2.014345e+10  1.458314e+10   \n3  6.848988e+11  7.670257e+11  8.225384e+11  7.864600e+11  8.444597e+11   \n4  6.897277e+10  7.779294e+10  6.930911e+10  5.024137e+10  6.568544e+10   \n5  1.301973e+10  1.515642e+10  1.540183e+10  1.516273e+10  1.793057e+10   \n6  3.000162e+09  3.218420e+09  3.155149e+09  2.891001e+09  3.325145e+09   \n7  2.637112e+12  2.843476e+12  2.868891e+12  2.533377e+12  2.928456e+12   \n8  3.905168e+11  4.270494e+11  4.179897e+11  3.494730e+11  4.150216e+11   \n9  6.436284e+11  5.248199e+11  4.477547e+11  3.855404e+11  4.872271e+11   \n\n           2022  Unnamed: 67  \n0           NaN          NaN  \n1  1.169484e+12          NaN  \n2           NaN          NaN  \n3  8.778633e+11          NaN  \n4  1.067136e+11          NaN  \n5  1.888210e+10          NaN  \n6  3.352033e+09          NaN  \n7  3.557557e+12          NaN  \n8  5.075349e+11          NaN  \n9  6.327703e+11          NaN  \n\n[10 rows x 68 columns]",
      "text/html": "<div>\n<style scoped>\n    .dataframe tbody tr th:only-of-type {\n        vertical-align: middle;\n    }\n\n    .dataframe tbody tr th {\n        vertical-align: top;\n    }\n\n    .dataframe thead th {\n        text-align: right;\n    }\n</style>\n<table border=\"1\" class=\"dataframe\">\n  <thead>\n    <tr style=\"text-align: right;\">\n      <th></th>\n      <th>Country Name</th>\n      <th>Country Code</th>\n      <th>Indicator Name</th>\n      <th>Indicator Code</th>\n      <th>1960</th>\n      <th>1961</th>\n      <th>1962</th>\n      <th>1963</th>\n      <th>1964</th>\n      <th>1965</th>\n      <th>...</th>\n      <th>2014</th>\n      <th>2015</th>\n      <th>2016</th>\n      <th>2017</th>\n      <th>2018</th>\n      <th>2019</th>\n      <th>2020</th>\n      <th>2021</th>\n      <th>2022</th>\n      <th>Unnamed: 67</th>\n    </tr>\n  </thead>\n  <tbody>\n    <tr>\n      <th>0</th>\n      <td>Aruba</td>\n      <td>ABW</td>\n      <td>GDP (current US$)</td>\n      <td>NY.GDP.MKTP.CD</td>\n      <td>NaN</td>\n      <td>NaN</td>\n      <td>NaN</td>\n      <td>NaN</td>\n      <td>NaN</td>\n      <td>NaN</td>\n      <td>...</td>\n      <td>2.791061e+09</td>\n      <td>2.963128e+09</td>\n      <td>2.983799e+09</td>\n      <td>3.092179e+09</td>\n      <td>3.276188e+09</td>\n      <td>3.395794e+09</td>\n      <td>2.610039e+09</td>\n      <td>3.126019e+09</td>\n      <td>NaN</td>\n      <td>NaN</td>\n    </tr>\n    <tr>\n      <th>1</th>\n      <td>Africa Eastern and Southern</td>\n      <td>AFE</td>\n      <td>GDP (current US$)</td>\n      <td>NY.GDP.MKTP.CD</td>\n      <td>2.112502e+10</td>\n      <td>2.161623e+10</td>\n      <td>2.350628e+10</td>\n      <td>2.804836e+10</td>\n      <td>2.592067e+10</td>\n      <td>2.947210e+10</td>\n      <td>...</td>\n      <td>1.006526e+12</td>\n      <td>9.273485e+11</td>\n      <td>8.851764e+11</td>\n      <td>1.021043e+12</td>\n      <td>1.007196e+12</td>\n      <td>1.000834e+12</td>\n      <td>9.275933e+11</td>\n      <td>1.081998e+12</td>\n      <td>1.169484e+12</td>\n      <td>NaN</td>\n    </tr>\n    <tr>\n      <th>2</th>\n      <td>Afghanistan</td>\n      <td>AFG</td>\n      <td>GDP (current US$)</td>\n      <td>NY.GDP.MKTP.CD</td>\n      <td>5.377778e+08</td>\n      <td>5.488889e+08</td>\n      <td>5.466667e+08</td>\n      <td>7.511112e+08</td>\n      <td>8.000000e+08</td>\n      <td>1.006667e+09</td>\n      <td>...</td>\n      <td>2.055058e+10</td>\n      <td>1.999814e+10</td>\n      <td>1.801955e+10</td>\n      <td>1.889635e+10</td>\n      <td>1.841886e+10</td>\n      <td>1.890450e+10</td>\n      <td>2.014345e+10</td>\n      <td>1.458314e+10</td>\n      <td>NaN</td>\n      <td>NaN</td>\n    </tr>\n    <tr>\n      <th>3</th>\n      <td>Africa Western and Central</td>\n      <td>AFW</td>\n      <td>GDP (current US$)</td>\n      <td>NY.GDP.MKTP.CD</td>\n      <td>1.044764e+10</td>\n      <td>1.117321e+10</td>\n      <td>1.199053e+10</td>\n      <td>1.272769e+10</td>\n      <td>1.389811e+10</td>\n      <td>1.492979e+10</td>\n      <td>...</td>\n      <td>8.943225e+11</td>\n      <td>7.686447e+11</td>\n      <td>6.913634e+11</td>\n      <td>6.848988e+11</td>\n      <td>7.670257e+11</td>\n      <td>8.225384e+11</td>\n      <td>7.864600e+11</td>\n      <td>8.444597e+11</td>\n      <td>8.778633e+11</td>\n      <td>NaN</td>\n    </tr>\n    <tr>\n      <th>4</th>\n      <td>Angola</td>\n      <td>AGO</td>\n      <td>GDP (current US$)</td>\n      <td>NY.GDP.MKTP.CD</td>\n      <td>NaN</td>\n      <td>NaN</td>\n      <td>NaN</td>\n      <td>NaN</td>\n      <td>NaN</td>\n      <td>NaN</td>\n      <td>...</td>\n      <td>1.372444e+11</td>\n      <td>8.721930e+10</td>\n      <td>4.984049e+10</td>\n      <td>6.897277e+10</td>\n      <td>7.779294e+10</td>\n      <td>6.930911e+10</td>\n      <td>5.024137e+10</td>\n      <td>6.568544e+10</td>\n      <td>1.067136e+11</td>\n      <td>NaN</td>\n    </tr>\n    <tr>\n      <th>5</th>\n      <td>Albania</td>\n      <td>ALB</td>\n      <td>GDP (current US$)</td>\n      <td>NY.GDP.MKTP.CD</td>\n      <td>NaN</td>\n      <td>NaN</td>\n      <td>NaN</td>\n      <td>NaN</td>\n      <td>NaN</td>\n      <td>NaN</td>\n      <td>...</td>\n      <td>1.322815e+10</td>\n      <td>1.138685e+10</td>\n      <td>1.186120e+10</td>\n      <td>1.301973e+10</td>\n      <td>1.515642e+10</td>\n      <td>1.540183e+10</td>\n      <td>1.516273e+10</td>\n      <td>1.793057e+10</td>\n      <td>1.888210e+10</td>\n      <td>NaN</td>\n    </tr>\n    <tr>\n      <th>6</th>\n      <td>Andorra</td>\n      <td>AND</td>\n      <td>GDP (current US$)</td>\n      <td>NY.GDP.MKTP.CD</td>\n      <td>NaN</td>\n      <td>NaN</td>\n      <td>NaN</td>\n      <td>NaN</td>\n      <td>NaN</td>\n      <td>NaN</td>\n      <td>...</td>\n      <td>3.271686e+09</td>\n      <td>2.789881e+09</td>\n      <td>2.896610e+09</td>\n      <td>3.000162e+09</td>\n      <td>3.218420e+09</td>\n      <td>3.155149e+09</td>\n      <td>2.891001e+09</td>\n      <td>3.325145e+09</td>\n      <td>3.352033e+09</td>\n      <td>NaN</td>\n    </tr>\n    <tr>\n      <th>7</th>\n      <td>Arab World</td>\n      <td>ARB</td>\n      <td>GDP (current US$)</td>\n      <td>NY.GDP.MKTP.CD</td>\n      <td>NaN</td>\n      <td>NaN</td>\n      <td>NaN</td>\n      <td>NaN</td>\n      <td>NaN</td>\n      <td>NaN</td>\n      <td>...</td>\n      <td>2.905733e+12</td>\n      <td>2.554156e+12</td>\n      <td>2.537537e+12</td>\n      <td>2.637112e+12</td>\n      <td>2.843476e+12</td>\n      <td>2.868891e+12</td>\n      <td>2.533377e+12</td>\n      <td>2.928456e+12</td>\n      <td>3.557557e+12</td>\n      <td>NaN</td>\n    </tr>\n    <tr>\n      <th>8</th>\n      <td>United Arab Emirates</td>\n      <td>ARE</td>\n      <td>GDP (current US$)</td>\n      <td>NY.GDP.MKTP.CD</td>\n      <td>NaN</td>\n      <td>NaN</td>\n      <td>NaN</td>\n      <td>NaN</td>\n      <td>NaN</td>\n      <td>NaN</td>\n      <td>...</td>\n      <td>4.141054e+11</td>\n      <td>3.702755e+11</td>\n      <td>3.692553e+11</td>\n      <td>3.905168e+11</td>\n      <td>4.270494e+11</td>\n      <td>4.179897e+11</td>\n      <td>3.494730e+11</td>\n      <td>4.150216e+11</td>\n      <td>5.075349e+11</td>\n      <td>NaN</td>\n    </tr>\n    <tr>\n      <th>9</th>\n      <td>Argentina</td>\n      <td>ARG</td>\n      <td>GDP (current US$)</td>\n      <td>NY.GDP.MKTP.CD</td>\n      <td>NaN</td>\n      <td>NaN</td>\n      <td>2.445060e+10</td>\n      <td>1.827212e+10</td>\n      <td>2.560525e+10</td>\n      <td>2.834471e+10</td>\n      <td>...</td>\n      <td>5.263197e+11</td>\n      <td>5.947493e+11</td>\n      <td>5.575323e+11</td>\n      <td>6.436284e+11</td>\n      <td>5.248199e+11</td>\n      <td>4.477547e+11</td>\n      <td>3.855404e+11</td>\n      <td>4.872271e+11</td>\n      <td>6.327703e+11</td>\n      <td>NaN</td>\n    </tr>\n  </tbody>\n</table>\n<p>10 rows × 68 columns</p>\n</div>"
     },
     "execution_count": 683,
     "metadata": {},
     "output_type": "execute_result"
    }
   ],
   "source": [
    "gdp = pd.read_csv('./datasets/world_bank.csv', skiprows=4)\n",
    "gdp.head(10)"
   ],
   "metadata": {
    "collapsed": false,
    "ExecuteTime": {
     "end_time": "2023-10-15T18:49:51.629133Z",
     "start_time": "2023-10-15T18:49:51.180980Z"
    }
   },
   "id": "e7efed2dfe3206f1"
  },
  {
   "cell_type": "markdown",
   "source": [
    "#### Inspecting the data"
   ],
   "metadata": {
    "collapsed": false
   },
   "id": "18d122d0c6fbdce3"
  },
  {
   "cell_type": "code",
   "execution_count": 684,
   "outputs": [
    {
     "data": {
      "text/plain": "(266, 68)"
     },
     "execution_count": 684,
     "metadata": {},
     "output_type": "execute_result"
    }
   ],
   "source": [
    "gdp.shape"
   ],
   "metadata": {
    "collapsed": false,
    "ExecuteTime": {
     "end_time": "2023-10-15T18:49:51.641242Z",
     "start_time": "2023-10-15T18:49:51.194356Z"
    }
   },
   "id": "38c05ed12ee8c650"
  },
  {
   "cell_type": "code",
   "execution_count": 685,
   "outputs": [
    {
     "data": {
      "text/plain": "Index(['Country Name', 'Country Code', 'Indicator Name', 'Indicator Code',\n       '1960', '1961', '1962', '1963', '1964', '1965', '1966', '1967', '1968',\n       '1969', '1970', '1971', '1972', '1973', '1974', '1975', '1976', '1977',\n       '1978', '1979', '1980', '1981', '1982', '1983', '1984', '1985', '1986',\n       '1987', '1988', '1989', '1990', '1991', '1992', '1993', '1994', '1995',\n       '1996', '1997', '1998', '1999', '2000', '2001', '2002', '2003', '2004',\n       '2005', '2006', '2007', '2008', '2009', '2010', '2011', '2012', '2013',\n       '2014', '2015', '2016', '2017', '2018', '2019', '2020', '2021', '2022',\n       'Unnamed: 67'],\n      dtype='object')"
     },
     "execution_count": 685,
     "metadata": {},
     "output_type": "execute_result"
    }
   ],
   "source": [
    "gdp.columns"
   ],
   "metadata": {
    "collapsed": false,
    "ExecuteTime": {
     "end_time": "2023-10-15T18:49:51.644183Z",
     "start_time": "2023-10-15T18:49:51.198194Z"
    }
   },
   "id": "73c82eb07f7948e9"
  },
  {
   "cell_type": "code",
   "execution_count": 686,
   "outputs": [
    {
     "name": "stdout",
     "output_type": "stream",
     "text": [
      "<class 'pandas.core.frame.DataFrame'>\n",
      "RangeIndex: 266 entries, 0 to 265\n",
      "Data columns (total 68 columns):\n",
      " #   Column          Non-Null Count  Dtype  \n",
      "---  ------          --------------  -----  \n",
      " 0   Country Name    266 non-null    object \n",
      " 1   Country Code    266 non-null    object \n",
      " 2   Indicator Name  266 non-null    object \n",
      " 3   Indicator Code  266 non-null    object \n",
      " 4   1960            132 non-null    float64\n",
      " 5   1961            134 non-null    float64\n",
      " 6   1962            136 non-null    float64\n",
      " 7   1963            136 non-null    float64\n",
      " 8   1964            136 non-null    float64\n",
      " 9   1965            147 non-null    float64\n",
      " 10  1966            150 non-null    float64\n",
      " 11  1967            153 non-null    float64\n",
      " 12  1968            158 non-null    float64\n",
      " 13  1969            158 non-null    float64\n",
      " 14  1970            167 non-null    float64\n",
      " 15  1971            170 non-null    float64\n",
      " 16  1972            170 non-null    float64\n",
      " 17  1973            170 non-null    float64\n",
      " 18  1974            171 non-null    float64\n",
      " 19  1975            173 non-null    float64\n",
      " 20  1976            174 non-null    float64\n",
      " 21  1977            177 non-null    float64\n",
      " 22  1978            176 non-null    float64\n",
      " 23  1979            177 non-null    float64\n",
      " 24  1980            191 non-null    float64\n",
      " 25  1981            194 non-null    float64\n",
      " 26  1982            195 non-null    float64\n",
      " 27  1983            196 non-null    float64\n",
      " 28  1984            197 non-null    float64\n",
      " 29  1985            199 non-null    float64\n",
      " 30  1986            201 non-null    float64\n",
      " 31  1987            205 non-null    float64\n",
      " 32  1988            210 non-null    float64\n",
      " 33  1989            210 non-null    float64\n",
      " 34  1990            226 non-null    float64\n",
      " 35  1991            226 non-null    float64\n",
      " 36  1992            227 non-null    float64\n",
      " 37  1993            229 non-null    float64\n",
      " 38  1994            231 non-null    float64\n",
      " 39  1995            240 non-null    float64\n",
      " 40  1996            240 non-null    float64\n",
      " 41  1997            240 non-null    float64\n",
      " 42  1998            242 non-null    float64\n",
      " 43  1999            243 non-null    float64\n",
      " 44  2000            247 non-null    float64\n",
      " 45  2001            249 non-null    float64\n",
      " 46  2002            254 non-null    float64\n",
      " 47  2003            254 non-null    float64\n",
      " 48  2004            254 non-null    float64\n",
      " 49  2005            254 non-null    float64\n",
      " 50  2006            255 non-null    float64\n",
      " 51  2007            255 non-null    float64\n",
      " 52  2008            256 non-null    float64\n",
      " 53  2009            256 non-null    float64\n",
      " 54  2010            257 non-null    float64\n",
      " 55  2011            260 non-null    float64\n",
      " 56  2012            258 non-null    float64\n",
      " 57  2013            259 non-null    float64\n",
      " 58  2014            260 non-null    float64\n",
      " 59  2015            258 non-null    float64\n",
      " 60  2016            258 non-null    float64\n",
      " 61  2017            258 non-null    float64\n",
      " 62  2018            258 non-null    float64\n",
      " 63  2019            257 non-null    float64\n",
      " 64  2020            257 non-null    float64\n",
      " 65  2021            251 non-null    float64\n",
      " 66  2022            233 non-null    float64\n",
      " 67  Unnamed: 67     0 non-null      float64\n",
      "dtypes: float64(64), object(4)\n",
      "memory usage: 141.4+ KB\n"
     ]
    }
   ],
   "source": [
    "gdp.info()"
   ],
   "metadata": {
    "collapsed": false,
    "ExecuteTime": {
     "end_time": "2023-10-15T18:49:51.658807Z",
     "start_time": "2023-10-15T18:49:51.201224Z"
    }
   },
   "id": "6fa13bf91cc05a4b"
  },
  {
   "cell_type": "code",
   "execution_count": 687,
   "outputs": [
    {
     "data": {
      "text/plain": "Country Name        0\nCountry Code        0\nIndicator Name      0\nIndicator Code      0\n1960              134\n                 ... \n2019                9\n2020                9\n2021               15\n2022               33\nUnnamed: 67       266\nLength: 68, dtype: int64"
     },
     "execution_count": 687,
     "metadata": {},
     "output_type": "execute_result"
    }
   ],
   "source": [
    "gdp.isnull().sum()"
   ],
   "metadata": {
    "collapsed": false,
    "ExecuteTime": {
     "end_time": "2023-10-15T18:49:51.659002Z",
     "start_time": "2023-10-15T18:49:51.207752Z"
    }
   },
   "id": "d9d11851153413df"
  },
  {
   "cell_type": "code",
   "execution_count": 688,
   "outputs": [
    {
     "data": {
      "text/plain": "0"
     },
     "execution_count": 688,
     "metadata": {},
     "output_type": "execute_result"
    }
   ],
   "source": [
    "gdp.duplicated().sum()"
   ],
   "metadata": {
    "collapsed": false,
    "ExecuteTime": {
     "end_time": "2023-10-15T18:49:51.659338Z",
     "start_time": "2023-10-15T18:49:51.210672Z"
    }
   },
   "id": "88f1ad76b963e3f4"
  },
  {
   "cell_type": "code",
   "execution_count": 689,
   "outputs": [
    {
     "data": {
      "text/plain": "Country Name      266\nCountry Code      266\nIndicator Name      1\nIndicator Code      1\n1960              131\n                 ... \n2019              255\n2020              255\n2021              249\n2022              231\nUnnamed: 67         0\nLength: 68, dtype: int64"
     },
     "execution_count": 689,
     "metadata": {},
     "output_type": "execute_result"
    }
   ],
   "source": [
    "gdp.nunique()"
   ],
   "metadata": {
    "collapsed": false,
    "ExecuteTime": {
     "end_time": "2023-10-15T18:49:51.659438Z",
     "start_time": "2023-10-15T18:49:51.215484Z"
    }
   },
   "id": "53e1dbc43e5490b0"
  },
  {
   "cell_type": "markdown",
   "source": [
    "#### Observation\n",
    "1. The column names should be converted to snake case for consistency.\n",
    "2. Both the `Indicator Name` and `Indicator Code` columns appear to contain only a single value, suggesting they may be redundant.\n",
    "3. There are `null` values present in the *years* columns.\n",
    "4. The dataframe does not contain any duplicate entries.\n",
    "5. The column names are clear and self-explanatory.\n"
   ],
   "metadata": {
    "collapsed": false
   },
   "id": "87056d37c67533cb"
  },
  {
   "cell_type": "markdown",
   "source": [
    "#### Data cleaning and manipulation"
   ],
   "metadata": {
    "collapsed": false
   },
   "id": "5c30f0c9bfc7e24c"
  },
  {
   "cell_type": "code",
   "execution_count": 690,
   "outputs": [],
   "source": [
    "def change_str_to_snake_case(string):\n",
    "    return string.replace(' ', '_').replace('-', '_').lower()\n",
    "\n",
    "gdp.rename(columns=change_str_to_snake_case, inplace=True)"
   ],
   "metadata": {
    "collapsed": false,
    "ExecuteTime": {
     "end_time": "2023-10-15T18:49:51.660311Z",
     "start_time": "2023-10-15T18:49:51.221913Z"
    }
   },
   "id": "551852e5e9fff2dd"
  },
  {
   "cell_type": "code",
   "execution_count": 691,
   "outputs": [],
   "source": [
    "renamed_countries = {\n",
    "    'Korea, Rep.': 'South Korea',\n",
    "    'Iran, Islamic Rep.': 'Iran',\n",
    "    'Hong Kong SAR, China': 'Hong Kong'\n",
    "}\n",
    "gdp.country_name = gdp.country_name.replace(renamed_countries)"
   ],
   "metadata": {
    "collapsed": false,
    "ExecuteTime": {
     "end_time": "2023-10-15T18:49:51.660738Z",
     "start_time": "2023-10-15T18:49:51.223389Z"
    }
   },
   "id": "e50eeccaa01a3734"
  },
  {
   "cell_type": "markdown",
   "source": [
    "#### Reading the Sciamgo Journal and Country Rank data"
   ],
   "metadata": {
    "collapsed": false
   },
   "id": "c123a717ab994ec0"
  },
  {
   "cell_type": "code",
   "execution_count": 692,
   "outputs": [
    {
     "data": {
      "text/plain": "   Rank             Country            Region  Documents  Citable documents  \\\n0     1               China    Asiatic Region     360468             358777   \n1     2       United States  Northern America     199442             195042   \n2     3               India    Asiatic Region      76103              74167   \n3     4               Japan    Asiatic Region      56249              55680   \n4     5      United Kingdom    Western Europe      52572              51156   \n5     6             Germany    Western Europe      47781              46767   \n6     7  Russian Federation    Eastern Europe      43567              43290   \n7     8              Canada  Northern America      39036              38276   \n8     9               Italy    Western Europe      35991              34424   \n9    10         South Korea    Asiatic Region      35294              35005   \n\n   Citations  Self-citations  Citations per document  H index  \n0    3947871         2705774                   10.95      308  \n1    3068926          881789                   15.39      422  \n2     760964          280893                   10.00      217  \n3     633294          136132                   11.26      217  \n4     909276          151672                   17.30      267  \n5     641717          133693                   13.43      230  \n6     175721           79765                    4.03      103  \n7     787010          125333                   20.16      263  \n8     529459          123042                   14.71      192  \n9     503147           87529                   14.26      182  ",
      "text/html": "<div>\n<style scoped>\n    .dataframe tbody tr th:only-of-type {\n        vertical-align: middle;\n    }\n\n    .dataframe tbody tr th {\n        vertical-align: top;\n    }\n\n    .dataframe thead th {\n        text-align: right;\n    }\n</style>\n<table border=\"1\" class=\"dataframe\">\n  <thead>\n    <tr style=\"text-align: right;\">\n      <th></th>\n      <th>Rank</th>\n      <th>Country</th>\n      <th>Region</th>\n      <th>Documents</th>\n      <th>Citable documents</th>\n      <th>Citations</th>\n      <th>Self-citations</th>\n      <th>Citations per document</th>\n      <th>H index</th>\n    </tr>\n  </thead>\n  <tbody>\n    <tr>\n      <th>0</th>\n      <td>1</td>\n      <td>China</td>\n      <td>Asiatic Region</td>\n      <td>360468</td>\n      <td>358777</td>\n      <td>3947871</td>\n      <td>2705774</td>\n      <td>10.95</td>\n      <td>308</td>\n    </tr>\n    <tr>\n      <th>1</th>\n      <td>2</td>\n      <td>United States</td>\n      <td>Northern America</td>\n      <td>199442</td>\n      <td>195042</td>\n      <td>3068926</td>\n      <td>881789</td>\n      <td>15.39</td>\n      <td>422</td>\n    </tr>\n    <tr>\n      <th>2</th>\n      <td>3</td>\n      <td>India</td>\n      <td>Asiatic Region</td>\n      <td>76103</td>\n      <td>74167</td>\n      <td>760964</td>\n      <td>280893</td>\n      <td>10.00</td>\n      <td>217</td>\n    </tr>\n    <tr>\n      <th>3</th>\n      <td>4</td>\n      <td>Japan</td>\n      <td>Asiatic Region</td>\n      <td>56249</td>\n      <td>55680</td>\n      <td>633294</td>\n      <td>136132</td>\n      <td>11.26</td>\n      <td>217</td>\n    </tr>\n    <tr>\n      <th>4</th>\n      <td>5</td>\n      <td>United Kingdom</td>\n      <td>Western Europe</td>\n      <td>52572</td>\n      <td>51156</td>\n      <td>909276</td>\n      <td>151672</td>\n      <td>17.30</td>\n      <td>267</td>\n    </tr>\n    <tr>\n      <th>5</th>\n      <td>6</td>\n      <td>Germany</td>\n      <td>Western Europe</td>\n      <td>47781</td>\n      <td>46767</td>\n      <td>641717</td>\n      <td>133693</td>\n      <td>13.43</td>\n      <td>230</td>\n    </tr>\n    <tr>\n      <th>6</th>\n      <td>7</td>\n      <td>Russian Federation</td>\n      <td>Eastern Europe</td>\n      <td>43567</td>\n      <td>43290</td>\n      <td>175721</td>\n      <td>79765</td>\n      <td>4.03</td>\n      <td>103</td>\n    </tr>\n    <tr>\n      <th>7</th>\n      <td>8</td>\n      <td>Canada</td>\n      <td>Northern America</td>\n      <td>39036</td>\n      <td>38276</td>\n      <td>787010</td>\n      <td>125333</td>\n      <td>20.16</td>\n      <td>263</td>\n    </tr>\n    <tr>\n      <th>8</th>\n      <td>9</td>\n      <td>Italy</td>\n      <td>Western Europe</td>\n      <td>35991</td>\n      <td>34424</td>\n      <td>529459</td>\n      <td>123042</td>\n      <td>14.71</td>\n      <td>192</td>\n    </tr>\n    <tr>\n      <th>9</th>\n      <td>10</td>\n      <td>South Korea</td>\n      <td>Asiatic Region</td>\n      <td>35294</td>\n      <td>35005</td>\n      <td>503147</td>\n      <td>87529</td>\n      <td>14.26</td>\n      <td>182</td>\n    </tr>\n  </tbody>\n</table>\n</div>"
     },
     "execution_count": 692,
     "metadata": {},
     "output_type": "execute_result"
    }
   ],
   "source": [
    "scim_en = pd.read_excel('./datasets/scimago_journal_country_rank.xlsx')\n",
    "scim_en.head(10)"
   ],
   "metadata": {
    "collapsed": false,
    "ExecuteTime": {
     "end_time": "2023-10-15T18:49:51.661066Z",
     "start_time": "2023-10-15T18:49:51.229376Z"
    }
   },
   "id": "5572a63c2d2585b7"
  },
  {
   "cell_type": "markdown",
   "source": [
    "#### Inspecting the data"
   ],
   "metadata": {
    "collapsed": false
   },
   "id": "23a82268df8cd3eb"
  },
  {
   "cell_type": "code",
   "execution_count": 693,
   "outputs": [
    {
     "data": {
      "text/plain": "(212, 9)"
     },
     "execution_count": 693,
     "metadata": {},
     "output_type": "execute_result"
    }
   ],
   "source": [
    "scim_en.shape"
   ],
   "metadata": {
    "collapsed": false,
    "ExecuteTime": {
     "end_time": "2023-10-15T18:49:51.661151Z",
     "start_time": "2023-10-15T18:49:51.261920Z"
    }
   },
   "id": "b808080c548a7be0"
  },
  {
   "cell_type": "code",
   "execution_count": 694,
   "outputs": [
    {
     "data": {
      "text/plain": "Index(['Rank', 'Country', 'Region', 'Documents', 'Citable documents',\n       'Citations', 'Self-citations', 'Citations per document', 'H index'],\n      dtype='object')"
     },
     "execution_count": 694,
     "metadata": {},
     "output_type": "execute_result"
    }
   ],
   "source": [
    "scim_en.columns"
   ],
   "metadata": {
    "collapsed": false,
    "ExecuteTime": {
     "end_time": "2023-10-15T18:49:51.661242Z",
     "start_time": "2023-10-15T18:49:51.264973Z"
    }
   },
   "id": "26383210752cb176"
  },
  {
   "cell_type": "code",
   "execution_count": 695,
   "outputs": [
    {
     "name": "stdout",
     "output_type": "stream",
     "text": [
      "<class 'pandas.core.frame.DataFrame'>\n",
      "RangeIndex: 212 entries, 0 to 211\n",
      "Data columns (total 9 columns):\n",
      " #   Column                  Non-Null Count  Dtype  \n",
      "---  ------                  --------------  -----  \n",
      " 0   Rank                    212 non-null    int64  \n",
      " 1   Country                 212 non-null    object \n",
      " 2   Region                  212 non-null    object \n",
      " 3   Documents               212 non-null    int64  \n",
      " 4   Citable documents       212 non-null    int64  \n",
      " 5   Citations               212 non-null    int64  \n",
      " 6   Self-citations          212 non-null    int64  \n",
      " 7   Citations per document  212 non-null    float64\n",
      " 8   H index                 212 non-null    int64  \n",
      "dtypes: float64(1), int64(6), object(2)\n",
      "memory usage: 15.0+ KB\n"
     ]
    }
   ],
   "source": [
    "scim_en.info()"
   ],
   "metadata": {
    "collapsed": false,
    "ExecuteTime": {
     "end_time": "2023-10-15T18:49:51.661326Z",
     "start_time": "2023-10-15T18:49:51.269521Z"
    }
   },
   "id": "e1747832849ad80a"
  },
  {
   "cell_type": "code",
   "execution_count": 696,
   "outputs": [
    {
     "data": {
      "text/plain": "Rank                      0\nCountry                   0\nRegion                    0\nDocuments                 0\nCitable documents         0\nCitations                 0\nSelf-citations            0\nCitations per document    0\nH index                   0\ndtype: int64"
     },
     "execution_count": 696,
     "metadata": {},
     "output_type": "execute_result"
    }
   ],
   "source": [
    "scim_en.isnull().sum()"
   ],
   "metadata": {
    "collapsed": false,
    "ExecuteTime": {
     "end_time": "2023-10-15T18:49:51.661418Z",
     "start_time": "2023-10-15T18:49:51.276233Z"
    }
   },
   "id": "2a0c4a637eb08911"
  },
  {
   "cell_type": "code",
   "execution_count": 697,
   "outputs": [
    {
     "data": {
      "text/plain": "0"
     },
     "execution_count": 697,
     "metadata": {},
     "output_type": "execute_result"
    }
   ],
   "source": [
    "scim_en.duplicated().sum()"
   ],
   "metadata": {
    "collapsed": false,
    "ExecuteTime": {
     "end_time": "2023-10-15T18:49:51.661498Z",
     "start_time": "2023-10-15T18:49:51.278946Z"
    }
   },
   "id": "55e0cc23fa1154f4"
  },
  {
   "cell_type": "markdown",
   "source": [
    "#### Observation\n",
    "1. The dataframe comprises 9 columns and 212 rows.\n",
    "2. To maintain consistency, it's advisable to convert the column names to snake case.\n",
    "3. No null values are detected within the columns.\n",
    "4. The dataframe is free of any duplicate entries.\n",
    "5. The data types of the columns align with the nature of their respective data.\n",
    "\n",
    "To enhance this dataframe, a few minor adjustments are needed."
   ],
   "metadata": {
    "collapsed": false
   },
   "id": "2d90f038860dc839"
  },
  {
   "cell_type": "markdown",
   "source": [
    "#### Data manipulation"
   ],
   "metadata": {
    "collapsed": false
   },
   "id": "db6743c44c80737b"
  },
  {
   "cell_type": "code",
   "execution_count": 698,
   "outputs": [],
   "source": [
    "scim_en.rename(columns=change_str_to_snake_case, inplace=True)"
   ],
   "metadata": {
    "collapsed": false,
    "ExecuteTime": {
     "end_time": "2023-10-15T18:49:51.661539Z",
     "start_time": "2023-10-15T18:49:51.281818Z"
    }
   },
   "id": "f1fa5f53022a02fc"
  },
  {
   "cell_type": "markdown",
   "source": [
    "### Question 1"
   ],
   "metadata": {
    "collapsed": false
   },
   "id": "1e183b03c5c0c46a"
  },
  {
   "cell_type": "code",
   "execution_count": 699,
   "outputs": [
    {
     "data": {
      "text/plain": "                    rank  documents  citable_documents  citations  \\\ncountry                                                             \nChina                  1     360468             358777    3947871   \nUnited States          2     199442             195042    3068926   \nIndia                  3      76103              74167     760964   \nJapan                  4      56249              55680     633294   \nUnited Kingdom         5      52572              51156     909276   \nGermany                6      47781              46767     641717   \nRussian Federation     7      43567              43290     175721   \nCanada                 8      39036              38276     787010   \nItaly                  9      35991              34424     529459   \nSouth Korea           10      35294              35005     503147   \nIran                  11      29776              29448     511199   \nFrance                12      29351              28759     471469   \nSpain                 13      27880              27272     515485   \nAustralia             14      25906              25237     495278   \nBrazil                15      25887              25493     260540   \n\n                    self_citations  citations_per_document  h_index  \\\ncountry                                                               \nChina                      2705774                   10.95      308   \nUnited States               881789                   15.39      422   \nIndia                       280893                   10.00      217   \nJapan                       136132                   11.26      217   \nUnited Kingdom              151672                   17.30      267   \nGermany                     133693                   13.43      230   \nRussian Federation           79765                    4.03      103   \nCanada                      125333                   20.16      263   \nItaly                       123042                   14.71      192   \nSouth Korea                  87529                   14.26      182   \nIran                        150489                   17.17      179   \nFrance                       79375                   16.06      205   \nSpain                        88803                   18.49      202   \nAustralia                    72475                   19.12      212   \nBrazil                       60487                   10.06      145   \n\n                    energy_supply  energy_supply_per_capita  renewable_%  \\\ncountry                                                                    \nChina                1.271910e+11                      93.0    19.754910   \nUnited States        9.083800e+10                     286.0    11.570980   \nIndia                3.319500e+10                      26.0    14.969080   \nJapan                1.898400e+10                     149.0    10.232820   \nUnited Kingdom       7.920000e+09                     124.0    10.600470   \nGermany              1.326100e+10                     165.0    17.901530   \nRussian Federation   3.070900e+10                     214.0    17.288680   \nCanada               1.043100e+10                     296.0    61.945430   \nItaly                6.530000e+09                     109.0    33.667230   \nSouth Korea          1.100700e+10                     221.0     2.279353   \nIran                 9.172000e+09                     119.0     5.707721   \nFrance               1.059700e+10                     166.0    17.020280   \nSpain                4.923000e+09                     106.0    37.968590   \nAustralia            5.386000e+09                     231.0    11.810810   \nBrazil               1.214900e+10                      59.0    69.648030   \n\n                            2006          2007          2008          2009  \\\ncountry                                                                      \nChina               2.752119e+12  3.550328e+12  4.594337e+12  5.101691e+12   \nUnited States       1.381559e+13  1.447423e+13  1.476986e+13  1.447806e+13   \nIndia               9.402599e+11  1.216736e+12  1.198895e+12  1.341888e+12   \nJapan               4.601663e+12  4.579750e+12  5.106679e+12  5.289494e+12   \nUnited Kingdom      2.709978e+12  3.092996e+12  2.931684e+12  2.417566e+12   \nGermany             2.994704e+12  3.425578e+12  3.745264e+12  3.411261e+12   \nRussian Federation  9.899321e+11  1.299703e+12  1.660848e+12  1.222646e+12   \nCanada              1.319265e+12  1.468820e+12  1.552990e+12  1.374625e+12   \nItaly               1.949552e+12  2.213102e+12  2.408655e+12  2.199929e+12   \nSouth Korea         1.053217e+12  1.172614e+12  1.047339e+12  9.439419e+11   \nIran                2.662989e+11  3.498816e+11  4.123362e+11  4.163970e+11   \nFrance              2.320536e+12  2.660591e+12  2.930304e+12  2.700887e+12   \nSpain               1.260399e+12  1.474003e+12  1.631863e+12  1.491473e+12   \nAustralia           7.479074e+11  8.544273e+11  1.055686e+12  9.286298e+11   \nBrazil              1.107627e+12  1.397114e+12  1.695855e+12  1.666996e+12   \n\n                            2010          2011          2012          2013  \\\ncountry                                                                      \nChina               6.087192e+12  7.551545e+12  8.532186e+12  9.570471e+12   \nUnited States       1.504896e+13  1.559973e+13  1.625397e+13  1.684319e+13   \nIndia               1.675616e+12  1.823052e+12  1.827638e+12  1.856721e+12   \nJapan               5.759072e+12  6.233147e+12  6.272363e+12  5.212328e+12   \nUnited Kingdom      2.491397e+12  2.666403e+12  2.706341e+12  2.786315e+12   \nGermany             3.399668e+12  3.749315e+12  3.527143e+12  3.733805e+12   \nRussian Federation  1.524917e+12  2.045923e+12  2.208294e+12  2.292470e+12   \nCanada              1.617343e+12  1.793327e+12  1.828366e+12  1.846597e+12   \nItaly               2.136100e+12  2.294994e+12  2.086958e+12  2.141924e+12   \nSouth Korea         1.144067e+12  1.253223e+12  1.278428e+12  1.370795e+12   \nIran                4.868076e+11  6.261331e+11  6.440355e+11  4.927756e+11   \nFrance              2.645188e+12  2.865158e+12  2.683672e+12  2.811877e+12   \nSpain               1.422108e+12  1.480710e+12  1.324751e+12  1.355580e+12   \nAustralia           1.148570e+12  1.398456e+12  1.546953e+12  1.576330e+12   \nBrazil              2.208838e+12  2.616157e+12  2.465228e+12  2.472819e+12   \n\n                            2014          2015  \ncountry                                         \nChina               1.047562e+13  1.106157e+13  \nUnited States       1.755068e+13  1.820602e+13  \nIndia               2.039126e+12  2.103588e+12  \nJapan               4.896994e+12  4.444931e+12  \nUnited Kingdom      3.065223e+12  2.934858e+12  \nGermany             3.889093e+12  3.357586e+12  \nRussian Federation  2.059242e+12  1.363482e+12  \nCanada              1.805750e+12  1.556509e+12  \nItaly               2.162010e+12  1.836638e+12  \nSouth Korea         1.484318e+12  1.465773e+12  \nIran                4.603828e+11  4.082129e+11  \nFrance              2.855964e+12  2.439189e+12  \nSpain               1.371821e+12  1.196157e+12  \nAustralia           1.467590e+12  1.350580e+12  \nBrazil              2.456044e+12  1.802212e+12  ",
      "text/html": "<div>\n<style scoped>\n    .dataframe tbody tr th:only-of-type {\n        vertical-align: middle;\n    }\n\n    .dataframe tbody tr th {\n        vertical-align: top;\n    }\n\n    .dataframe thead th {\n        text-align: right;\n    }\n</style>\n<table border=\"1\" class=\"dataframe\">\n  <thead>\n    <tr style=\"text-align: right;\">\n      <th></th>\n      <th>rank</th>\n      <th>documents</th>\n      <th>citable_documents</th>\n      <th>citations</th>\n      <th>self_citations</th>\n      <th>citations_per_document</th>\n      <th>h_index</th>\n      <th>energy_supply</th>\n      <th>energy_supply_per_capita</th>\n      <th>renewable_%</th>\n      <th>2006</th>\n      <th>2007</th>\n      <th>2008</th>\n      <th>2009</th>\n      <th>2010</th>\n      <th>2011</th>\n      <th>2012</th>\n      <th>2013</th>\n      <th>2014</th>\n      <th>2015</th>\n    </tr>\n    <tr>\n      <th>country</th>\n      <th></th>\n      <th></th>\n      <th></th>\n      <th></th>\n      <th></th>\n      <th></th>\n      <th></th>\n      <th></th>\n      <th></th>\n      <th></th>\n      <th></th>\n      <th></th>\n      <th></th>\n      <th></th>\n      <th></th>\n      <th></th>\n      <th></th>\n      <th></th>\n      <th></th>\n      <th></th>\n    </tr>\n  </thead>\n  <tbody>\n    <tr>\n      <th>China</th>\n      <td>1</td>\n      <td>360468</td>\n      <td>358777</td>\n      <td>3947871</td>\n      <td>2705774</td>\n      <td>10.95</td>\n      <td>308</td>\n      <td>1.271910e+11</td>\n      <td>93.0</td>\n      <td>19.754910</td>\n      <td>2.752119e+12</td>\n      <td>3.550328e+12</td>\n      <td>4.594337e+12</td>\n      <td>5.101691e+12</td>\n      <td>6.087192e+12</td>\n      <td>7.551545e+12</td>\n      <td>8.532186e+12</td>\n      <td>9.570471e+12</td>\n      <td>1.047562e+13</td>\n      <td>1.106157e+13</td>\n    </tr>\n    <tr>\n      <th>United States</th>\n      <td>2</td>\n      <td>199442</td>\n      <td>195042</td>\n      <td>3068926</td>\n      <td>881789</td>\n      <td>15.39</td>\n      <td>422</td>\n      <td>9.083800e+10</td>\n      <td>286.0</td>\n      <td>11.570980</td>\n      <td>1.381559e+13</td>\n      <td>1.447423e+13</td>\n      <td>1.476986e+13</td>\n      <td>1.447806e+13</td>\n      <td>1.504896e+13</td>\n      <td>1.559973e+13</td>\n      <td>1.625397e+13</td>\n      <td>1.684319e+13</td>\n      <td>1.755068e+13</td>\n      <td>1.820602e+13</td>\n    </tr>\n    <tr>\n      <th>India</th>\n      <td>3</td>\n      <td>76103</td>\n      <td>74167</td>\n      <td>760964</td>\n      <td>280893</td>\n      <td>10.00</td>\n      <td>217</td>\n      <td>3.319500e+10</td>\n      <td>26.0</td>\n      <td>14.969080</td>\n      <td>9.402599e+11</td>\n      <td>1.216736e+12</td>\n      <td>1.198895e+12</td>\n      <td>1.341888e+12</td>\n      <td>1.675616e+12</td>\n      <td>1.823052e+12</td>\n      <td>1.827638e+12</td>\n      <td>1.856721e+12</td>\n      <td>2.039126e+12</td>\n      <td>2.103588e+12</td>\n    </tr>\n    <tr>\n      <th>Japan</th>\n      <td>4</td>\n      <td>56249</td>\n      <td>55680</td>\n      <td>633294</td>\n      <td>136132</td>\n      <td>11.26</td>\n      <td>217</td>\n      <td>1.898400e+10</td>\n      <td>149.0</td>\n      <td>10.232820</td>\n      <td>4.601663e+12</td>\n      <td>4.579750e+12</td>\n      <td>5.106679e+12</td>\n      <td>5.289494e+12</td>\n      <td>5.759072e+12</td>\n      <td>6.233147e+12</td>\n      <td>6.272363e+12</td>\n      <td>5.212328e+12</td>\n      <td>4.896994e+12</td>\n      <td>4.444931e+12</td>\n    </tr>\n    <tr>\n      <th>United Kingdom</th>\n      <td>5</td>\n      <td>52572</td>\n      <td>51156</td>\n      <td>909276</td>\n      <td>151672</td>\n      <td>17.30</td>\n      <td>267</td>\n      <td>7.920000e+09</td>\n      <td>124.0</td>\n      <td>10.600470</td>\n      <td>2.709978e+12</td>\n      <td>3.092996e+12</td>\n      <td>2.931684e+12</td>\n      <td>2.417566e+12</td>\n      <td>2.491397e+12</td>\n      <td>2.666403e+12</td>\n      <td>2.706341e+12</td>\n      <td>2.786315e+12</td>\n      <td>3.065223e+12</td>\n      <td>2.934858e+12</td>\n    </tr>\n    <tr>\n      <th>Germany</th>\n      <td>6</td>\n      <td>47781</td>\n      <td>46767</td>\n      <td>641717</td>\n      <td>133693</td>\n      <td>13.43</td>\n      <td>230</td>\n      <td>1.326100e+10</td>\n      <td>165.0</td>\n      <td>17.901530</td>\n      <td>2.994704e+12</td>\n      <td>3.425578e+12</td>\n      <td>3.745264e+12</td>\n      <td>3.411261e+12</td>\n      <td>3.399668e+12</td>\n      <td>3.749315e+12</td>\n      <td>3.527143e+12</td>\n      <td>3.733805e+12</td>\n      <td>3.889093e+12</td>\n      <td>3.357586e+12</td>\n    </tr>\n    <tr>\n      <th>Russian Federation</th>\n      <td>7</td>\n      <td>43567</td>\n      <td>43290</td>\n      <td>175721</td>\n      <td>79765</td>\n      <td>4.03</td>\n      <td>103</td>\n      <td>3.070900e+10</td>\n      <td>214.0</td>\n      <td>17.288680</td>\n      <td>9.899321e+11</td>\n      <td>1.299703e+12</td>\n      <td>1.660848e+12</td>\n      <td>1.222646e+12</td>\n      <td>1.524917e+12</td>\n      <td>2.045923e+12</td>\n      <td>2.208294e+12</td>\n      <td>2.292470e+12</td>\n      <td>2.059242e+12</td>\n      <td>1.363482e+12</td>\n    </tr>\n    <tr>\n      <th>Canada</th>\n      <td>8</td>\n      <td>39036</td>\n      <td>38276</td>\n      <td>787010</td>\n      <td>125333</td>\n      <td>20.16</td>\n      <td>263</td>\n      <td>1.043100e+10</td>\n      <td>296.0</td>\n      <td>61.945430</td>\n      <td>1.319265e+12</td>\n      <td>1.468820e+12</td>\n      <td>1.552990e+12</td>\n      <td>1.374625e+12</td>\n      <td>1.617343e+12</td>\n      <td>1.793327e+12</td>\n      <td>1.828366e+12</td>\n      <td>1.846597e+12</td>\n      <td>1.805750e+12</td>\n      <td>1.556509e+12</td>\n    </tr>\n    <tr>\n      <th>Italy</th>\n      <td>9</td>\n      <td>35991</td>\n      <td>34424</td>\n      <td>529459</td>\n      <td>123042</td>\n      <td>14.71</td>\n      <td>192</td>\n      <td>6.530000e+09</td>\n      <td>109.0</td>\n      <td>33.667230</td>\n      <td>1.949552e+12</td>\n      <td>2.213102e+12</td>\n      <td>2.408655e+12</td>\n      <td>2.199929e+12</td>\n      <td>2.136100e+12</td>\n      <td>2.294994e+12</td>\n      <td>2.086958e+12</td>\n      <td>2.141924e+12</td>\n      <td>2.162010e+12</td>\n      <td>1.836638e+12</td>\n    </tr>\n    <tr>\n      <th>South Korea</th>\n      <td>10</td>\n      <td>35294</td>\n      <td>35005</td>\n      <td>503147</td>\n      <td>87529</td>\n      <td>14.26</td>\n      <td>182</td>\n      <td>1.100700e+10</td>\n      <td>221.0</td>\n      <td>2.279353</td>\n      <td>1.053217e+12</td>\n      <td>1.172614e+12</td>\n      <td>1.047339e+12</td>\n      <td>9.439419e+11</td>\n      <td>1.144067e+12</td>\n      <td>1.253223e+12</td>\n      <td>1.278428e+12</td>\n      <td>1.370795e+12</td>\n      <td>1.484318e+12</td>\n      <td>1.465773e+12</td>\n    </tr>\n    <tr>\n      <th>Iran</th>\n      <td>11</td>\n      <td>29776</td>\n      <td>29448</td>\n      <td>511199</td>\n      <td>150489</td>\n      <td>17.17</td>\n      <td>179</td>\n      <td>9.172000e+09</td>\n      <td>119.0</td>\n      <td>5.707721</td>\n      <td>2.662989e+11</td>\n      <td>3.498816e+11</td>\n      <td>4.123362e+11</td>\n      <td>4.163970e+11</td>\n      <td>4.868076e+11</td>\n      <td>6.261331e+11</td>\n      <td>6.440355e+11</td>\n      <td>4.927756e+11</td>\n      <td>4.603828e+11</td>\n      <td>4.082129e+11</td>\n    </tr>\n    <tr>\n      <th>France</th>\n      <td>12</td>\n      <td>29351</td>\n      <td>28759</td>\n      <td>471469</td>\n      <td>79375</td>\n      <td>16.06</td>\n      <td>205</td>\n      <td>1.059700e+10</td>\n      <td>166.0</td>\n      <td>17.020280</td>\n      <td>2.320536e+12</td>\n      <td>2.660591e+12</td>\n      <td>2.930304e+12</td>\n      <td>2.700887e+12</td>\n      <td>2.645188e+12</td>\n      <td>2.865158e+12</td>\n      <td>2.683672e+12</td>\n      <td>2.811877e+12</td>\n      <td>2.855964e+12</td>\n      <td>2.439189e+12</td>\n    </tr>\n    <tr>\n      <th>Spain</th>\n      <td>13</td>\n      <td>27880</td>\n      <td>27272</td>\n      <td>515485</td>\n      <td>88803</td>\n      <td>18.49</td>\n      <td>202</td>\n      <td>4.923000e+09</td>\n      <td>106.0</td>\n      <td>37.968590</td>\n      <td>1.260399e+12</td>\n      <td>1.474003e+12</td>\n      <td>1.631863e+12</td>\n      <td>1.491473e+12</td>\n      <td>1.422108e+12</td>\n      <td>1.480710e+12</td>\n      <td>1.324751e+12</td>\n      <td>1.355580e+12</td>\n      <td>1.371821e+12</td>\n      <td>1.196157e+12</td>\n    </tr>\n    <tr>\n      <th>Australia</th>\n      <td>14</td>\n      <td>25906</td>\n      <td>25237</td>\n      <td>495278</td>\n      <td>72475</td>\n      <td>19.12</td>\n      <td>212</td>\n      <td>5.386000e+09</td>\n      <td>231.0</td>\n      <td>11.810810</td>\n      <td>7.479074e+11</td>\n      <td>8.544273e+11</td>\n      <td>1.055686e+12</td>\n      <td>9.286298e+11</td>\n      <td>1.148570e+12</td>\n      <td>1.398456e+12</td>\n      <td>1.546953e+12</td>\n      <td>1.576330e+12</td>\n      <td>1.467590e+12</td>\n      <td>1.350580e+12</td>\n    </tr>\n    <tr>\n      <th>Brazil</th>\n      <td>15</td>\n      <td>25887</td>\n      <td>25493</td>\n      <td>260540</td>\n      <td>60487</td>\n      <td>10.06</td>\n      <td>145</td>\n      <td>1.214900e+10</td>\n      <td>59.0</td>\n      <td>69.648030</td>\n      <td>1.107627e+12</td>\n      <td>1.397114e+12</td>\n      <td>1.695855e+12</td>\n      <td>1.666996e+12</td>\n      <td>2.208838e+12</td>\n      <td>2.616157e+12</td>\n      <td>2.465228e+12</td>\n      <td>2.472819e+12</td>\n      <td>2.456044e+12</td>\n      <td>1.802212e+12</td>\n    </tr>\n  </tbody>\n</table>\n</div>"
     },
     "execution_count": 699,
     "metadata": {},
     "output_type": "execute_result"
    }
   ],
   "source": [
    "gdp_years = ['2006', '2007', '2008', '2009', '2010', '2011', '2012', '2013', '2014', '2015']\n",
    "def answer_one():\n",
    "    return (scim_en.sort_values(by='rank').iloc[:15, :]\n",
    "            .merge(energy, on='country')\n",
    "            .merge(gdp[['country_name', *gdp_years]], left_on='country', right_on='country_name')\n",
    "            .drop(['country_name', 'region'], axis=1)\n",
    "            .set_index('country'))\n",
    "\n",
    "answer_one()"
   ],
   "metadata": {
    "collapsed": false,
    "ExecuteTime": {
     "end_time": "2023-10-15T18:49:51.662087Z",
     "start_time": "2023-10-15T18:49:51.287477Z"
    }
   },
   "id": "fd29bfe9868ded47"
  },
  {
   "cell_type": "markdown",
   "source": [
    "### Question 2\n",
    "What is the average GDP over the last 10 years for each country? (exclude missing values from this calculation.)\n",
    "\n",
    "*This function should return a Series named `avgGDP` with 15 countries and their average GDP sorted in descending order.*"
   ],
   "metadata": {
    "collapsed": false
   },
   "id": "7d5cc79ea7bb41fb"
  },
  {
   "cell_type": "code",
   "execution_count": 700,
   "outputs": [
    {
     "data": {
      "text/plain": "country\nUnited States         1.570403e+13\nChina                 6.927707e+12\nJapan                 5.239642e+12\nGermany               3.523342e+12\nUnited Kingdom        2.780276e+12\nFrance                2.691337e+12\nItaly                 2.142986e+12\nBrazil                1.988889e+12\nRussian Federation    1.666746e+12\nCanada                1.616359e+12\nIndia                 1.602352e+12\nSpain                 1.400886e+12\nSouth Korea           1.221372e+12\nAustralia             1.207513e+12\nIran                  4.563261e+11\ndtype: float64"
     },
     "execution_count": 700,
     "metadata": {},
     "output_type": "execute_result"
    }
   ],
   "source": [
    "def answer_two():\n",
    "    top_15 = answer_one()\n",
    "    avg_gdp = top_15[gdp_years].mean(axis=1)\n",
    "    return avg_gdp.sort_values(ascending=False)\n",
    "answer_two()"
   ],
   "metadata": {
    "collapsed": false,
    "ExecuteTime": {
     "end_time": "2023-10-15T18:49:51.685687Z",
     "start_time": "2023-10-15T18:49:51.309723Z"
    }
   },
   "id": "5a4371f9259d83f1"
  },
  {
   "cell_type": "markdown",
   "source": [
    "### Question 3\n",
    "By how much had the GDP changed over the 10 year span for the country with the 6th largest average GDP?\n",
    "\n",
    "*This function should return a single number.*"
   ],
   "metadata": {
    "collapsed": false
   },
   "id": "fd1393e93879033a"
  },
  {
   "cell_type": "code",
   "execution_count": 707,
   "outputs": [
    {
     "data": {
      "text/plain": "118652421858.0"
     },
     "execution_count": 707,
     "metadata": {},
     "output_type": "execute_result"
    }
   ],
   "source": [
    "def answer_three():\n",
    "    top_15 = answer_one()\n",
    "    avg_gdp = answer_two()\n",
    "    return np.round(top_15.loc[avg_gdp.index[5], gdp_years[-1]] - top_15.loc[avg_gdp.index[5], gdp_years[0]])\n",
    "answer_three()"
   ],
   "metadata": {
    "collapsed": false,
    "ExecuteTime": {
     "end_time": "2023-10-15T18:50:20.931361Z",
     "start_time": "2023-10-15T18:50:20.898072Z"
    }
   },
   "id": "26976f7f98c3de41"
  },
  {
   "cell_type": "markdown",
   "source": [
    "### Question 4\n",
    "\n",
    "Create a new column that is the ratio of Self-Citations to Total Citations. \n",
    "What is the maximum value for this new column, and what country has the highest ratio?\n",
    "\n",
    "*This function should return a tuple with the name of the country and the ratio.*"
   ],
   "metadata": {
    "collapsed": false
   },
   "id": "d171f3002d92f903"
  },
  {
   "cell_type": "code",
   "execution_count": 702,
   "outputs": [
    {
     "data": {
      "text/plain": "('China', 0.6854)"
     },
     "execution_count": 702,
     "metadata": {},
     "output_type": "execute_result"
    }
   ],
   "source": [
    "def answer_four():\n",
    "    top_15 = answer_one()\n",
    "    top_15['citations_ratio'] = top_15.self_citations / top_15.citations\n",
    "    max_value = top_15.citations_ratio.sort_values(ascending=False).iloc[:1]\n",
    "    return max_value.index[0], np.round(max_value.iloc[0], 4)\n",
    "answer_four()"
   ],
   "metadata": {
    "collapsed": false,
    "ExecuteTime": {
     "end_time": "2023-10-15T18:49:51.686087Z",
     "start_time": "2023-10-15T18:49:51.322434Z"
    }
   },
   "id": "aead7546ffeb32b2"
  },
  {
   "cell_type": "markdown",
   "source": [
    "### Question 5\n",
    "\n",
    "Create a column that estimates the population using Energy Supply and Energy Supply per capita. \n",
    "What is the third most populous country according to this estimate?\n",
    "\n",
    "*This function should return a single string value.*"
   ],
   "metadata": {
    "collapsed": false
   },
   "id": "a1364a1bbcfa2c70"
  },
  {
   "cell_type": "code",
   "execution_count": 703,
   "outputs": [
    {
     "data": {
      "text/plain": "'United States'"
     },
     "execution_count": 703,
     "metadata": {},
     "output_type": "execute_result"
    }
   ],
   "source": [
    "def get_top_15_with_population():\n",
    "    top_15 = answer_one()\n",
    "    top_15['population'] = (top_15.energy_supply / top_15.energy_supply_per_capita).round()\n",
    "    return top_15\n",
    "\n",
    "def answer_five():\n",
    "    top_15 = get_top_15_with_population()\n",
    "    top_15.sort_values(by='population', ascending=False, inplace=True)\n",
    "    return top_15.iloc[[2]].index[0]\n",
    "answer_five()"
   ],
   "metadata": {
    "collapsed": false,
    "ExecuteTime": {
     "end_time": "2023-10-15T18:49:51.686196Z",
     "start_time": "2023-10-15T18:49:51.328720Z"
    }
   },
   "id": "9f9f276943b8288e"
  },
  {
   "cell_type": "markdown",
   "source": [
    "### Question 6\n",
    "Create a column that estimates the number of citable documents per person. \n",
    "What is the correlation between the number of citable documents per capita and the energy supply per capita? Use the `.corr()` method, (Pearson's correlation).\n",
    "\n",
    "*This function should return a single number.*\n"
   ],
   "metadata": {
    "collapsed": false
   },
   "id": "ecd0aa9d19f34c48"
  },
  {
   "cell_type": "code",
   "execution_count": 704,
   "outputs": [
    {
     "data": {
      "text/plain": "0.71"
     },
     "execution_count": 704,
     "metadata": {},
     "output_type": "execute_result"
    }
   ],
   "source": [
    "def answer_six():\n",
    "    top_15 = get_top_15_with_population()\n",
    "    top_15['citable_documents_per_capita'] = top_15.citable_documents / top_15.population\n",
    "    return np.round(top_15['citable_documents_per_capita'].corr(top_15['energy_supply_per_capita']), 2)\n",
    "answer_six()"
   ],
   "metadata": {
    "collapsed": false,
    "ExecuteTime": {
     "end_time": "2023-10-15T18:49:51.686292Z",
     "start_time": "2023-10-15T18:49:51.336084Z"
    }
   },
   "id": "11ba9ce718195157"
  },
  {
   "cell_type": "markdown",
   "source": [
    "### Question 7\n",
    "Use the following dictionary to group the Countries by Continent, then create a dateframe that displays the sample size (the number of countries in each continent bin), and the sum, mean, and std deviation for the estimated population of each country.\n",
    "\n",
    "```python\n",
    "ContinentDict  = {'China':'Asia', \n",
    "                  'United States':'North America', \n",
    "                  'Japan':'Asia', \n",
    "                  'United Kingdom':'Europe', \n",
    "                  'Russian Federation':'Europe', \n",
    "                  'Canada':'North America', \n",
    "                  'Germany':'Europe', \n",
    "                  'India':'Asia',\n",
    "                  'France':'Europe', \n",
    "                  'South Korea':'Asia', \n",
    "                  'Italy':'Europe', \n",
    "                  'Spain':'Europe', \n",
    "                  'Iran':'Asia',\n",
    "                  'Australia':'Australia', \n",
    "                  'Brazil':'South America'}\n",
    "```\n",
    "\n",
    "*This function should return a DataFrame with index named Continent `['Asia', 'Australia', 'Europe', 'North America', 'South America']` and columns `['size', 'sum', 'mean', 'std']`*"
   ],
   "metadata": {
    "collapsed": false
   },
   "id": "22c48373cdc791d6"
  },
  {
   "cell_type": "code",
   "execution_count": 705,
   "outputs": [
    {
     "name": "stdout",
     "output_type": "stream",
     "text": [
      "0.0\n"
     ]
    },
    {
     "data": {
      "text/plain": "              country    population                            \n                count          mean           std           sum\ncontinent                                                      \nAsia                5  5.797333e+08  6.074036e+08  2.898666e+09\nAustralia           1  2.331602e+07  0.000000e+00  2.331602e+07\nEurope              6  7.632161e+07  3.162885e+07  4.579297e+08\nNorth America       2  1.764276e+08  1.411878e+08  3.528552e+08\nSouth America       1  2.059153e+08  0.000000e+00  2.059153e+08",
      "text/html": "<div>\n<style scoped>\n    .dataframe tbody tr th:only-of-type {\n        vertical-align: middle;\n    }\n\n    .dataframe tbody tr th {\n        vertical-align: top;\n    }\n\n    .dataframe thead tr th {\n        text-align: left;\n    }\n\n    .dataframe thead tr:last-of-type th {\n        text-align: right;\n    }\n</style>\n<table border=\"1\" class=\"dataframe\">\n  <thead>\n    <tr>\n      <th></th>\n      <th>country</th>\n      <th colspan=\"3\" halign=\"left\">population</th>\n    </tr>\n    <tr>\n      <th></th>\n      <th>count</th>\n      <th>mean</th>\n      <th>std</th>\n      <th>sum</th>\n    </tr>\n    <tr>\n      <th>continent</th>\n      <th></th>\n      <th></th>\n      <th></th>\n      <th></th>\n    </tr>\n  </thead>\n  <tbody>\n    <tr>\n      <th>Asia</th>\n      <td>5</td>\n      <td>5.797333e+08</td>\n      <td>6.074036e+08</td>\n      <td>2.898666e+09</td>\n    </tr>\n    <tr>\n      <th>Australia</th>\n      <td>1</td>\n      <td>2.331602e+07</td>\n      <td>0.000000e+00</td>\n      <td>2.331602e+07</td>\n    </tr>\n    <tr>\n      <th>Europe</th>\n      <td>6</td>\n      <td>7.632161e+07</td>\n      <td>3.162885e+07</td>\n      <td>4.579297e+08</td>\n    </tr>\n    <tr>\n      <th>North America</th>\n      <td>2</td>\n      <td>1.764276e+08</td>\n      <td>1.411878e+08</td>\n      <td>3.528552e+08</td>\n    </tr>\n    <tr>\n      <th>South America</th>\n      <td>1</td>\n      <td>2.059153e+08</td>\n      <td>0.000000e+00</td>\n      <td>2.059153e+08</td>\n    </tr>\n  </tbody>\n</table>\n</div>"
     },
     "execution_count": 705,
     "metadata": {},
     "output_type": "execute_result"
    }
   ],
   "source": [
    "country_to_continent = {\n",
    "    'China':'Asia',\n",
    "    'United States':'North America',\n",
    "    'Japan':'Asia',\n",
    "    'United Kingdom':'Europe',\n",
    "    'Russian Federation':'Europe',\n",
    "    'Canada':'North America',\n",
    "    'Germany':'Europe',\n",
    "    'India':'Asia',\n",
    "    'France':'Europe',\n",
    "    'South Korea':'Asia',\n",
    "    'Italy':'Europe',\n",
    "    'Spain':'Europe',\n",
    "    'Iran':'Asia',\n",
    "    'Australia':'Australia',\n",
    "    'Brazil':'South America'\n",
    "}\n",
    "def std(x): return np.std(x)\n",
    "def answer_seven():\n",
    "    top_15 = get_top_15_with_population()\n",
    "    print(top_15.loc['Australia', 'population'].std())\n",
    "    top_15['continent'] = [country_to_continent[country] for country in top_15.index.to_list()]\n",
    "    continent_stat = top_15.reset_index().pivot_table(\n",
    "        index='continent', values=['country', 'population'], \n",
    "        aggfunc={'country': 'count', 'population': ['sum', 'mean', std]}\n",
    "    )\n",
    "    return continent_stat\n",
    "answer_seven()"
   ],
   "metadata": {
    "collapsed": false,
    "ExecuteTime": {
     "end_time": "2023-10-15T18:49:51.686768Z",
     "start_time": "2023-10-15T18:49:51.344832Z"
    }
   },
   "id": "bed20af0f9fa9fdf"
  }
 ],
 "metadata": {
  "kernelspec": {
   "display_name": "Python 3 (ipykernel)",
   "language": "python",
   "name": "python3"
  },
  "language_info": {
   "codemirror_mode": {
    "name": "ipython",
    "version": 3
   },
   "file_extension": ".py",
   "mimetype": "text/x-python",
   "name": "python",
   "nbconvert_exporter": "python",
   "pygments_lexer": "ipython3",
   "version": "3.11.5"
  }
 },
 "nbformat": 4,
 "nbformat_minor": 5
}
