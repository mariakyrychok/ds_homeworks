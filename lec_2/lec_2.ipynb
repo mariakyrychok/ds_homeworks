{
 "cells": [
  {
   "cell_type": "code",
   "execution_count": 296,
   "id": "initial_id",
   "metadata": {
    "collapsed": true,
    "ExecuteTime": {
     "end_time": "2023-10-11T10:30:45.066407Z",
     "start_time": "2023-10-11T10:30:45.062609Z"
    }
   },
   "outputs": [],
   "source": [
    "import numpy as np\n",
    "import pandas as pd"
   ]
  },
  {
   "cell_type": "code",
   "execution_count": 297,
   "outputs": [],
   "source": [
    "primes = np.array([2,   3,   5,   7,  11,  13,  17,  19,  23,  29,  31,  37,\n",
    "                   41,  43,  47,  53,  59,  61,  67,  71,  73,  79,  83,  89,  97])"
   ],
   "metadata": {
    "collapsed": false,
    "ExecuteTime": {
     "end_time": "2023-10-11T10:30:45.544973Z",
     "start_time": "2023-10-11T10:30:45.540573Z"
    }
   },
   "id": "2a8f5100bd6f0474"
  },
  {
   "cell_type": "code",
   "execution_count": 298,
   "outputs": [
    {
     "name": "stdout",
     "output_type": "stream",
     "text": [
      "4851\n"
     ]
    }
   ],
   "source": [
    "numbers = []\n",
    "for a in range(2, 100):\n",
    "    for b in range(a, 100):\n",
    "        numbers.append([[a, b]])\n",
    "         \n",
    "numbers = pd.DataFrame(numbers, columns=['nums'])\n",
    "numbers['sum'] = numbers['nums'].apply(lambda n:n[0]+n[1])\n",
    "numbers['prod'] = numbers['nums'].apply(lambda n:n[0]*n[1])\n",
    "print(numbers['nums'].count())"
   ],
   "metadata": {
    "collapsed": false,
    "ExecuteTime": {
     "end_time": "2023-10-11T10:30:46.321629Z",
     "start_time": "2023-10-11T10:30:46.305324Z"
    }
   },
   "id": "7bf44968f55bec3c"
  },
  {
   "cell_type": "code",
   "execution_count": 299,
   "outputs": [
    {
     "name": "stdout",
     "output_type": "stream",
     "text": [
      "nums              3076\n",
      "sum               3076\n",
      "prod              3076\n",
      "is_unique_prod    3076\n",
      "dtype: int64\n"
     ]
    }
   ],
   "source": [
    "amount_of_uniq_prod = numbers['prod'].value_counts()\n",
    "prods_appeared_once = amount_of_uniq_prod[amount_of_uniq_prod == 1].index\n",
    "numbers['is_unique_prod'] = numbers['prod'].isin(prods_appeared_once)\n",
    "print(numbers[numbers['is_unique_prod'] == False].count())"
   ],
   "metadata": {
    "collapsed": false,
    "ExecuteTime": {
     "end_time": "2023-10-11T10:30:47.890075Z",
     "start_time": "2023-10-11T10:30:47.856716Z"
    }
   },
   "id": "167031d4f83ea033"
  },
  {
   "cell_type": "code",
   "execution_count": 295,
   "outputs": [
    {
     "name": "stdout",
     "output_type": "stream",
     "text": [
      "1775\n",
      "          nums  sum  prod  is_unique_prod  is_sum_corresponding_unique_prod\n",
      "0       [2, 2]    4     4            True                              True\n",
      "1       [2, 3]    5     6            True                              True\n",
      "2       [2, 4]    6     8            True                              True\n",
      "3       [2, 5]    7    10            True                              True\n",
      "4       [2, 6]    8    12           False                              True\n",
      "...        ...  ...   ...             ...                               ...\n",
      "4846  [97, 98]  195  9506            True                              True\n",
      "4847  [97, 99]  196  9603            True                              True\n",
      "4848  [98, 98]  196  9604            True                              True\n",
      "4849  [98, 99]  197  9702            True                              True\n",
      "4850  [99, 99]  198  9801            True                              True\n",
      "\n",
      "[4851 rows x 5 columns]\n"
     ]
    }
   ],
   "source": [
    "#sum_of_primes = [i + j for i in primes for j in primes]\n",
    "#sum_of_primes = list(set(sum_of_primes))\n",
    "\n",
    "#def is_sum_of_primes(sum):\n",
    "    #return sum in sum_of_primes\n",
    "\n",
    "#numbers['is_sum_of_primes'] = numbers['sum'].apply(is_sum_of_primes)\n",
    "#numbers = numbers[numbers['is_sum_of_primes'] == False]\n",
    "\n"
   ],
   "metadata": {
    "collapsed": false,
    "ExecuteTime": {
     "end_time": "2023-10-11T10:26:06.475813Z",
     "start_time": "2023-10-11T10:26:06.447305Z"
    }
   },
   "id": "de158e6aa6ece2"
  },
  {
   "cell_type": "code",
   "execution_count": 270,
   "outputs": [
    {
     "name": "stdout",
     "output_type": "stream",
     "text": [
      "Index([3552, 1720, 1960, 2760, 2600, 3744, 3000, 1880, 3116, 1938,\n",
      "       ...\n",
      "       2040, 1944, 1128, 1032,  984, 2116, 2070, 2024, 1840, 7644],\n",
      "      dtype='int64', name='prod', length=375)\n",
      "Index([165, 173, 179, 175], dtype='int64', name='sum')\n"
     ]
    }
   ],
   "source": [],
   "metadata": {
    "collapsed": false,
    "ExecuteTime": {
     "end_time": "2023-10-11T09:43:48.155712Z",
     "start_time": "2023-10-11T09:43:48.145191Z"
    }
   },
   "id": "e3ae41f05e340da3"
  },
  {
   "cell_type": "code",
   "execution_count": 271,
   "outputs": [
    {
     "name": "stdout",
     "output_type": "stream",
     "text": [
      "          nums  sum  prod  is_unique_prod  is_sum_of_primes  is_unique_sum\n",
      "4382  [69, 96]  165  6624            True             False           True\n",
      "4594  [77, 96]  173  7392            True             False           True\n",
      "4660  [80, 99]  179  7920            True             False           True\n",
      "4722  [84, 91]  175  7644            True             False           True\n"
     ]
    }
   ],
   "source": [
    "print(numbers)"
   ],
   "metadata": {
    "collapsed": false,
    "ExecuteTime": {
     "end_time": "2023-10-11T09:43:50.621806Z",
     "start_time": "2023-10-11T09:43:50.617773Z"
    }
   },
   "id": "516565ccedffb152"
  },
  {
   "cell_type": "code",
   "execution_count": 233,
   "outputs": [],
   "source": [],
   "metadata": {
    "collapsed": false,
    "ExecuteTime": {
     "end_time": "2023-10-09T18:56:51.882440Z",
     "start_time": "2023-10-09T18:56:51.855876Z"
    }
   },
   "id": "a719b5e8bb23829e"
  },
  {
   "cell_type": "markdown",
   "source": [
    "## Task about lakes"
   ],
   "metadata": {
    "collapsed": false
   },
   "id": "96d29a51fc1436ca"
  },
  {
   "cell_type": "code",
   "execution_count": 237,
   "outputs": [],
   "source": [
    "import matplotlib.pyplot as plt"
   ],
   "metadata": {
    "collapsed": false,
    "ExecuteTime": {
     "end_time": "2023-10-10T08:29:25.750386Z",
     "start_time": "2023-10-10T08:29:24.610477Z"
    }
   },
   "id": "a32e3086549b9a1f"
  },
  {
   "cell_type": "code",
   "execution_count": 263,
   "outputs": [],
   "source": [
    "np.random.seed(999)\n",
    "a = np.random.randint(1,100,20)"
   ],
   "metadata": {
    "collapsed": false,
    "ExecuteTime": {
     "end_time": "2023-10-11T09:09:17.921591Z",
     "start_time": "2023-10-11T09:09:17.917930Z"
    }
   },
   "id": "d0e02c0ab6bade51"
  },
  {
   "cell_type": "code",
   "execution_count": 264,
   "outputs": [
    {
     "data": {
      "text/plain": "[<matplotlib.lines.Line2D at 0x13c236a90>]"
     },
     "execution_count": 264,
     "metadata": {},
     "output_type": "execute_result"
    },
    {
     "data": {
      "text/plain": "<Figure size 640x480 with 1 Axes>",
      "image/png": "[encoded data removed]"
     },
     "metadata": {},
     "output_type": "display_data"
    }
   ],
   "source": [
    "plt.plot(a)"
   ],
   "metadata": {
    "collapsed": false,
    "ExecuteTime": {
     "end_time": "2023-10-11T09:09:19.734520Z",
     "start_time": "2023-10-11T09:09:19.652768Z"
    }
   },
   "id": "7f05cce722389dca"
  },
  {
   "cell_type": "code",
   "execution_count": 244,
   "outputs": [
    {
     "ename": "IndexError",
     "evalue": "index 20 is out of bounds for axis 0 with size 20",
     "output_type": "error",
     "traceback": [
      "\u001B[0;31m---------------------------------------------------------------------------\u001B[0m",
      "\u001B[0;31mIndexError\u001B[0m                                Traceback (most recent call last)",
      "Cell \u001B[0;32mIn[244], line 5\u001B[0m\n\u001B[1;32m      3\u001B[0m is_down \u001B[38;5;241m=\u001B[39m \u001B[38;5;28;01mFalse\u001B[39;00m\n\u001B[1;32m      4\u001B[0m \u001B[38;5;28;01mfor\u001B[39;00m index, point \u001B[38;5;129;01min\u001B[39;00m \u001B[38;5;28menumerate\u001B[39m(a):\n\u001B[0;32m----> 5\u001B[0m     \u001B[38;5;28;01mif\u001B[39;00m a[index] \u001B[38;5;241m>\u001B[39m\u001B[38;5;241m=\u001B[39m \u001B[43ma\u001B[49m\u001B[43m[\u001B[49m\u001B[43mindex\u001B[49m\u001B[43m \u001B[49m\u001B[38;5;241;43m+\u001B[39;49m\u001B[43m \u001B[49m\u001B[38;5;241;43m1\u001B[39;49m\u001B[43m]\u001B[49m:\n\u001B[1;32m      6\u001B[0m         lake\u001B[38;5;241m.\u001B[39mappend(point)\n\u001B[1;32m      7\u001B[0m         \u001B[38;5;28;01mif\u001B[39;00m \u001B[38;5;129;01mnot\u001B[39;00m is_down:\n",
      "\u001B[0;31mIndexError\u001B[0m: index 20 is out of bounds for axis 0 with size 20"
     ]
    }
   ],
   "source": [
    "left_index, right_index, low_index = None, None, None\n",
    "lakes = []\n",
    "for index, point in enumerate(a):\n",
    "    "
   ],
   "metadata": {
    "collapsed": false,
    "ExecuteTime": {
     "end_time": "2023-10-10T11:15:41.776795Z",
     "start_time": "2023-10-10T11:15:41.584296Z"
    }
   },
   "id": "4cd80e947ba535e"
  },
  {
   "cell_type": "code",
   "execution_count": null,
   "outputs": [],
   "source": [],
   "metadata": {
    "collapsed": false
   },
   "id": "cc4103f50b059b09"
  }
 ],
 "metadata": {
  "kernelspec": {
   "display_name": "Python 3",
   "language": "python",
   "name": "python3"
  },
  "language_info": {
   "codemirror_mode": {
    "name": "ipython",
    "version": 2
   },
   "file_extension": ".py",
   "mimetype": "text/x-python",
   "name": "python",
   "nbconvert_exporter": "python",
   "pygments_lexer": "ipython2",
   "version": "2.7.6"
  }
 },
 "nbformat": 4,
 "nbformat_minor": 5
}
