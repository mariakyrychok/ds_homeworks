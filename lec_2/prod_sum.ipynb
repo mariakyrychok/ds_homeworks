{
 "cells": [
  {
   "cell_type": "markdown",
   "source": [
    "### Task about sum and product \n",
    "\n",
    "There are two whole numbers:\n",
    "**1 < a,b <100**\n",
    "\n",
    "One scientist **Sum** get provided with sum of numbers,\n",
    "another  **Prod** get provided with product of numbers. \n",
    "Both scientists know that numbers **1 < a,b <100**\n",
    "\n",
    "Determine the numbers being based on the following dialog:\n",
    " \n",
    "* **Prod**: *I don't know the numbers*;\n",
    "* **Sum**: *I know it*;\n",
    "* **Prod**: *then I know the numbers*; \n",
    "* **Sum**: *then I know the numbers too*."
   ],
   "metadata": {
    "collapsed": false
   },
   "id": "9ca14feb78beaaf6"
  },
  {
   "cell_type": "code",
   "execution_count": 136,
   "outputs": [],
   "source": [
    "import pandas as pd"
   ],
   "metadata": {
    "collapsed": false,
    "ExecuteTime": {
     "end_time": "2023-10-19T09:57:47.794845Z",
     "start_time": "2023-10-19T09:57:47.729023Z"
    }
   },
   "id": "initial_id"
  },
  {
   "cell_type": "markdown",
   "source": [
    "Generating values, where the `nums` column is the pairs of a, b; `sum` - a + b; `prod` - a * b"
   ],
   "metadata": {
    "collapsed": false
   },
   "id": "5a383c0c75786620"
  },
  {
   "cell_type": "code",
   "execution_count": 137,
   "outputs": [],
   "source": [
    "numbers = []\n",
    "for a in range(2, 100):\n",
    "    for b in range(a, 100):\n",
    "        numbers.append([[a, b]])\n",
    "         \n",
    "numbers = pd.DataFrame(numbers, columns=['nums'])\n",
    "numbers['sum'] = numbers['nums'].apply(lambda n:n[0]+n[1])\n",
    "numbers['prod'] = numbers['nums'].apply(lambda n:n[0]*n[1])"
   ],
   "metadata": {
    "collapsed": false,
    "ExecuteTime": {
     "end_time": "2023-10-19T09:57:47.800390Z",
     "start_time": "2023-10-19T09:57:47.741264Z"
    }
   },
   "id": "7bf44968f55bec3c"
  },
  {
   "cell_type": "markdown",
   "source": [
    "**Prod**: *I don't know the numbers*;\n",
    "\n",
    "It means that the product of a and b is not unique, so only duplicate products remain."
   ],
   "metadata": {
    "collapsed": false
   },
   "id": "e5aba8f5f2f77b04"
  },
  {
   "cell_type": "code",
   "execution_count": 138,
   "outputs": [],
   "source": [
    "def get_unique_values(column):\n",
    "    amount_of_uniq_values = numbers[column].value_counts()\n",
    "    return amount_of_uniq_values[amount_of_uniq_values == 1].index\n",
    "\n",
    "numbers['is_unique_prod'] = numbers['prod'].isin(get_unique_values('prod'))"
   ],
   "metadata": {
    "collapsed": false,
    "ExecuteTime": {
     "end_time": "2023-10-19T09:57:47.804293Z",
     "start_time": "2023-10-19T09:57:47.756037Z"
    }
   },
   "id": "167031d4f83ea033"
  },
  {
   "cell_type": "markdown",
   "source": [
    "**Sum**: *I know it*;\n",
    "\n",
    "We excluded those rows whose sum corresponds to unique values of the product."
   ],
   "metadata": {
    "collapsed": false
   },
   "id": "92dddb278d6178b3"
  },
  {
   "cell_type": "code",
   "execution_count": 139,
   "outputs": [],
   "source": [
    "sums_corresponding_unique_prods = numbers[numbers['is_unique_prod'] == True]['sum']\n",
    "numbers['is_corresponding_unique_prod'] = numbers['sum'].isin(list(sums_corresponding_unique_prods))"
   ],
   "metadata": {
    "collapsed": false,
    "ExecuteTime": {
     "end_time": "2023-10-19T09:57:47.807712Z",
     "start_time": "2023-10-19T09:57:47.760388Z"
    }
   },
   "id": "e3ae41f05e340da3"
  },
  {
   "cell_type": "markdown",
   "source": [
    "Filtering"
   ],
   "metadata": {
    "collapsed": false
   },
   "id": "135123b46c092189"
  },
  {
   "cell_type": "code",
   "execution_count": 140,
   "outputs": [],
   "source": [
    "numbers = numbers[(numbers['is_unique_prod'] == False) & (numbers['is_corresponding_unique_prod'] == False)][['nums', 'sum', 'prod']]"
   ],
   "metadata": {
    "collapsed": false,
    "ExecuteTime": {
     "end_time": "2023-10-19T09:57:47.808782Z",
     "start_time": "2023-10-19T09:57:47.766255Z"
    }
   },
   "id": "a719b5e8bb23829e"
  },
  {
   "cell_type": "markdown",
   "source": [
    "**Prod**: *then I know the numbers*\n",
    "\n",
    "A product can know numbers only when it is unique. Therefore, we remain only the unique values of the product."
   ],
   "metadata": {
    "collapsed": false
   },
   "id": "391685456ee62817"
  },
  {
   "cell_type": "code",
   "execution_count": 141,
   "outputs": [],
   "source": [
    "numbers['is_unique_prod'] = numbers['prod'].isin(get_unique_values('prod'))\n",
    "numbers = numbers[numbers['is_unique_prod']]"
   ],
   "metadata": {
    "collapsed": false,
    "ExecuteTime": {
     "end_time": "2023-10-19T09:57:47.808887Z",
     "start_time": "2023-10-19T09:57:47.768072Z"
    }
   },
   "id": "fc9bfb0cd1ef8ab8"
  },
  {
   "cell_type": "markdown",
   "source": [
    "**Sum**: *then I know the numbers too*\n",
    "\n",
    "Among all these unique products we are looking for a unique sums now."
   ],
   "metadata": {
    "collapsed": false
   },
   "id": "7d9054b0264aaa02"
  },
  {
   "cell_type": "code",
   "execution_count": 142,
   "outputs": [
    {
     "name": "stdout",
     "output_type": "stream",
     "text": [
      "        nums  sum  prod  is_unique_prod  is_unique_sum\n",
      "204  [4, 13]   17    52            True           True\n"
     ]
    }
   ],
   "source": [
    "numbers['is_unique_sum'] = numbers['sum'].isin(get_unique_values('sum'))\n",
    "numbers = numbers[numbers['is_unique_sum']]\n",
    "print(numbers)"
   ],
   "metadata": {
    "collapsed": false,
    "ExecuteTime": {
     "end_time": "2023-10-19T09:57:47.815285Z",
     "start_time": "2023-10-19T09:57:47.771387Z"
    }
   },
   "id": "f4514d03fa2b82ba"
  },
  {
   "cell_type": "markdown",
   "source": [
    "#### Answer\n",
    "Finally, the numbers are 4 and 13, the sum of which is 17, and the product is 52."
   ],
   "metadata": {
    "collapsed": false
   },
   "id": "ce229d1022561e88"
  }
 ],
 "metadata": {
  "kernelspec": {
   "display_name": "Python 3",
   "language": "python",
   "name": "python3"
  },
  "language_info": {
   "codemirror_mode": {
    "name": "ipython",
    "version": 2
   },
   "file_extension": ".py",
   "mimetype": "text/x-python",
   "name": "python",
   "nbconvert_exporter": "python",
   "pygments_lexer": "ipython2",
   "version": "2.7.6"
  }
 },
 "nbformat": 4,
 "nbformat_minor": 5
}
