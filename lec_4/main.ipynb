{
 "cells": [
  {
   "cell_type": "markdown",
   "source": [
    "<font color = green >\n",
    "\n",
    "# <center>Homework<center>\n",
    "</font>\n",
    "\n",
    "__Exploratory Data Analysis (EDA)__ of car insurance dataset.\n",
    "    \n",
    "__Dataset description:__ Car insurance claim. As you are working in the insurance company. Company wants to know the reason why claim was not made. Doing so would allow insurance company to improve there policy for giving loan to the customer. In this project you are dealing with various feature such as age, occupation etc. based on that let's get back to the final conculsion.    \n",
    "\n",
    "__Steps:__\n",
    "- Data Cleaning\n",
    "- Descriptive Statistics\n",
    "- Data Visualization\n",
    "- Conclusions\n",
    "\n",
    "\n",
    "### <center>The dataset<center>\n",
    "\n",
    "| Column | Description                                                                                                                                   |\n",
    "|--------|-----------------------------------------------------------------------------------------------------------------------------------------------|\n",
    "| `id` | unique client identifier                                                                                                                      |\n",
    "| `age` | client's age: <br> <ul><li>`0`: 16-25</li><li>`1`: 26-39</li><li>`2`: 40-64</li><li>`3`: 65+</li></ul>                                        |\n",
    "| `gender` | client's gender: <br> <ul><li>`0`: Female</li><li>`1`: Male</li></ul>                                                                         |\n",
    "| `driving_experience` | the number of years a client has been driving: <br> <ul><li>`0`: 0-9</li><li>`1`: 10-19</li><li>`2`: 20-29</li><li>`3`: 30+</li></ul>         |\n",
    "| `education` | client's level of education: <br> <ul><li>`0`: No education</li><li>`1`: High school</li><li>`2`: University</li></ul>                        |\n",
    "| `income` | client's income level: <br> <ul><li>`0`: Poverty</li><li>`1`: Working class</li><li>`2`: Middle class</li><li>`3`: Upper class</li></ul>      |\n",
    "| `credit_score` | client's credit score (between zero and one)                                                                                                  |\n",
    "| `vehicle_ownership` | client's vehicle ownership status: <br><ul><li>`0`: Does not own their vehilce (paying off finance)</li><li>`1`: Owns their vehicle</li></ul> |\n",
    "| `vehcile_year` | year of vehicle registration: <br><ul><li>`0`: Before 2015</li><li>`1`: 2015 or later</li></ul>                                               |\n",
    "| `married` | client's marital status: <br><ul><li>`0`: Not married</li><li>`1`: Married</li></ul>                                                          |\n",
    "| `children` | client's number of children                                                                                                                   |\n",
    "| `postal_code` | client's postal code                                                                                                                          | \n",
    "| `annual_mileage` | number of miles driven by the client each year                                                                                                |\n",
    "| `vehicle_type` | type of car: <br> <ul><li>`0`: Sedan</li><li>`1`: Sports car</li></ul>                                                                        |\n",
    "| `speeding_violations` | total number of speeding violations received by the client                                                                                    | \n",
    "| `duis` | number of times the client has been caught driving under the influence of of alcohol, drugs, or other substances                              |\n",
    "| `past_accidents` | total number of previous accidents the client has been involved in                                                                            |\n",
    "| `outcome` | whether the client made a claim on their car insurance (response variable): <br><ul><li>`0`: No claim</li><li>`1`: Made a claim</li></ul>     |"
   ],
   "metadata": {
    "collapsed": false
   },
   "id": "fa50c1273a77d279"
  },
  {
   "cell_type": "code",
   "execution_count": 4,
   "outputs": [
    {
     "data": {
      "text/plain": "   Unnamed: 0      ID    AGE  GENDER      RACE DRIVING_EXPERIENCE  \\\n0           0  569520    65+  female  majority               0-9y   \n1           1  750365  16-25    male  majority               0-9y   \n2           2  199901  16-25  female  majority               0-9y   \n3           3  478866  16-25    male  majority               0-9y   \n4           4  731664  26-39    male  majority             10-19y   \n\n     EDUCATION         INCOME        CREDIT_SCORE VEHICLE_OWNERSHIP  \\\n0  high school    upper class   0.629027313918201               1.0   \n1         none        poverty  0.3577571170184627               0.0   \n2  high school  working class  0.4931457852181982               1.0   \n3   university  working class  0.2060128507324556               1.0   \n4         none  working class  0.3883658881572184               1.0   \n\n  VEHICLE_YEAR MARRIED CHILDREN POSTAL_CODE ANNUAL_MILEAGE VEHICLE_TYPE  \\\n0   after 2015     0.0      1.0       10238        12000.0        sedan   \n1  before 2015     0.0      0.0       10238        16000.0        sedan   \n2  before 2015     0.0      0.0       10238        11000.0        sedan   \n3  before 2015     0.0     none       32765        11000.0        sedan   \n4  before 2015     0.0      0.0     32765.0        12000.0        sedan   \n\n  SPEEDING_VIOLATIONS DUIS PAST_ACCIDENTS OUTCOME  \n0                   0    0              0     0.0  \n1                   0    0              0     1.0  \n2                   0    0              0     0.0  \n3                   0    0              0     0.0  \n4                   2    0              1     1.0  ",
      "text/html": "<div>\n<style scoped>\n    .dataframe tbody tr th:only-of-type {\n        vertical-align: middle;\n    }\n\n    .dataframe tbody tr th {\n        vertical-align: top;\n    }\n\n    .dataframe thead th {\n        text-align: right;\n    }\n</style>\n<table border=\"1\" class=\"dataframe\">\n  <thead>\n    <tr style=\"text-align: right;\">\n      <th></th>\n      <th>Unnamed: 0</th>\n      <th>ID</th>\n      <th>AGE</th>\n      <th>GENDER</th>\n      <th>RACE</th>\n      <th>DRIVING_EXPERIENCE</th>\n      <th>EDUCATION</th>\n      <th>INCOME</th>\n      <th>CREDIT_SCORE</th>\n      <th>VEHICLE_OWNERSHIP</th>\n      <th>VEHICLE_YEAR</th>\n      <th>MARRIED</th>\n      <th>CHILDREN</th>\n      <th>POSTAL_CODE</th>\n      <th>ANNUAL_MILEAGE</th>\n      <th>VEHICLE_TYPE</th>\n      <th>SPEEDING_VIOLATIONS</th>\n      <th>DUIS</th>\n      <th>PAST_ACCIDENTS</th>\n      <th>OUTCOME</th>\n    </tr>\n  </thead>\n  <tbody>\n    <tr>\n      <th>0</th>\n      <td>0</td>\n      <td>569520</td>\n      <td>65+</td>\n      <td>female</td>\n      <td>majority</td>\n      <td>0-9y</td>\n      <td>high school</td>\n      <td>upper class</td>\n      <td>0.629027313918201</td>\n      <td>1.0</td>\n      <td>after 2015</td>\n      <td>0.0</td>\n      <td>1.0</td>\n      <td>10238</td>\n      <td>12000.0</td>\n      <td>sedan</td>\n      <td>0</td>\n      <td>0</td>\n      <td>0</td>\n      <td>0.0</td>\n    </tr>\n    <tr>\n      <th>1</th>\n      <td>1</td>\n      <td>750365</td>\n      <td>16-25</td>\n      <td>male</td>\n      <td>majority</td>\n      <td>0-9y</td>\n      <td>none</td>\n      <td>poverty</td>\n      <td>0.3577571170184627</td>\n      <td>0.0</td>\n      <td>before 2015</td>\n      <td>0.0</td>\n      <td>0.0</td>\n      <td>10238</td>\n      <td>16000.0</td>\n      <td>sedan</td>\n      <td>0</td>\n      <td>0</td>\n      <td>0</td>\n      <td>1.0</td>\n    </tr>\n    <tr>\n      <th>2</th>\n      <td>2</td>\n      <td>199901</td>\n      <td>16-25</td>\n      <td>female</td>\n      <td>majority</td>\n      <td>0-9y</td>\n      <td>high school</td>\n      <td>working class</td>\n      <td>0.4931457852181982</td>\n      <td>1.0</td>\n      <td>before 2015</td>\n      <td>0.0</td>\n      <td>0.0</td>\n      <td>10238</td>\n      <td>11000.0</td>\n      <td>sedan</td>\n      <td>0</td>\n      <td>0</td>\n      <td>0</td>\n      <td>0.0</td>\n    </tr>\n    <tr>\n      <th>3</th>\n      <td>3</td>\n      <td>478866</td>\n      <td>16-25</td>\n      <td>male</td>\n      <td>majority</td>\n      <td>0-9y</td>\n      <td>university</td>\n      <td>working class</td>\n      <td>0.2060128507324556</td>\n      <td>1.0</td>\n      <td>before 2015</td>\n      <td>0.0</td>\n      <td>none</td>\n      <td>32765</td>\n      <td>11000.0</td>\n      <td>sedan</td>\n      <td>0</td>\n      <td>0</td>\n      <td>0</td>\n      <td>0.0</td>\n    </tr>\n    <tr>\n      <th>4</th>\n      <td>4</td>\n      <td>731664</td>\n      <td>26-39</td>\n      <td>male</td>\n      <td>majority</td>\n      <td>10-19y</td>\n      <td>none</td>\n      <td>working class</td>\n      <td>0.3883658881572184</td>\n      <td>1.0</td>\n      <td>before 2015</td>\n      <td>0.0</td>\n      <td>0.0</td>\n      <td>32765.0</td>\n      <td>12000.0</td>\n      <td>sedan</td>\n      <td>2</td>\n      <td>0</td>\n      <td>1</td>\n      <td>1.0</td>\n    </tr>\n  </tbody>\n</table>\n</div>"
     },
     "execution_count": 4,
     "metadata": {},
     "output_type": "execute_result"
    }
   ],
   "source": [
    "import pandas as pd\n",
    "claims = pd.read_csv(\"./datasets/car_insurance_claim.csv\")\n",
    "claims.head()"
   ],
   "metadata": {
    "collapsed": false,
    "ExecuteTime": {
     "end_time": "2023-10-21T07:59:05.491891Z",
     "start_time": "2023-10-21T07:59:05.449751Z"
    }
   },
   "id": "ff51832540e7bfb9"
  },
  {
   "cell_type": "code",
   "execution_count": 5,
   "outputs": [],
   "source": [
    "claims.columns= claims.columns.str.lower()"
   ],
   "metadata": {
    "collapsed": false,
    "ExecuteTime": {
     "end_time": "2023-10-21T09:08:55.285570Z",
     "start_time": "2023-10-21T09:08:55.284630Z"
    }
   },
   "id": "3f084a8601c5b352"
  },
  {
   "cell_type": "code",
   "execution_count": 6,
   "outputs": [
    {
     "data": {
      "text/plain": "   unnamed: 0      id    age  gender      race driving_experience  \\\n0           0  569520    65+  female  majority               0-9y   \n1           1  750365  16-25    male  majority               0-9y   \n2           2  199901  16-25  female  majority               0-9y   \n3           3  478866  16-25    male  majority               0-9y   \n4           4  731664  26-39    male  majority             10-19y   \n\n     education         income        credit_score vehicle_ownership  \\\n0  high school    upper class   0.629027313918201               1.0   \n1         none        poverty  0.3577571170184627               0.0   \n2  high school  working class  0.4931457852181982               1.0   \n3   university  working class  0.2060128507324556               1.0   \n4         none  working class  0.3883658881572184               1.0   \n\n  vehicle_year married children postal_code annual_mileage vehicle_type  \\\n0   after 2015     0.0      1.0       10238        12000.0        sedan   \n1  before 2015     0.0      0.0       10238        16000.0        sedan   \n2  before 2015     0.0      0.0       10238        11000.0        sedan   \n3  before 2015     0.0     none       32765        11000.0        sedan   \n4  before 2015     0.0      0.0     32765.0        12000.0        sedan   \n\n  speeding_violations duis past_accidents outcome  \n0                   0    0              0     0.0  \n1                   0    0              0     1.0  \n2                   0    0              0     0.0  \n3                   0    0              0     0.0  \n4                   2    0              1     1.0  ",
      "text/html": "<div>\n<style scoped>\n    .dataframe tbody tr th:only-of-type {\n        vertical-align: middle;\n    }\n\n    .dataframe tbody tr th {\n        vertical-align: top;\n    }\n\n    .dataframe thead th {\n        text-align: right;\n    }\n</style>\n<table border=\"1\" class=\"dataframe\">\n  <thead>\n    <tr style=\"text-align: right;\">\n      <th></th>\n      <th>unnamed: 0</th>\n      <th>id</th>\n      <th>age</th>\n      <th>gender</th>\n      <th>race</th>\n      <th>driving_experience</th>\n      <th>education</th>\n      <th>income</th>\n      <th>credit_score</th>\n      <th>vehicle_ownership</th>\n      <th>vehicle_year</th>\n      <th>married</th>\n      <th>children</th>\n      <th>postal_code</th>\n      <th>annual_mileage</th>\n      <th>vehicle_type</th>\n      <th>speeding_violations</th>\n      <th>duis</th>\n      <th>past_accidents</th>\n      <th>outcome</th>\n    </tr>\n  </thead>\n  <tbody>\n    <tr>\n      <th>0</th>\n      <td>0</td>\n      <td>569520</td>\n      <td>65+</td>\n      <td>female</td>\n      <td>majority</td>\n      <td>0-9y</td>\n      <td>high school</td>\n      <td>upper class</td>\n      <td>0.629027313918201</td>\n      <td>1.0</td>\n      <td>after 2015</td>\n      <td>0.0</td>\n      <td>1.0</td>\n      <td>10238</td>\n      <td>12000.0</td>\n      <td>sedan</td>\n      <td>0</td>\n      <td>0</td>\n      <td>0</td>\n      <td>0.0</td>\n    </tr>\n    <tr>\n      <th>1</th>\n      <td>1</td>\n      <td>750365</td>\n      <td>16-25</td>\n      <td>male</td>\n      <td>majority</td>\n      <td>0-9y</td>\n      <td>none</td>\n      <td>poverty</td>\n      <td>0.3577571170184627</td>\n      <td>0.0</td>\n      <td>before 2015</td>\n      <td>0.0</td>\n      <td>0.0</td>\n      <td>10238</td>\n      <td>16000.0</td>\n      <td>sedan</td>\n      <td>0</td>\n      <td>0</td>\n      <td>0</td>\n      <td>1.0</td>\n    </tr>\n    <tr>\n      <th>2</th>\n      <td>2</td>\n      <td>199901</td>\n      <td>16-25</td>\n      <td>female</td>\n      <td>majority</td>\n      <td>0-9y</td>\n      <td>high school</td>\n      <td>working class</td>\n      <td>0.4931457852181982</td>\n      <td>1.0</td>\n      <td>before 2015</td>\n      <td>0.0</td>\n      <td>0.0</td>\n      <td>10238</td>\n      <td>11000.0</td>\n      <td>sedan</td>\n      <td>0</td>\n      <td>0</td>\n      <td>0</td>\n      <td>0.0</td>\n    </tr>\n    <tr>\n      <th>3</th>\n      <td>3</td>\n      <td>478866</td>\n      <td>16-25</td>\n      <td>male</td>\n      <td>majority</td>\n      <td>0-9y</td>\n      <td>university</td>\n      <td>working class</td>\n      <td>0.2060128507324556</td>\n      <td>1.0</td>\n      <td>before 2015</td>\n      <td>0.0</td>\n      <td>none</td>\n      <td>32765</td>\n      <td>11000.0</td>\n      <td>sedan</td>\n      <td>0</td>\n      <td>0</td>\n      <td>0</td>\n      <td>0.0</td>\n    </tr>\n    <tr>\n      <th>4</th>\n      <td>4</td>\n      <td>731664</td>\n      <td>26-39</td>\n      <td>male</td>\n      <td>majority</td>\n      <td>10-19y</td>\n      <td>none</td>\n      <td>working class</td>\n      <td>0.3883658881572184</td>\n      <td>1.0</td>\n      <td>before 2015</td>\n      <td>0.0</td>\n      <td>0.0</td>\n      <td>32765.0</td>\n      <td>12000.0</td>\n      <td>sedan</td>\n      <td>2</td>\n      <td>0</td>\n      <td>1</td>\n      <td>1.0</td>\n    </tr>\n  </tbody>\n</table>\n</div>"
     },
     "execution_count": 6,
     "metadata": {},
     "output_type": "execute_result"
    }
   ],
   "source": [
    "claims.head()"
   ],
   "metadata": {
    "collapsed": false,
    "ExecuteTime": {
     "end_time": "2023-10-21T09:09:01.077852Z",
     "start_time": "2023-10-21T09:09:00.895692Z"
    }
   },
   "id": "a7964912bd951a47"
  },
  {
   "cell_type": "code",
   "execution_count": 7,
   "outputs": [
    {
     "name": "stdout",
     "output_type": "stream",
     "text": [
      "<class 'pandas.core.frame.DataFrame'>\n",
      "RangeIndex: 10000 entries, 0 to 9999\n",
      "Data columns (total 20 columns):\n",
      " #   Column               Non-Null Count  Dtype \n",
      "---  ------               --------------  ----- \n",
      " 0   unnamed: 0           10000 non-null  int64 \n",
      " 1   id                   10000 non-null  int64 \n",
      " 2   age                  9950 non-null   object\n",
      " 3   gender               9950 non-null   object\n",
      " 4   race                 9951 non-null   object\n",
      " 5   driving_experience   9950 non-null   object\n",
      " 6   education            9951 non-null   object\n",
      " 7   income               10000 non-null  object\n",
      " 8   credit_score         8978 non-null   object\n",
      " 9   vehicle_ownership    9950 non-null   object\n",
      " 10  vehicle_year         9950 non-null   object\n",
      " 11  married              9952 non-null   object\n",
      " 12  children             9950 non-null   object\n",
      " 13  postal_code          9950 non-null   object\n",
      " 14  annual_mileage       9000 non-null   object\n",
      " 15  vehicle_type         9951 non-null   object\n",
      " 16  speeding_violations  9950 non-null   object\n",
      " 17  duis                 9950 non-null   object\n",
      " 18  past_accidents       9950 non-null   object\n",
      " 19  outcome              9950 non-null   object\n",
      "dtypes: int64(2), object(18)\n",
      "memory usage: 1.5+ MB\n"
     ]
    }
   ],
   "source": [
    "claims.info()"
   ],
   "metadata": {
    "collapsed": false,
    "ExecuteTime": {
     "end_time": "2023-10-21T09:09:57.419418Z",
     "start_time": "2023-10-21T09:09:57.343246Z"
    }
   },
   "id": "b5a42233cd8f524f"
  },
  {
   "cell_type": "code",
   "execution_count": 19,
   "outputs": [
    {
     "data": {
      "text/plain": "Empty DataFrame\nColumns: [unnamed: 0, id, age, gender, race, driving_experience, education, income, credit_score, vehicle_ownership, vehicle_year, married, children, postal_code, annual_mileage, vehicle_type, speeding_violations, duis, past_accidents, outcome]\nIndex: []",
      "text/html": "<div>\n<style scoped>\n    .dataframe tbody tr th:only-of-type {\n        vertical-align: middle;\n    }\n\n    .dataframe tbody tr th {\n        vertical-align: top;\n    }\n\n    .dataframe thead th {\n        text-align: right;\n    }\n</style>\n<table border=\"1\" class=\"dataframe\">\n  <thead>\n    <tr style=\"text-align: right;\">\n      <th></th>\n      <th>unnamed: 0</th>\n      <th>id</th>\n      <th>age</th>\n      <th>gender</th>\n      <th>race</th>\n      <th>driving_experience</th>\n      <th>education</th>\n      <th>income</th>\n      <th>credit_score</th>\n      <th>vehicle_ownership</th>\n      <th>vehicle_year</th>\n      <th>married</th>\n      <th>children</th>\n      <th>postal_code</th>\n      <th>annual_mileage</th>\n      <th>vehicle_type</th>\n      <th>speeding_violations</th>\n      <th>duis</th>\n      <th>past_accidents</th>\n      <th>outcome</th>\n    </tr>\n  </thead>\n  <tbody>\n  </tbody>\n</table>\n</div>"
     },
     "execution_count": 19,
     "metadata": {},
     "output_type": "execute_result"
    }
   ],
   "source": [
    "claims[claims.past_accidents.isna() & claims.outcome.isna()]"
   ],
   "metadata": {
    "collapsed": false,
    "ExecuteTime": {
     "end_time": "2023-10-21T09:15:20.452033Z",
     "start_time": "2023-10-21T09:15:20.439875Z"
    }
   },
   "id": "c53520de52ac19a4"
  },
  {
   "cell_type": "code",
   "execution_count": 20,
   "outputs": [
    {
     "data": {
      "text/plain": "unnamed: 0                0\nid                        0\nage                      50\ngender                   50\nrace                     49\ndriving_experience       50\neducation                49\nincome                    0\ncredit_score           1022\nvehicle_ownership        50\nvehicle_year             50\nmarried                  48\nchildren                 50\npostal_code              50\nannual_mileage         1000\nvehicle_type             49\nspeeding_violations      50\nduis                     50\npast_accidents           50\noutcome                  50\ndtype: int64"
     },
     "execution_count": 20,
     "metadata": {},
     "output_type": "execute_result"
    }
   ],
   "source": [
    "claims.isnull().sum()"
   ],
   "metadata": {
    "collapsed": false,
    "ExecuteTime": {
     "end_time": "2023-10-21T09:16:13.801991Z",
     "start_time": "2023-10-21T09:16:13.785889Z"
    }
   },
   "id": "4a0e13ae43d47423"
  },
  {
   "cell_type": "code",
   "execution_count": null,
   "outputs": [],
   "source": [],
   "metadata": {
    "collapsed": false
   },
   "id": "ec445c6089c6a69b"
  }
 ],
 "metadata": {
  "kernelspec": {
   "display_name": "Python 3",
   "language": "python",
   "name": "python3"
  },
  "language_info": {
   "codemirror_mode": {
    "name": "ipython",
    "version": 2
   },
   "file_extension": ".py",
   "mimetype": "text/x-python",
   "name": "python",
   "nbconvert_exporter": "python",
   "pygments_lexer": "ipython2",
   "version": "2.7.6"
  }
 },
 "nbformat": 4,
 "nbformat_minor": 5
}
