{
 "cells": [
  {
   "cell_type": "markdown",
   "source": [
    "<font color = green >\n",
    "\n",
    "# <center>Homework<center>\n",
    "</font>\n",
    "\n",
    "__Exploratory Data Analysis (EDA)__ of car insurance dataset.\n",
    "    \n",
    "__Dataset description:__ Car insurance claim. As you are working in the insurance company. Company wants to know the reason why claim was not made. Doing so would allow insurance company to improve there policy for giving loan to the customer. In this project you are dealing with various feature such as age, occupation etc. based on that let's get back to the final conculsion.    \n",
    "\n",
    "__Steps:__\n",
    "- Data Cleaning\n",
    "- Descriptive Statistics\n",
    "- Data Visualization\n",
    "- Conclusions"
   ],
   "metadata": {
    "collapsed": false
   },
   "id": "fa50c1273a77d279"
  },
  {
   "cell_type": "markdown",
   "source": [
    "## Import Python Libraries"
   ],
   "metadata": {
    "collapsed": false
   },
   "id": "758e70654f5c1b8a"
  },
  {
   "cell_type": "code",
   "execution_count": 274,
   "outputs": [],
   "source": [
    "import pandas as pd\n",
    "import numpy as np\n",
    "import matplotlib.pyplot as plt\n",
    "import seaborn as sns\n",
    "from IPython.display import display"
   ],
   "metadata": {
    "collapsed": false,
    "ExecuteTime": {
     "end_time": "2023-10-28T16:43:15.680333Z",
     "start_time": "2023-10-28T16:43:15.582135Z"
    }
   },
   "id": "ff51832540e7bfb9"
  },
  {
   "cell_type": "markdown",
   "source": [
    "## Loading the data into a data frame"
   ],
   "metadata": {
    "collapsed": false
   },
   "id": "42d62f92fabd6e2f"
  },
  {
   "cell_type": "code",
   "execution_count": 275,
   "outputs": [],
   "source": [
    "claims = pd.read_csv(\"./datasets/car_insurance_claim.csv\")\n",
    "claims.columns= claims.columns.str.lower()"
   ],
   "metadata": {
    "collapsed": false,
    "ExecuteTime": {
     "end_time": "2023-10-28T16:43:15.735104Z",
     "start_time": "2023-10-28T16:43:15.586956Z"
    }
   },
   "id": "c9335ee46d807c01"
  },
  {
   "cell_type": "markdown",
   "source": [
    "## Inspecting the data"
   ],
   "metadata": {
    "collapsed": false
   },
   "id": "65941abcfbb26a1a"
  },
  {
   "cell_type": "code",
   "execution_count": 276,
   "outputs": [
    {
     "data": {
      "text/plain": "(10000, 20)"
     },
     "execution_count": 276,
     "metadata": {},
     "output_type": "execute_result"
    }
   ],
   "source": [
    "claims.shape"
   ],
   "metadata": {
    "collapsed": false,
    "ExecuteTime": {
     "end_time": "2023-10-28T16:43:15.744045Z",
     "start_time": "2023-10-28T16:43:15.626440Z"
    }
   },
   "id": "b12d4f97d85c65ea"
  },
  {
   "cell_type": "markdown",
   "source": [
    "Our dataset has 10000 rows and 20 columns. Let's check the first and last few rows of the dataset using `head()` and `tail()` methods."
   ],
   "metadata": {
    "collapsed": false
   },
   "id": "201569190a057a9b"
  },
  {
   "cell_type": "code",
   "execution_count": 277,
   "outputs": [
    {
     "data": {
      "text/plain": "   unnamed: 0      id    age  gender      race driving_experience  \\\n0           0  569520    65+  female  majority               0-9y   \n1           1  750365  16-25    male  majority               0-9y   \n2           2  199901  16-25  female  majority               0-9y   \n3           3  478866  16-25    male  majority               0-9y   \n4           4  731664  26-39    male  majority             10-19y   \n\n     education         income        credit_score vehicle_ownership  \\\n0  high school    upper class   0.629027313918201               1.0   \n1         none        poverty  0.3577571170184627               0.0   \n2  high school  working class  0.4931457852181982               1.0   \n3   university  working class  0.2060128507324556               1.0   \n4         none  working class  0.3883658881572184               1.0   \n\n  vehicle_year married children postal_code annual_mileage vehicle_type  \\\n0   after 2015     0.0      1.0       10238        12000.0        sedan   \n1  before 2015     0.0      0.0       10238        16000.0        sedan   \n2  before 2015     0.0      0.0       10238        11000.0        sedan   \n3  before 2015     0.0     none       32765        11000.0        sedan   \n4  before 2015     0.0      0.0     32765.0        12000.0        sedan   \n\n  speeding_violations duis past_accidents outcome  \n0                   0    0              0     0.0  \n1                   0    0              0     1.0  \n2                   0    0              0     0.0  \n3                   0    0              0     0.0  \n4                   2    0              1     1.0  ",
      "text/html": "<div>\n<style scoped>\n    .dataframe tbody tr th:only-of-type {\n        vertical-align: middle;\n    }\n\n    .dataframe tbody tr th {\n        vertical-align: top;\n    }\n\n    .dataframe thead th {\n        text-align: right;\n    }\n</style>\n<table border=\"1\" class=\"dataframe\">\n  <thead>\n    <tr style=\"text-align: right;\">\n      <th></th>\n      <th>unnamed: 0</th>\n      <th>id</th>\n      <th>age</th>\n      <th>gender</th>\n      <th>race</th>\n      <th>driving_experience</th>\n      <th>education</th>\n      <th>income</th>\n      <th>credit_score</th>\n      <th>vehicle_ownership</th>\n      <th>vehicle_year</th>\n      <th>married</th>\n      <th>children</th>\n      <th>postal_code</th>\n      <th>annual_mileage</th>\n      <th>vehicle_type</th>\n      <th>speeding_violations</th>\n      <th>duis</th>\n      <th>past_accidents</th>\n      <th>outcome</th>\n    </tr>\n  </thead>\n  <tbody>\n    <tr>\n      <th>0</th>\n      <td>0</td>\n      <td>569520</td>\n      <td>65+</td>\n      <td>female</td>\n      <td>majority</td>\n      <td>0-9y</td>\n      <td>high school</td>\n      <td>upper class</td>\n      <td>0.629027313918201</td>\n      <td>1.0</td>\n      <td>after 2015</td>\n      <td>0.0</td>\n      <td>1.0</td>\n      <td>10238</td>\n      <td>12000.0</td>\n      <td>sedan</td>\n      <td>0</td>\n      <td>0</td>\n      <td>0</td>\n      <td>0.0</td>\n    </tr>\n    <tr>\n      <th>1</th>\n      <td>1</td>\n      <td>750365</td>\n      <td>16-25</td>\n      <td>male</td>\n      <td>majority</td>\n      <td>0-9y</td>\n      <td>none</td>\n      <td>poverty</td>\n      <td>0.3577571170184627</td>\n      <td>0.0</td>\n      <td>before 2015</td>\n      <td>0.0</td>\n      <td>0.0</td>\n      <td>10238</td>\n      <td>16000.0</td>\n      <td>sedan</td>\n      <td>0</td>\n      <td>0</td>\n      <td>0</td>\n      <td>1.0</td>\n    </tr>\n    <tr>\n      <th>2</th>\n      <td>2</td>\n      <td>199901</td>\n      <td>16-25</td>\n      <td>female</td>\n      <td>majority</td>\n      <td>0-9y</td>\n      <td>high school</td>\n      <td>working class</td>\n      <td>0.4931457852181982</td>\n      <td>1.0</td>\n      <td>before 2015</td>\n      <td>0.0</td>\n      <td>0.0</td>\n      <td>10238</td>\n      <td>11000.0</td>\n      <td>sedan</td>\n      <td>0</td>\n      <td>0</td>\n      <td>0</td>\n      <td>0.0</td>\n    </tr>\n    <tr>\n      <th>3</th>\n      <td>3</td>\n      <td>478866</td>\n      <td>16-25</td>\n      <td>male</td>\n      <td>majority</td>\n      <td>0-9y</td>\n      <td>university</td>\n      <td>working class</td>\n      <td>0.2060128507324556</td>\n      <td>1.0</td>\n      <td>before 2015</td>\n      <td>0.0</td>\n      <td>none</td>\n      <td>32765</td>\n      <td>11000.0</td>\n      <td>sedan</td>\n      <td>0</td>\n      <td>0</td>\n      <td>0</td>\n      <td>0.0</td>\n    </tr>\n    <tr>\n      <th>4</th>\n      <td>4</td>\n      <td>731664</td>\n      <td>26-39</td>\n      <td>male</td>\n      <td>majority</td>\n      <td>10-19y</td>\n      <td>none</td>\n      <td>working class</td>\n      <td>0.3883658881572184</td>\n      <td>1.0</td>\n      <td>before 2015</td>\n      <td>0.0</td>\n      <td>0.0</td>\n      <td>32765.0</td>\n      <td>12000.0</td>\n      <td>sedan</td>\n      <td>2</td>\n      <td>0</td>\n      <td>1</td>\n      <td>1.0</td>\n    </tr>\n  </tbody>\n</table>\n</div>"
     },
     "execution_count": 277,
     "metadata": {},
     "output_type": "execute_result"
    }
   ],
   "source": [
    "claims.head()"
   ],
   "metadata": {
    "collapsed": false,
    "ExecuteTime": {
     "end_time": "2023-10-28T16:43:15.747937Z",
     "start_time": "2023-10-28T16:43:15.634763Z"
    }
   },
   "id": "a7964912bd951a47"
  },
  {
   "cell_type": "code",
   "execution_count": 278,
   "outputs": [
    {
     "data": {
      "text/plain": "      unnamed: 0      id    age  gender      race driving_experience  \\\n9995        9995  323164  26-39  female  majority             10-19y   \n9996        9996  910346  26-39  female  majority             10-19y   \n9997        9997  468409  26-39    male  majority               0-9y   \n9998        9998  903459  26-39  female  majority             10-19y   \n9999        9999  442696  26-39  female  majority               0-9y   \n\n        education         income        credit_score vehicle_ownership  \\\n9995   university    upper class  0.5827870696562382               1.0   \n9996         none   middle class  0.5222314755016938               1.0   \n9997  high school   middle class  0.4709402314479679               1.0   \n9998  high school        poverty  0.3641847847297929               0.0   \n9999         none  working class  0.4352247779429113               1.0   \n\n     vehicle_year married children postal_code annual_mileage vehicle_type  \\\n9995  before 2015     0.0      0.0       10238        16000.0        sedan   \n9996   after 2015     0.0      1.0       32765            NaN        sedan   \n9997  before 2015     0.0      1.0       10238        14000.0        sedan   \n9998  before 2015     0.0      1.0       10238        13000.0        sedan   \n9999  before 2015     1.0      1.0       10238        13000.0        sedan   \n\n     speeding_violations duis past_accidents outcome  \n9995                   0    0              1     0.0  \n9996                   1    0              0     0.0  \n9997                   0    0              0     0.0  \n9998                   2    0              1     1.0  \n9999                   0    0              0     0.0  ",
      "text/html": "<div>\n<style scoped>\n    .dataframe tbody tr th:only-of-type {\n        vertical-align: middle;\n    }\n\n    .dataframe tbody tr th {\n        vertical-align: top;\n    }\n\n    .dataframe thead th {\n        text-align: right;\n    }\n</style>\n<table border=\"1\" class=\"dataframe\">\n  <thead>\n    <tr style=\"text-align: right;\">\n      <th></th>\n      <th>unnamed: 0</th>\n      <th>id</th>\n      <th>age</th>\n      <th>gender</th>\n      <th>race</th>\n      <th>driving_experience</th>\n      <th>education</th>\n      <th>income</th>\n      <th>credit_score</th>\n      <th>vehicle_ownership</th>\n      <th>vehicle_year</th>\n      <th>married</th>\n      <th>children</th>\n      <th>postal_code</th>\n      <th>annual_mileage</th>\n      <th>vehicle_type</th>\n      <th>speeding_violations</th>\n      <th>duis</th>\n      <th>past_accidents</th>\n      <th>outcome</th>\n    </tr>\n  </thead>\n  <tbody>\n    <tr>\n      <th>9995</th>\n      <td>9995</td>\n      <td>323164</td>\n      <td>26-39</td>\n      <td>female</td>\n      <td>majority</td>\n      <td>10-19y</td>\n      <td>university</td>\n      <td>upper class</td>\n      <td>0.5827870696562382</td>\n      <td>1.0</td>\n      <td>before 2015</td>\n      <td>0.0</td>\n      <td>0.0</td>\n      <td>10238</td>\n      <td>16000.0</td>\n      <td>sedan</td>\n      <td>0</td>\n      <td>0</td>\n      <td>1</td>\n      <td>0.0</td>\n    </tr>\n    <tr>\n      <th>9996</th>\n      <td>9996</td>\n      <td>910346</td>\n      <td>26-39</td>\n      <td>female</td>\n      <td>majority</td>\n      <td>10-19y</td>\n      <td>none</td>\n      <td>middle class</td>\n      <td>0.5222314755016938</td>\n      <td>1.0</td>\n      <td>after 2015</td>\n      <td>0.0</td>\n      <td>1.0</td>\n      <td>32765</td>\n      <td>NaN</td>\n      <td>sedan</td>\n      <td>1</td>\n      <td>0</td>\n      <td>0</td>\n      <td>0.0</td>\n    </tr>\n    <tr>\n      <th>9997</th>\n      <td>9997</td>\n      <td>468409</td>\n      <td>26-39</td>\n      <td>male</td>\n      <td>majority</td>\n      <td>0-9y</td>\n      <td>high school</td>\n      <td>middle class</td>\n      <td>0.4709402314479679</td>\n      <td>1.0</td>\n      <td>before 2015</td>\n      <td>0.0</td>\n      <td>1.0</td>\n      <td>10238</td>\n      <td>14000.0</td>\n      <td>sedan</td>\n      <td>0</td>\n      <td>0</td>\n      <td>0</td>\n      <td>0.0</td>\n    </tr>\n    <tr>\n      <th>9998</th>\n      <td>9998</td>\n      <td>903459</td>\n      <td>26-39</td>\n      <td>female</td>\n      <td>majority</td>\n      <td>10-19y</td>\n      <td>high school</td>\n      <td>poverty</td>\n      <td>0.3641847847297929</td>\n      <td>0.0</td>\n      <td>before 2015</td>\n      <td>0.0</td>\n      <td>1.0</td>\n      <td>10238</td>\n      <td>13000.0</td>\n      <td>sedan</td>\n      <td>2</td>\n      <td>0</td>\n      <td>1</td>\n      <td>1.0</td>\n    </tr>\n    <tr>\n      <th>9999</th>\n      <td>9999</td>\n      <td>442696</td>\n      <td>26-39</td>\n      <td>female</td>\n      <td>majority</td>\n      <td>0-9y</td>\n      <td>none</td>\n      <td>working class</td>\n      <td>0.4352247779429113</td>\n      <td>1.0</td>\n      <td>before 2015</td>\n      <td>1.0</td>\n      <td>1.0</td>\n      <td>10238</td>\n      <td>13000.0</td>\n      <td>sedan</td>\n      <td>0</td>\n      <td>0</td>\n      <td>0</td>\n      <td>0.0</td>\n    </tr>\n  </tbody>\n</table>\n</div>"
     },
     "execution_count": 278,
     "metadata": {},
     "output_type": "execute_result"
    }
   ],
   "source": [
    "claims.tail()"
   ],
   "metadata": {
    "collapsed": false,
    "ExecuteTime": {
     "end_time": "2023-10-28T16:43:15.749486Z",
     "start_time": "2023-10-28T16:43:15.641617Z"
    }
   },
   "id": "9fc0469fe79dd647"
  },
  {
   "cell_type": "code",
   "execution_count": 279,
   "outputs": [
    {
     "name": "stdout",
     "output_type": "stream",
     "text": [
      "<class 'pandas.core.frame.DataFrame'>\n",
      "RangeIndex: 10000 entries, 0 to 9999\n",
      "Data columns (total 20 columns):\n",
      " #   Column               Non-Null Count  Dtype \n",
      "---  ------               --------------  ----- \n",
      " 0   unnamed: 0           10000 non-null  int64 \n",
      " 1   id                   10000 non-null  int64 \n",
      " 2   age                  9950 non-null   object\n",
      " 3   gender               9950 non-null   object\n",
      " 4   race                 9951 non-null   object\n",
      " 5   driving_experience   9950 non-null   object\n",
      " 6   education            9951 non-null   object\n",
      " 7   income               10000 non-null  object\n",
      " 8   credit_score         8978 non-null   object\n",
      " 9   vehicle_ownership    9950 non-null   object\n",
      " 10  vehicle_year         9950 non-null   object\n",
      " 11  married              9952 non-null   object\n",
      " 12  children             9950 non-null   object\n",
      " 13  postal_code          9950 non-null   object\n",
      " 14  annual_mileage       9000 non-null   object\n",
      " 15  vehicle_type         9951 non-null   object\n",
      " 16  speeding_violations  9950 non-null   object\n",
      " 17  duis                 9950 non-null   object\n",
      " 18  past_accidents       9950 non-null   object\n",
      " 19  outcome              9950 non-null   object\n",
      "dtypes: int64(2), object(18)\n",
      "memory usage: 1.5+ MB\n"
     ]
    }
   ],
   "source": [
    "claims.info()"
   ],
   "metadata": {
    "collapsed": false,
    "ExecuteTime": {
     "end_time": "2023-10-28T16:43:15.751762Z",
     "start_time": "2023-10-28T16:43:15.648449Z"
    }
   },
   "id": "5d0447c49a61cde8"
  },
  {
   "cell_type": "markdown",
   "source": [
    "The majority of columns, excluding `id` and `income`, contain missing values. Columns like `credit_score`, `vehicle_ownership`, `married`, `children`, `annual_mileage`, `speeding_violations`, `duis`, `past_accidents` and `outcome` have `object` datatype instead of `int` or `float`. Also we can delete `unnamed: 0` column as it duplicates indexes.\n",
    "\n",
    "Let's check unique values in each column.\n"
   ],
   "metadata": {
    "collapsed": false
   },
   "id": "94ab5743217bf749"
  },
  {
   "cell_type": "code",
   "execution_count": 280,
   "outputs": [
    {
     "data": {
      "text/plain": "unnamed: 0             10000\nid                     10000\nage                        5\ngender                     3\nrace                       3\ndriving_experience         5\neducation                  3\nincome                     4\ncredit_score            8929\nvehicle_ownership          3\nvehicle_year               3\nmarried                    3\nchildren                   3\npostal_code                9\nannual_mileage            22\nvehicle_type               3\nspeeding_violations       22\nduis                       8\npast_accidents            16\noutcome                    3\ndtype: int64"
     },
     "execution_count": 280,
     "metadata": {},
     "output_type": "execute_result"
    }
   ],
   "source": [
    "claims.nunique()"
   ],
   "metadata": {
    "collapsed": false,
    "ExecuteTime": {
     "end_time": "2023-10-28T16:43:15.751902Z",
     "start_time": "2023-10-28T16:43:15.653704Z"
    }
   },
   "id": "e13339a20f353224"
  },
  {
   "cell_type": "markdown",
   "source": [],
   "metadata": {
    "collapsed": false
   },
   "id": "a622b54869eb9eb2"
  },
  {
   "cell_type": "code",
   "execution_count": 281,
   "outputs": [
    {
     "data": {
      "text/plain": "age                                               [65+, 16-25, 26-39, 40-64, none]\ngender                                                        [female, male, none]\nrace                                                    [majority, minority, none]\ndriving_experience                              [0-9y, 10-19y, 20-29y, 30y+, none]\neducation                                          [high school, none, university]\nincome                         [upper class, poverty, working class, middle class]\nvehicle_ownership                                                 [1.0, 0.0, none]\nvehicle_year                                       [after 2015, before 2015, none]\nmarried                                                           [0.0, 1.0, none]\nchildren                                                          [1.0, 0.0, none]\nvehicle_type                                             [sedan, sports car, none]\nspeeding_violations    [0, 2, 3, 7, 6, 4, 10, 13, 1, 5, 9, 8, 12, none, 11, 15,...\nduis                                                   [0, 2, 1, none, 3, 4, 5, 6]\npast_accidents            [0, 1, 3, 7, 2, 5, 4, 6, 8, 10, none, 11, 9, 12, 14, 15]\noutcome                                                           [0.0, 1.0, none]\ndtype: object"
     },
     "metadata": {},
     "output_type": "display_data"
    }
   ],
   "source": [
    "columns = [column for column in claims.columns if column not in ['id', 'credit_score', 'unnamed: 0', 'postal_code', 'annual_mileage']]\n",
    "pd.set_option(\"max_colwidth\", 60)\n",
    "display(claims[columns].apply(lambda col: col.dropna().unique()))\n",
    "pd.reset_option(\"max_colwidth\")"
   ],
   "metadata": {
    "collapsed": false,
    "ExecuteTime": {
     "end_time": "2023-10-28T16:43:15.752401Z",
     "start_time": "2023-10-28T16:43:15.662724Z"
    }
   },
   "id": "3c1bfc4780dfae74"
  },
  {
   "cell_type": "markdown",
   "source": [
    "As observed, the string “none” is present in nearly all columns. Our next step is to replace it with `np.nan`.\n",
    "\n",
    "Now, let’s generate descriptions for each column, taking into account their names, data types, and the uniqueness of values: \n",
    "<br/><br/>\n",
    "\n",
    "| Column | Description                                                                                                              |\n",
    "|--------|--------------------------------------------------------------------------------------------------------------------------|\n",
    "| `id` | unique client identifier                                                                                                 |\n",
    "| `age` | client's age: <br> <ul><li>16-25</li><li>26-39</li><li>40-64</li><li>65+</li></ul>                                       |\n",
    "| `gender` | client's gender: <br> <ul><li>female</li><li>male</li></ul>                                                              |\n",
    "| `driving_experience` | the number of years a client has been driving: <br> <ul><li>0-9</li><li>10-19</li><li> 20-29</li><li>30+</li></ul>       |\n",
    "| `education` | client's level of education: <br> <ul><li>high school</li><li>university</li></ul>                                       |\n",
    "| `income` | client's income level: <br> <ul><li>poverty</li><li>working class</li><li>middle class</li><li>upper class</li></ul>     |\n",
    "| `credit_score` | client's credit score (between zero and one)                                                                             |\n",
    "| `vehicle_ownership` | client's vehicle ownership status: <br><ul><li>`0`: does not own their vehilce</li><li>`1`: owns their vehicle</li></ul> |\n",
    "| `vehcile_year` | year of vehicle registration: <br><ul><li>before 2015</li><li> after 2015</li></ul>                                      |\n",
    "| `married` | client's marital status: <br><ul><li>`0`: not married</li><li>`1`: married</li></ul>                                     |\n",
    "| `children` | client's children status: <br><ul><li>`0`: does not have children</li><li>`1`: has at least 1 child</li></ul>            |\n",
    "| `postal_code` | client's postal code                                                                                                     | \n",
    "| `annual_mileage` | number of miles driven by the client each year                                                                           |\n",
    "| `vehicle_type` | type of car: <br> <ul><li>sedan</li><li>sports car</li></ul>                                                             |\n",
    "| `speeding_violations` | total number of speeding violations received by the client                                                               | \n",
    "| `duis` | number of times the client has been caught driving under the influence of of alcohol, drugs, or other substances         |\n",
    "| `past_accidents` | total number of previous accidents the client has been involved in                                                       |\n",
    "| `outcome` | whether or not the company provided insurance for the individual: <br><ul><li>`0`: no</li><li>`1`: yes</li></ul>         |\n"
   ],
   "metadata": {
    "collapsed": false
   },
   "id": "b3a15b8dfcd213e"
  },
  {
   "cell_type": "markdown",
   "source": [
    "## Data Preparation"
   ],
   "metadata": {
    "collapsed": false
   },
   "id": "136ec6a5fad21cfa"
  },
  {
   "cell_type": "markdown",
   "source": [
    "### Dropping columns\n",
    "\n",
    "Columns such as `unnamed: 0`, `id`, `postal_code`, `race` will not be relevant for our analysis, so we can get rid of these.  "
   ],
   "metadata": {
    "collapsed": false
   },
   "id": "a17172673fbfca6c"
  },
  {
   "cell_type": "code",
   "execution_count": 282,
   "outputs": [],
   "source": [
    "claims.drop(['unnamed: 0', 'id', 'postal_code', 'race'], axis=1, inplace=True)"
   ],
   "metadata": {
    "collapsed": false,
    "ExecuteTime": {
     "end_time": "2023-10-28T16:43:15.757909Z",
     "start_time": "2023-10-28T16:43:15.676706Z"
    }
   },
   "id": "841e9ccfe4288c4b"
  },
  {
   "cell_type": "markdown",
   "source": [
    "### Missing values\n",
    "We will start with replacing `\"none\"` values with `np.nan`"
   ],
   "metadata": {
    "collapsed": false
   },
   "id": "52ca39d39f08c094"
  },
  {
   "cell_type": "code",
   "execution_count": 283,
   "outputs": [],
   "source": [
    "claims.replace('none', np.nan, inplace=True)"
   ],
   "metadata": {
    "collapsed": false,
    "ExecuteTime": {
     "end_time": "2023-10-28T16:43:15.758027Z",
     "start_time": "2023-10-28T16:43:15.685138Z"
    }
   },
   "id": "b11f6d16f1323fa1"
  },
  {
   "cell_type": "markdown",
   "source": [
    "#### Updating data type of columns"
   ],
   "metadata": {
    "collapsed": false
   },
   "id": "78abb0bd94dab6f4"
  },
  {
   "cell_type": "code",
   "execution_count": 284,
   "outputs": [],
   "source": [
    "float_columns = ['credit_score', 'speeding_violations', 'past_accidents', 'outcome', 'vehicle_ownership', 'married', 'children', 'duis', 'children', 'annual_mileage']\n",
    "\n",
    "for col in float_columns:\n",
    "    claims[col] = claims[col].astype('float')"
   ],
   "metadata": {
    "collapsed": false,
    "ExecuteTime": {
     "end_time": "2023-10-28T16:43:15.758114Z",
     "start_time": "2023-10-28T16:43:15.694995Z"
    }
   },
   "id": "13a1f2d8bdc300bd"
  },
  {
   "cell_type": "markdown",
   "source": [
    "Let's check % of missing values in each column. "
   ],
   "metadata": {
    "collapsed": false
   },
   "id": "9b0a810cc922cd46"
  },
  {
   "cell_type": "code",
   "execution_count": 285,
   "outputs": [
    {
     "data": {
      "text/plain": "age                     1.00\ngender                  0.99\ndriving_experience      1.00\neducation              19.96\nincome                  0.00\ncredit_score           10.72\nvehicle_ownership       1.00\nvehicle_year            1.00\nmarried                 0.98\nchildren                1.00\nannual_mileage         10.50\nvehicle_type            0.99\nspeeding_violations     0.99\nduis                    1.00\npast_accidents          1.00\noutcome                 1.00\ndtype: float64"
     },
     "execution_count": 285,
     "metadata": {},
     "output_type": "execute_result"
    }
   ],
   "source": [
    "(claims.isnull().sum()/(len(claims)))*100."
   ],
   "metadata": {
    "collapsed": false,
    "ExecuteTime": {
     "end_time": "2023-10-28T16:43:15.758273Z",
     "start_time": "2023-10-28T16:43:15.703224Z"
    }
   },
   "id": "ec445c6089c6a69b"
  },
  {
   "cell_type": "markdown",
   "source": [
    "We can notice the highest number of missing values in columns such as `education`, `credit_score`, `annual_mileage`. Our initial step should involve filling in these columns. Since we lack information about the client's education, we will replace the missing values with `\"unknown\"`."
   ],
   "metadata": {
    "collapsed": false
   },
   "id": "e1bd44e752a6e62c"
  },
  {
   "cell_type": "code",
   "execution_count": 286,
   "outputs": [],
   "source": [
    "claims['education'].fillna('unknown',inplace=True)"
   ],
   "metadata": {
    "collapsed": false,
    "ExecuteTime": {
     "end_time": "2023-10-28T16:43:15.758311Z",
     "start_time": "2023-10-28T16:43:15.707822Z"
    }
   },
   "id": "2ae38b56e3d511d0"
  },
  {
   "cell_type": "code",
   "execution_count": 287,
   "outputs": [
    {
     "data": {
      "text/plain": "                      credit_score\nincome        gender              \nmiddle class  female      0.538309\n              male        0.508387\npoverty       female      0.364356\n              male        0.330551\nupper class   female      0.627135\n              male        0.601350\nworking class female      0.446117\n              male        0.417523",
      "text/html": "<div>\n<style scoped>\n    .dataframe tbody tr th:only-of-type {\n        vertical-align: middle;\n    }\n\n    .dataframe tbody tr th {\n        vertical-align: top;\n    }\n\n    .dataframe thead th {\n        text-align: right;\n    }\n</style>\n<table border=\"1\" class=\"dataframe\">\n  <thead>\n    <tr style=\"text-align: right;\">\n      <th></th>\n      <th></th>\n      <th>credit_score</th>\n    </tr>\n    <tr>\n      <th>income</th>\n      <th>gender</th>\n      <th></th>\n    </tr>\n  </thead>\n  <tbody>\n    <tr>\n      <th rowspan=\"2\" valign=\"top\">middle class</th>\n      <th>female</th>\n      <td>0.538309</td>\n    </tr>\n    <tr>\n      <th>male</th>\n      <td>0.508387</td>\n    </tr>\n    <tr>\n      <th rowspan=\"2\" valign=\"top\">poverty</th>\n      <th>female</th>\n      <td>0.364356</td>\n    </tr>\n    <tr>\n      <th>male</th>\n      <td>0.330551</td>\n    </tr>\n    <tr>\n      <th rowspan=\"2\" valign=\"top\">upper class</th>\n      <th>female</th>\n      <td>0.627135</td>\n    </tr>\n    <tr>\n      <th>male</th>\n      <td>0.601350</td>\n    </tr>\n    <tr>\n      <th rowspan=\"2\" valign=\"top\">working class</th>\n      <th>female</th>\n      <td>0.446117</td>\n    </tr>\n    <tr>\n      <th>male</th>\n      <td>0.417523</td>\n    </tr>\n  </tbody>\n</table>\n</div>"
     },
     "execution_count": 287,
     "metadata": {},
     "output_type": "execute_result"
    }
   ],
   "source": [
    "claims.pivot_table(index=['income', 'gender'], values='credit_score', aggfunc='mean')"
   ],
   "metadata": {
    "collapsed": false,
    "ExecuteTime": {
     "end_time": "2023-10-28T16:43:15.758553Z",
     "start_time": "2023-10-28T16:43:15.710978Z"
    }
   },
   "id": "4195d8dbdf39249f"
  },
  {
   "cell_type": "code",
   "execution_count": 291,
   "outputs": [
    {
     "data": {
      "text/plain": "                  credit_score\nmarried children              \n0.0     0.0               1950\n        1.0               2425\n1.0     0.0                778\n        1.0               3594",
      "text/html": "<div>\n<style scoped>\n    .dataframe tbody tr th:only-of-type {\n        vertical-align: middle;\n    }\n\n    .dataframe tbody tr th {\n        vertical-align: top;\n    }\n\n    .dataframe thead th {\n        text-align: right;\n    }\n</style>\n<table border=\"1\" class=\"dataframe\">\n  <thead>\n    <tr style=\"text-align: right;\">\n      <th></th>\n      <th></th>\n      <th>credit_score</th>\n    </tr>\n    <tr>\n      <th>married</th>\n      <th>children</th>\n      <th></th>\n    </tr>\n  </thead>\n  <tbody>\n    <tr>\n      <th rowspan=\"2\" valign=\"top\">0.0</th>\n      <th>0.0</th>\n      <td>1950</td>\n    </tr>\n    <tr>\n      <th>1.0</th>\n      <td>2425</td>\n    </tr>\n    <tr>\n      <th rowspan=\"2\" valign=\"top\">1.0</th>\n      <th>0.0</th>\n      <td>778</td>\n    </tr>\n    <tr>\n      <th>1.0</th>\n      <td>3594</td>\n    </tr>\n  </tbody>\n</table>\n</div>"
     },
     "execution_count": 291,
     "metadata": {},
     "output_type": "execute_result"
    }
   ],
   "source": [
    "claims.pivot_table(index=['married', 'children'], values='credit_score', aggfunc='count')"
   ],
   "metadata": {
    "collapsed": false,
    "ExecuteTime": {
     "end_time": "2023-10-28T16:46:44.497169Z",
     "start_time": "2023-10-28T16:46:44.451144Z"
    }
   },
   "id": "861e8763be95cd34"
  },
  {
   "cell_type": "code",
   "execution_count": 295,
   "outputs": [
    {
     "data": {
      "text/plain": "<Figure size 640x480 with 1 Axes>",
      "image/png": "[encoded data removed]"
     },
     "metadata": {},
     "output_type": "display_data"
    }
   ],
   "source": [
    "sns.countplot(data=claims, x=\"gender\")\n",
    "plt.show()"
   ],
   "metadata": {
    "collapsed": false,
    "ExecuteTime": {
     "end_time": "2023-10-28T16:51:41.138020Z",
     "start_time": "2023-10-28T16:51:41.021622Z"
    }
   },
   "id": "d27f8f862fd74a92"
  },
  {
   "cell_type": "code",
   "execution_count": null,
   "outputs": [],
   "source": [],
   "metadata": {
    "collapsed": false
   },
   "id": "4cef2b8812dbe378"
  }
 ],
 "metadata": {
  "kernelspec": {
   "display_name": "Python 3",
   "language": "python",
   "name": "python3"
  },
  "language_info": {
   "codemirror_mode": {
    "name": "ipython",
    "version": 2
   },
   "file_extension": ".py",
   "mimetype": "text/x-python",
   "name": "python",
   "nbconvert_exporter": "python",
   "pygments_lexer": "ipython2",
   "version": "2.7.6"
  }
 },
 "nbformat": 4,
 "nbformat_minor": 5
}
