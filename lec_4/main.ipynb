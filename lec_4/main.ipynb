{
 "cells": [
  {
   "cell_type": "markdown",
   "source": [
    "<font color = green >\n",
    "\n",
    "# <center>EDA of car insurance dataset<center>\n",
    "</font>\n",
    "\n",
    "__Exploratory Data Analysis (EDA)__ of car insurance dataset.\n",
    "    \n",
    "__Dataset description:__ Car insurance claim. As you are working in the insurance company. Company wants to know the reason why claim was not made. Doing so would allow insurance company to improve there policy for giving loan to the customer. In this project you are dealing with various feature such as age, occupation etc. based on that let's get back to the final conculsion.    \n",
    "\n",
    "__Steps:__\n",
    "- Data Cleaning\n",
    "- Descriptive Statistics\n",
    "- Data Visualization\n",
    "- Conclusions"
   ],
   "metadata": {
    "collapsed": false
   },
   "id": "fa50c1273a77d279"
  },
  {
   "cell_type": "markdown",
   "source": [
    "## Import Python Libraries"
   ],
   "metadata": {
    "collapsed": false
   },
   "id": "758e70654f5c1b8a"
  },
  {
   "cell_type": "code",
   "execution_count": 1112,
   "outputs": [],
   "source": [
    "import pandas as pd\n",
    "import numpy as np\n",
    "import matplotlib.pyplot as plt\n",
    "import seaborn as sns\n",
    "from IPython.display import display"
   ],
   "metadata": {
    "collapsed": false,
    "ExecuteTime": {
     "end_time": "2023-10-30T14:54:18.710076Z",
     "start_time": "2023-10-30T14:54:18.401526Z"
    }
   },
   "id": "ff51832540e7bfb9"
  },
  {
   "cell_type": "markdown",
   "source": [
    "## Loading the data into a data frame"
   ],
   "metadata": {
    "collapsed": false
   },
   "id": "42d62f92fabd6e2f"
  },
  {
   "cell_type": "code",
   "execution_count": 1113,
   "outputs": [],
   "source": [
    "claims = pd.read_csv(\"./datasets/car_insurance_claim.csv\")\n",
    "claims.columns= claims.columns.str.lower()"
   ],
   "metadata": {
    "collapsed": false,
    "ExecuteTime": {
     "end_time": "2023-10-30T14:54:18.831065Z",
     "start_time": "2023-10-30T14:54:18.405243Z"
    }
   },
   "id": "c9335ee46d807c01"
  },
  {
   "cell_type": "markdown",
   "source": [
    "## Inspecting the data"
   ],
   "metadata": {
    "collapsed": false
   },
   "id": "65941abcfbb26a1a"
  },
  {
   "cell_type": "code",
   "execution_count": 1114,
   "outputs": [
    {
     "data": {
      "text/plain": "(10000, 20)"
     },
     "execution_count": 1114,
     "metadata": {},
     "output_type": "execute_result"
    }
   ],
   "source": [
    "claims.shape"
   ],
   "metadata": {
    "collapsed": false,
    "ExecuteTime": {
     "end_time": "2023-10-30T14:54:18.831503Z",
     "start_time": "2023-10-30T14:54:18.593948Z"
    }
   },
   "id": "b12d4f97d85c65ea"
  },
  {
   "cell_type": "markdown",
   "source": [
    "Our dataset has 10000 rows and 20 columns. Let's check the first and last few rows of the dataset using `head()` and `tail()` methods."
   ],
   "metadata": {
    "collapsed": false
   },
   "id": "201569190a057a9b"
  },
  {
   "cell_type": "code",
   "execution_count": 1115,
   "outputs": [
    {
     "data": {
      "text/plain": "   unnamed: 0      id    age  gender      race driving_experience  \\\n0           0  569520    65+  female  majority               0-9y   \n1           1  750365  16-25    male  majority               0-9y   \n2           2  199901  16-25  female  majority               0-9y   \n3           3  478866  16-25    male  majority               0-9y   \n4           4  731664  26-39    male  majority             10-19y   \n\n     education         income        credit_score vehicle_ownership  \\\n0  high school    upper class   0.629027313918201               1.0   \n1         none        poverty  0.3577571170184627               0.0   \n2  high school  working class  0.4931457852181982               1.0   \n3   university  working class  0.2060128507324556               1.0   \n4         none  working class  0.3883658881572184               1.0   \n\n  vehicle_year married children postal_code annual_mileage vehicle_type  \\\n0   after 2015     0.0      1.0       10238        12000.0        sedan   \n1  before 2015     0.0      0.0       10238        16000.0        sedan   \n2  before 2015     0.0      0.0       10238        11000.0        sedan   \n3  before 2015     0.0     none       32765        11000.0        sedan   \n4  before 2015     0.0      0.0     32765.0        12000.0        sedan   \n\n  speeding_violations duis past_accidents outcome  \n0                   0    0              0     0.0  \n1                   0    0              0     1.0  \n2                   0    0              0     0.0  \n3                   0    0              0     0.0  \n4                   2    0              1     1.0  ",
      "text/html": "<div>\n<style scoped>\n    .dataframe tbody tr th:only-of-type {\n        vertical-align: middle;\n    }\n\n    .dataframe tbody tr th {\n        vertical-align: top;\n    }\n\n    .dataframe thead th {\n        text-align: right;\n    }\n</style>\n<table border=\"1\" class=\"dataframe\">\n  <thead>\n    <tr style=\"text-align: right;\">\n      <th></th>\n      <th>unnamed: 0</th>\n      <th>id</th>\n      <th>age</th>\n      <th>gender</th>\n      <th>race</th>\n      <th>driving_experience</th>\n      <th>education</th>\n      <th>income</th>\n      <th>credit_score</th>\n      <th>vehicle_ownership</th>\n      <th>vehicle_year</th>\n      <th>married</th>\n      <th>children</th>\n      <th>postal_code</th>\n      <th>annual_mileage</th>\n      <th>vehicle_type</th>\n      <th>speeding_violations</th>\n      <th>duis</th>\n      <th>past_accidents</th>\n      <th>outcome</th>\n    </tr>\n  </thead>\n  <tbody>\n    <tr>\n      <th>0</th>\n      <td>0</td>\n      <td>569520</td>\n      <td>65+</td>\n      <td>female</td>\n      <td>majority</td>\n      <td>0-9y</td>\n      <td>high school</td>\n      <td>upper class</td>\n      <td>0.629027313918201</td>\n      <td>1.0</td>\n      <td>after 2015</td>\n      <td>0.0</td>\n      <td>1.0</td>\n      <td>10238</td>\n      <td>12000.0</td>\n      <td>sedan</td>\n      <td>0</td>\n      <td>0</td>\n      <td>0</td>\n      <td>0.0</td>\n    </tr>\n    <tr>\n      <th>1</th>\n      <td>1</td>\n      <td>750365</td>\n      <td>16-25</td>\n      <td>male</td>\n      <td>majority</td>\n      <td>0-9y</td>\n      <td>none</td>\n      <td>poverty</td>\n      <td>0.3577571170184627</td>\n      <td>0.0</td>\n      <td>before 2015</td>\n      <td>0.0</td>\n      <td>0.0</td>\n      <td>10238</td>\n      <td>16000.0</td>\n      <td>sedan</td>\n      <td>0</td>\n      <td>0</td>\n      <td>0</td>\n      <td>1.0</td>\n    </tr>\n    <tr>\n      <th>2</th>\n      <td>2</td>\n      <td>199901</td>\n      <td>16-25</td>\n      <td>female</td>\n      <td>majority</td>\n      <td>0-9y</td>\n      <td>high school</td>\n      <td>working class</td>\n      <td>0.4931457852181982</td>\n      <td>1.0</td>\n      <td>before 2015</td>\n      <td>0.0</td>\n      <td>0.0</td>\n      <td>10238</td>\n      <td>11000.0</td>\n      <td>sedan</td>\n      <td>0</td>\n      <td>0</td>\n      <td>0</td>\n      <td>0.0</td>\n    </tr>\n    <tr>\n      <th>3</th>\n      <td>3</td>\n      <td>478866</td>\n      <td>16-25</td>\n      <td>male</td>\n      <td>majority</td>\n      <td>0-9y</td>\n      <td>university</td>\n      <td>working class</td>\n      <td>0.2060128507324556</td>\n      <td>1.0</td>\n      <td>before 2015</td>\n      <td>0.0</td>\n      <td>none</td>\n      <td>32765</td>\n      <td>11000.0</td>\n      <td>sedan</td>\n      <td>0</td>\n      <td>0</td>\n      <td>0</td>\n      <td>0.0</td>\n    </tr>\n    <tr>\n      <th>4</th>\n      <td>4</td>\n      <td>731664</td>\n      <td>26-39</td>\n      <td>male</td>\n      <td>majority</td>\n      <td>10-19y</td>\n      <td>none</td>\n      <td>working class</td>\n      <td>0.3883658881572184</td>\n      <td>1.0</td>\n      <td>before 2015</td>\n      <td>0.0</td>\n      <td>0.0</td>\n      <td>32765.0</td>\n      <td>12000.0</td>\n      <td>sedan</td>\n      <td>2</td>\n      <td>0</td>\n      <td>1</td>\n      <td>1.0</td>\n    </tr>\n  </tbody>\n</table>\n</div>"
     },
     "execution_count": 1115,
     "metadata": {},
     "output_type": "execute_result"
    }
   ],
   "source": [
    "claims.head()"
   ],
   "metadata": {
    "collapsed": false,
    "ExecuteTime": {
     "end_time": "2023-10-30T14:54:18.832233Z",
     "start_time": "2023-10-30T14:54:18.605445Z"
    }
   },
   "id": "a7964912bd951a47"
  },
  {
   "cell_type": "code",
   "execution_count": 1116,
   "outputs": [
    {
     "data": {
      "text/plain": "      unnamed: 0      id    age  gender      race driving_experience  \\\n9995        9995  323164  26-39  female  majority             10-19y   \n9996        9996  910346  26-39  female  majority             10-19y   \n9997        9997  468409  26-39    male  majority               0-9y   \n9998        9998  903459  26-39  female  majority             10-19y   \n9999        9999  442696  26-39  female  majority               0-9y   \n\n        education         income        credit_score vehicle_ownership  \\\n9995   university    upper class  0.5827870696562382               1.0   \n9996         none   middle class  0.5222314755016938               1.0   \n9997  high school   middle class  0.4709402314479679               1.0   \n9998  high school        poverty  0.3641847847297929               0.0   \n9999         none  working class  0.4352247779429113               1.0   \n\n     vehicle_year married children postal_code annual_mileage vehicle_type  \\\n9995  before 2015     0.0      0.0       10238        16000.0        sedan   \n9996   after 2015     0.0      1.0       32765            NaN        sedan   \n9997  before 2015     0.0      1.0       10238        14000.0        sedan   \n9998  before 2015     0.0      1.0       10238        13000.0        sedan   \n9999  before 2015     1.0      1.0       10238        13000.0        sedan   \n\n     speeding_violations duis past_accidents outcome  \n9995                   0    0              1     0.0  \n9996                   1    0              0     0.0  \n9997                   0    0              0     0.0  \n9998                   2    0              1     1.0  \n9999                   0    0              0     0.0  ",
      "text/html": "<div>\n<style scoped>\n    .dataframe tbody tr th:only-of-type {\n        vertical-align: middle;\n    }\n\n    .dataframe tbody tr th {\n        vertical-align: top;\n    }\n\n    .dataframe thead th {\n        text-align: right;\n    }\n</style>\n<table border=\"1\" class=\"dataframe\">\n  <thead>\n    <tr style=\"text-align: right;\">\n      <th></th>\n      <th>unnamed: 0</th>\n      <th>id</th>\n      <th>age</th>\n      <th>gender</th>\n      <th>race</th>\n      <th>driving_experience</th>\n      <th>education</th>\n      <th>income</th>\n      <th>credit_score</th>\n      <th>vehicle_ownership</th>\n      <th>vehicle_year</th>\n      <th>married</th>\n      <th>children</th>\n      <th>postal_code</th>\n      <th>annual_mileage</th>\n      <th>vehicle_type</th>\n      <th>speeding_violations</th>\n      <th>duis</th>\n      <th>past_accidents</th>\n      <th>outcome</th>\n    </tr>\n  </thead>\n  <tbody>\n    <tr>\n      <th>9995</th>\n      <td>9995</td>\n      <td>323164</td>\n      <td>26-39</td>\n      <td>female</td>\n      <td>majority</td>\n      <td>10-19y</td>\n      <td>university</td>\n      <td>upper class</td>\n      <td>0.5827870696562382</td>\n      <td>1.0</td>\n      <td>before 2015</td>\n      <td>0.0</td>\n      <td>0.0</td>\n      <td>10238</td>\n      <td>16000.0</td>\n      <td>sedan</td>\n      <td>0</td>\n      <td>0</td>\n      <td>1</td>\n      <td>0.0</td>\n    </tr>\n    <tr>\n      <th>9996</th>\n      <td>9996</td>\n      <td>910346</td>\n      <td>26-39</td>\n      <td>female</td>\n      <td>majority</td>\n      <td>10-19y</td>\n      <td>none</td>\n      <td>middle class</td>\n      <td>0.5222314755016938</td>\n      <td>1.0</td>\n      <td>after 2015</td>\n      <td>0.0</td>\n      <td>1.0</td>\n      <td>32765</td>\n      <td>NaN</td>\n      <td>sedan</td>\n      <td>1</td>\n      <td>0</td>\n      <td>0</td>\n      <td>0.0</td>\n    </tr>\n    <tr>\n      <th>9997</th>\n      <td>9997</td>\n      <td>468409</td>\n      <td>26-39</td>\n      <td>male</td>\n      <td>majority</td>\n      <td>0-9y</td>\n      <td>high school</td>\n      <td>middle class</td>\n      <td>0.4709402314479679</td>\n      <td>1.0</td>\n      <td>before 2015</td>\n      <td>0.0</td>\n      <td>1.0</td>\n      <td>10238</td>\n      <td>14000.0</td>\n      <td>sedan</td>\n      <td>0</td>\n      <td>0</td>\n      <td>0</td>\n      <td>0.0</td>\n    </tr>\n    <tr>\n      <th>9998</th>\n      <td>9998</td>\n      <td>903459</td>\n      <td>26-39</td>\n      <td>female</td>\n      <td>majority</td>\n      <td>10-19y</td>\n      <td>high school</td>\n      <td>poverty</td>\n      <td>0.3641847847297929</td>\n      <td>0.0</td>\n      <td>before 2015</td>\n      <td>0.0</td>\n      <td>1.0</td>\n      <td>10238</td>\n      <td>13000.0</td>\n      <td>sedan</td>\n      <td>2</td>\n      <td>0</td>\n      <td>1</td>\n      <td>1.0</td>\n    </tr>\n    <tr>\n      <th>9999</th>\n      <td>9999</td>\n      <td>442696</td>\n      <td>26-39</td>\n      <td>female</td>\n      <td>majority</td>\n      <td>0-9y</td>\n      <td>none</td>\n      <td>working class</td>\n      <td>0.4352247779429113</td>\n      <td>1.0</td>\n      <td>before 2015</td>\n      <td>1.0</td>\n      <td>1.0</td>\n      <td>10238</td>\n      <td>13000.0</td>\n      <td>sedan</td>\n      <td>0</td>\n      <td>0</td>\n      <td>0</td>\n      <td>0.0</td>\n    </tr>\n  </tbody>\n</table>\n</div>"
     },
     "execution_count": 1116,
     "metadata": {},
     "output_type": "execute_result"
    }
   ],
   "source": [
    "claims.tail()"
   ],
   "metadata": {
    "collapsed": false,
    "ExecuteTime": {
     "end_time": "2023-10-30T14:54:18.833935Z",
     "start_time": "2023-10-30T14:54:18.616421Z"
    }
   },
   "id": "9fc0469fe79dd647"
  },
  {
   "cell_type": "code",
   "execution_count": 1117,
   "outputs": [
    {
     "name": "stdout",
     "output_type": "stream",
     "text": [
      "<class 'pandas.core.frame.DataFrame'>\n",
      "RangeIndex: 10000 entries, 0 to 9999\n",
      "Data columns (total 20 columns):\n",
      " #   Column               Non-Null Count  Dtype \n",
      "---  ------               --------------  ----- \n",
      " 0   unnamed: 0           10000 non-null  int64 \n",
      " 1   id                   10000 non-null  int64 \n",
      " 2   age                  9950 non-null   object\n",
      " 3   gender               9950 non-null   object\n",
      " 4   race                 9951 non-null   object\n",
      " 5   driving_experience   9950 non-null   object\n",
      " 6   education            9951 non-null   object\n",
      " 7   income               10000 non-null  object\n",
      " 8   credit_score         8978 non-null   object\n",
      " 9   vehicle_ownership    9950 non-null   object\n",
      " 10  vehicle_year         9950 non-null   object\n",
      " 11  married              9952 non-null   object\n",
      " 12  children             9950 non-null   object\n",
      " 13  postal_code          9950 non-null   object\n",
      " 14  annual_mileage       9000 non-null   object\n",
      " 15  vehicle_type         9951 non-null   object\n",
      " 16  speeding_violations  9950 non-null   object\n",
      " 17  duis                 9950 non-null   object\n",
      " 18  past_accidents       9950 non-null   object\n",
      " 19  outcome              9950 non-null   object\n",
      "dtypes: int64(2), object(18)\n",
      "memory usage: 1.5+ MB\n"
     ]
    }
   ],
   "source": [
    "claims.info()"
   ],
   "metadata": {
    "collapsed": false,
    "ExecuteTime": {
     "end_time": "2023-10-30T14:54:18.847088Z",
     "start_time": "2023-10-30T14:54:18.636071Z"
    }
   },
   "id": "5d0447c49a61cde8"
  },
  {
   "cell_type": "markdown",
   "source": [
    "The majority of columns, excluding `id` and `income`, contain missing values. Columns like `credit_score`, `vehicle_ownership`, `married`, `children`, `annual_mileage`, `speeding_violations`, `duis`, `past_accidents` and `outcome` have `object` datatype instead of `int` or `float`. Also we can delete `unnamed: 0` column as it duplicates indexes.\n",
    "\n",
    "Let's check unique values in each column.\n"
   ],
   "metadata": {
    "collapsed": false
   },
   "id": "94ab5743217bf749"
  },
  {
   "cell_type": "code",
   "execution_count": 1118,
   "outputs": [
    {
     "data": {
      "text/plain": "unnamed: 0             10000\nid                     10000\nage                        5\ngender                     3\nrace                       3\ndriving_experience         5\neducation                  3\nincome                     4\ncredit_score            8929\nvehicle_ownership          3\nvehicle_year               3\nmarried                    3\nchildren                   3\npostal_code                9\nannual_mileage            22\nvehicle_type               3\nspeeding_violations       22\nduis                       8\npast_accidents            16\noutcome                    3\ndtype: int64"
     },
     "execution_count": 1118,
     "metadata": {},
     "output_type": "execute_result"
    }
   ],
   "source": [
    "claims.nunique()"
   ],
   "metadata": {
    "collapsed": false,
    "ExecuteTime": {
     "end_time": "2023-10-30T14:54:18.847338Z",
     "start_time": "2023-10-30T14:54:18.650192Z"
    }
   },
   "id": "e13339a20f353224"
  },
  {
   "cell_type": "markdown",
   "source": [],
   "metadata": {
    "collapsed": false
   },
   "id": "a622b54869eb9eb2"
  },
  {
   "cell_type": "code",
   "execution_count": 1119,
   "outputs": [
    {
     "data": {
      "text/plain": "age                                               [65+, 16-25, 26-39, 40-64, none]\ngender                                                        [female, male, none]\nrace                                                    [majority, minority, none]\ndriving_experience                              [0-9y, 10-19y, 20-29y, 30y+, none]\neducation                                          [high school, none, university]\nincome                         [upper class, poverty, working class, middle class]\nvehicle_ownership                                                 [1.0, 0.0, none]\nvehicle_year                                       [after 2015, before 2015, none]\nmarried                                                           [0.0, 1.0, none]\nchildren                                                          [1.0, 0.0, none]\nvehicle_type                                             [sedan, sports car, none]\nspeeding_violations    [0, 2, 3, 7, 6, 4, 10, 13, 1, 5, 9, 8, 12, none, 11, 15,...\nduis                                                   [0, 2, 1, none, 3, 4, 5, 6]\npast_accidents            [0, 1, 3, 7, 2, 5, 4, 6, 8, 10, none, 11, 9, 12, 14, 15]\noutcome                                                           [0.0, 1.0, none]\ndtype: object"
     },
     "metadata": {},
     "output_type": "display_data"
    }
   ],
   "source": [
    "columns = [column for column in claims.columns if column not in ['id', 'credit_score', 'unnamed: 0', 'postal_code', 'annual_mileage']]\n",
    "pd.set_option(\"max_colwidth\", 60)\n",
    "display(claims[columns].apply(lambda col: col.dropna().unique()))\n",
    "pd.reset_option(\"max_colwidth\")"
   ],
   "metadata": {
    "collapsed": false,
    "ExecuteTime": {
     "end_time": "2023-10-30T14:54:18.847484Z",
     "start_time": "2023-10-30T14:54:18.659950Z"
    }
   },
   "id": "3c1bfc4780dfae74"
  },
  {
   "cell_type": "markdown",
   "source": [
    "As observed, the string “none” is present in nearly all columns. Our next step is to replace it with `np.nan`.\n",
    "\n",
    "Now, let’s generate descriptions for each column, taking into account their names, data types, and the uniqueness of values: \n",
    "<br/><br/>\n",
    "\n",
    "| Column | Description                                                                                                              |\n",
    "|--------|--------------------------------------------------------------------------------------------------------------------------|\n",
    "| `id` | unique client identifier                                                                                                 |\n",
    "| `age` | client's age: <br> <ul><li>16-25</li><li>26-39</li><li>40-64</li><li>65+</li></ul>                                       |\n",
    "| `gender` | client's gender: <br> <ul><li>female</li><li>male</li></ul>                                                              |\n",
    "| `driving_experience` | the number of years a client has been driving: <br> <ul><li>0-9</li><li>10-19</li><li> 20-29</li><li>30+</li></ul>       |\n",
    "| `education` | client's level of education: <br> <ul><li>high school</li><li>university</li></ul>                                       |\n",
    "| `income` | client's income level: <br> <ul><li>poverty</li><li>working class</li><li>middle class</li><li>upper class</li></ul>     |\n",
    "| `credit_score` | client's credit score (between zero and one)                                                                             |\n",
    "| `vehicle_ownership` | client's vehicle ownership status: <br><ul><li>`0`: does not own their vehilce</li><li>`1`: owns their vehicle</li></ul> |\n",
    "| `vehcile_year` | year of vehicle registration: <br><ul><li>before 2015</li><li> after 2015</li></ul>                                      |\n",
    "| `married` | client's marital status: <br><ul><li>`0`: not married</li><li>`1`: married</li></ul>                                     |\n",
    "| `children` | client's children status: <br><ul><li>`0`: does not have children</li><li>`1`: has at least 1 child</li></ul>            |\n",
    "| `postal_code` | client's postal code                                                                                                     | \n",
    "| `annual_mileage` | number of miles driven by the client each year                                                                           |\n",
    "| `vehicle_type` | type of car: <br> <ul><li>sedan</li><li>sports car</li></ul>                                                             |\n",
    "| `speeding_violations` | total number of speeding violations received by the client                                                               | \n",
    "| `duis` | number of times the client has been caught driving under the influence of of alcohol, drugs, or other substances         |\n",
    "| `past_accidents` | total number of previous accidents the client has been involved in                                                       |\n",
    "| `outcome` | whether or not the company provided insurance for the individual: <br><ul><li>`0`: no</li><li>`1`: yes</li></ul>         |\n"
   ],
   "metadata": {
    "collapsed": false
   },
   "id": "b3a15b8dfcd213e"
  },
  {
   "cell_type": "markdown",
   "source": [
    "## Data Preparation"
   ],
   "metadata": {
    "collapsed": false
   },
   "id": "136ec6a5fad21cfa"
  },
  {
   "cell_type": "markdown",
   "source": [
    "### Dropping columns\n",
    "\n",
    "Columns such as `unnamed: 0`, `id`, `postal_code`, `race` will not be relevant for our analysis, so we can get rid of these.  "
   ],
   "metadata": {
    "collapsed": false
   },
   "id": "a17172673fbfca6c"
  },
  {
   "cell_type": "code",
   "execution_count": 1120,
   "outputs": [],
   "source": [
    "claims.drop(['unnamed: 0', 'id', 'postal_code', 'race'], axis=1, inplace=True)"
   ],
   "metadata": {
    "collapsed": false,
    "ExecuteTime": {
     "end_time": "2023-10-30T14:54:18.847518Z",
     "start_time": "2023-10-30T14:54:18.700779Z"
    }
   },
   "id": "841e9ccfe4288c4b"
  },
  {
   "cell_type": "markdown",
   "source": [
    "### Missing values\n",
    "We will start with replacing `\"none\"` values with `np.nan`"
   ],
   "metadata": {
    "collapsed": false
   },
   "id": "52ca39d39f08c094"
  },
  {
   "cell_type": "code",
   "execution_count": 1121,
   "outputs": [],
   "source": [
    "claims.replace('none', np.nan, inplace=True)"
   ],
   "metadata": {
    "collapsed": false,
    "ExecuteTime": {
     "end_time": "2023-10-30T14:54:18.850334Z",
     "start_time": "2023-10-30T14:54:18.723531Z"
    }
   },
   "id": "b11f6d16f1323fa1"
  },
  {
   "cell_type": "markdown",
   "source": [
    "Updating data type of columns"
   ],
   "metadata": {
    "collapsed": false
   },
   "id": "78abb0bd94dab6f4"
  },
  {
   "cell_type": "code",
   "execution_count": 1122,
   "outputs": [],
   "source": [
    "float_columns = ['credit_score', 'speeding_violations', 'past_accidents', 'outcome', 'vehicle_ownership', 'married', 'children', 'duis', 'annual_mileage']\n",
    "\n",
    "for col in float_columns:\n",
    "    claims[col] = claims[col].astype('float')"
   ],
   "metadata": {
    "collapsed": false,
    "ExecuteTime": {
     "end_time": "2023-10-30T14:54:18.850696Z",
     "start_time": "2023-10-30T14:54:18.731179Z"
    }
   },
   "id": "13a1f2d8bdc300bd"
  },
  {
   "cell_type": "markdown",
   "source": [
    "Let's check % of missing values in each column. "
   ],
   "metadata": {
    "collapsed": false
   },
   "id": "9b0a810cc922cd46"
  },
  {
   "cell_type": "code",
   "execution_count": 1123,
   "outputs": [
    {
     "data": {
      "text/plain": "age                     1.00\ngender                  0.99\ndriving_experience      1.00\neducation              19.96\nincome                  0.00\ncredit_score           10.72\nvehicle_ownership       1.00\nvehicle_year            1.00\nmarried                 0.98\nchildren                1.00\nannual_mileage         10.50\nvehicle_type            0.99\nspeeding_violations     0.99\nduis                    1.00\npast_accidents          1.00\noutcome                 1.00\ndtype: float64"
     },
     "execution_count": 1123,
     "metadata": {},
     "output_type": "execute_result"
    }
   ],
   "source": [
    "(claims.isnull().sum()/(len(claims)))*100."
   ],
   "metadata": {
    "collapsed": false,
    "ExecuteTime": {
     "end_time": "2023-10-30T14:54:18.892246Z",
     "start_time": "2023-10-30T14:54:18.740762Z"
    }
   },
   "id": "ec445c6089c6a69b"
  },
  {
   "cell_type": "markdown",
   "source": [
    "We can notice the highest number of missing values in columns such as `education`, `credit_score`, `annual_mileage`. Our initial step should involve filling in these columns. \n",
    "\n",
    "Let's visualize out missing values in each column to understand the distribution of it in out dataset."
   ],
   "metadata": {
    "collapsed": false
   },
   "id": "e1bd44e752a6e62c"
  },
  {
   "cell_type": "code",
   "execution_count": 1124,
   "outputs": [
    {
     "data": {
      "text/plain": "<Axes: >"
     },
     "execution_count": 1124,
     "metadata": {},
     "output_type": "execute_result"
    },
    {
     "data": {
      "text/plain": "<Figure size 640x480 with 2 Axes>",
      "image/png": "[encoded data removed]"
     },
     "metadata": {},
     "output_type": "display_data"
    }
   ],
   "source": [
    "sns.heatmap(claims.isna().transpose())"
   ],
   "metadata": {
    "collapsed": false,
    "ExecuteTime": {
     "start_time": "2023-10-30T14:54:18.747477Z"
    }
   },
   "id": "a4619fdf2aeeda90"
  },
  {
   "cell_type": "markdown",
   "source": [
    "As mentioned earlier, the largest amount of missing data is found in the `education`, `credit_score`, and `annual_mileage` columns. There are no discernible patterns or correlations in the distribution of the missing values; the `nan`/`Null` values appear in various columns across different rows. Our initial approach to addressing missing data involves removing rows with missing values, but we will limit this removal to no more than 5% of our entire dataset."
   ],
   "metadata": {
    "collapsed": false
   },
   "id": "2c5f40ce465637a8"
  },
  {
   "cell_type": "code",
   "execution_count": 1125,
   "outputs": [],
   "source": [
    "claims.dropna(subset=['vehicle_type', 'vehicle_year', 'driving_experience', 'outcome', 'gender'], inplace=True)"
   ],
   "metadata": {
    "collapsed": false,
    "ExecuteTime": {
     "start_time": "2023-10-30T14:54:19.266753Z"
    }
   },
   "id": "b84622550fe3a685"
  },
  {
   "cell_type": "markdown",
   "source": [
    "Since we lack information about the client's education, we will replace the missing values with `\"unknown\"`."
   ],
   "metadata": {
    "collapsed": false
   },
   "id": "60fbe47ca3c53d70"
  },
  {
   "cell_type": "code",
   "execution_count": 1126,
   "outputs": [],
   "source": [
    "claims['education'].fillna('unknown',inplace=True)"
   ],
   "metadata": {
    "collapsed": false,
    "ExecuteTime": {
     "start_time": "2023-10-30T14:54:19.273503Z"
    }
   },
   "id": "2ae38b56e3d511d0"
  },
  {
   "cell_type": "markdown",
   "source": [
    "We've established a connection between the `credit score` and the `income` column. As a result, we can replace the missing `credit score` values with the average `credit score` based on the client's `income`. We'll apply a similar approach to the `vehicle_ownership` column. However, in this case, we'll fill the missing values with the median value, which can be either *1* or *0*."
   ],
   "metadata": {
    "collapsed": false
   },
   "id": "3ca4c11f34444f18"
  },
  {
   "cell_type": "code",
   "execution_count": 1127,
   "outputs": [],
   "source": [
    "income_grouped = claims.groupby('income')\n",
    "\n",
    "claims['credit_score'] = (\n",
    "    income_grouped['credit_score'].apply(lambda group: group.fillna(group.mean())).reset_index(level=0)['credit_score']\n",
    ")\n",
    "claims['vehicle_ownership'] = (\n",
    "    income_grouped['vehicle_ownership']\n",
    "    .apply(lambda group: group.fillna(group.median()))\n",
    "    .reset_index(level=0)['vehicle_ownership']\n",
    ")"
   ],
   "metadata": {
    "collapsed": false,
    "ExecuteTime": {
     "end_time": "2023-10-30T14:54:19.286247Z",
     "start_time": "2023-10-30T14:54:19.276718Z"
    }
   },
   "id": "2c9f4a9c19d1c90b"
  },
  {
   "cell_type": "markdown",
   "source": [
    "There is a clear correlation between a client's age and their years of driving experience. Based on this relationship, we can make certain assumptions, such as inferring that a person with 30+ years of driving experience is likely to be 65+ years old, and someone with 0-9 years of experience falls within the age range of 16 to 25."
   ],
   "metadata": {
    "collapsed": false
   },
   "id": "f23c5e95b00e8263"
  },
  {
   "cell_type": "code",
   "execution_count": 1128,
   "outputs": [],
   "source": [
    "driving_experience_to_age = {\n",
    "    '0-9y': '16-25',\n",
    "    '10-19y': '26-39',\n",
    "    '20-29y': '40-64',\n",
    "    '30y+': '65+'\n",
    "}\n",
    "for key, value in driving_experience_to_age.items():\n",
    "    mask = claims['driving_experience'] == key\n",
    "    claims.loc[mask, 'age'] = claims.loc[mask,'age'].fillna(value)"
   ],
   "metadata": {
    "collapsed": false,
    "ExecuteTime": {
     "end_time": "2023-10-30T14:54:19.340100Z",
     "start_time": "2023-10-30T14:54:19.288704Z"
    }
   },
   "id": "65a188eb31225ea9"
  },
  {
   "cell_type": "markdown",
   "source": [
    "Our research indicates a connection between `annual_mileage` and `age`, where younger individuals tend to drive more throughout the year. Therefore, we plan to replace the missing `annual_mileage` values with the average `annual_mileage` specific to `age` groups."
   ],
   "metadata": {
    "collapsed": false
   },
   "id": "65877d35c350682b"
  },
  {
   "cell_type": "code",
   "execution_count": 1129,
   "outputs": [],
   "source": [
    "claims['annual_mileage'] = (\n",
    "    claims.groupby('age')['annual_mileage']\n",
    "    .apply(lambda group: group.fillna(group.mean())).reset_index(level=0)['annual_mileage']\n",
    ")"
   ],
   "metadata": {
    "collapsed": false,
    "ExecuteTime": {
     "end_time": "2023-10-30T14:54:19.340229Z",
     "start_time": "2023-10-30T14:54:19.295253Z"
    }
   },
   "id": "861e8763be95cd34"
  },
  {
   "cell_type": "markdown",
   "source": [
    "We also discovered variations in columns like `past_accidents`, `speeding_violations`, and `duis` among different groups based on both `driving_experience` and `gender`. Consequently, we have chosen to address the missing values by filling them with the median values from these specific `(driving_experience,gender)` groups."
   ],
   "metadata": {
    "collapsed": false
   },
   "id": "ea6ae68a31b4e638"
  },
  {
   "cell_type": "code",
   "execution_count": 1130,
   "outputs": [],
   "source": [
    "columns = ['past_accidents', 'speeding_violations', 'duis']\n",
    "\n",
    "for col in columns:\n",
    "    claims[col] = (\n",
    "        claims\n",
    "            .groupby(['driving_experience','gender'])[col]\n",
    "            .apply(lambda x: x.fillna(x.median()))\n",
    "            .reset_index(level=[0, 1])[col]\n",
    "    )"
   ],
   "metadata": {
    "collapsed": false,
    "ExecuteTime": {
     "end_time": "2023-10-30T14:54:19.340279Z",
     "start_time": "2023-10-30T14:54:19.302168Z"
    }
   },
   "id": "9c8222a5ca5245ff"
  },
  {
   "cell_type": "markdown",
   "source": [
    "We can assume that individuals with children are more likely to be married, and conversely, married individuals are more likely to have children."
   ],
   "metadata": {
    "collapsed": false
   },
   "id": "e9c35fa423eb1cb3"
  },
  {
   "cell_type": "code",
   "execution_count": 1131,
   "outputs": [],
   "source": [
    "columns = ['children', 'married']\n",
    "for idx, col in enumerate(columns):\n",
    "    claims[col] = claims[col].fillna(claims[columns[idx - 1]])"
   ],
   "metadata": {
    "collapsed": false,
    "ExecuteTime": {
     "end_time": "2023-10-30T14:54:19.340314Z",
     "start_time": "2023-10-30T14:54:19.323245Z"
    }
   },
   "id": "d27f8f862fd74a92"
  },
  {
   "cell_type": "markdown",
   "source": [
    "Let's check the missing data."
   ],
   "metadata": {
    "collapsed": false
   },
   "id": "da60becfb2733041"
  },
  {
   "cell_type": "code",
   "execution_count": 1137,
   "outputs": [
    {
     "data": {
      "text/plain": "age                    0\ngender                 0\ndriving_experience     0\neducation              0\nincome                 0\ncredit_score           0\nvehicle_ownership      0\nvehicle_year           0\nmarried                0\nchildren               0\nannual_mileage         0\nvehicle_type           0\nspeeding_violations    0\nduis                   0\npast_accidents         0\noutcome                0\ndtype: int64"
     },
     "execution_count": 1137,
     "metadata": {},
     "output_type": "execute_result"
    }
   ],
   "source": [
    "claims.isnull().sum()"
   ],
   "metadata": {
    "collapsed": false,
    "ExecuteTime": {
     "end_time": "2023-10-30T15:44:11.555947Z",
     "start_time": "2023-10-30T15:44:11.507348Z"
    }
   },
   "id": "f42933f2574c07cd"
  },
  {
   "cell_type": "markdown",
   "source": [
    "After all our manipulations let's reset index in out dataframe."
   ],
   "metadata": {
    "collapsed": false
   },
   "id": "efcb6e2aefa1dead"
  },
  {
   "cell_type": "code",
   "execution_count": 1138,
   "outputs": [
    {
     "name": "stdout",
     "output_type": "stream",
     "text": [
      "      index    age  gender driving_experience    education         income  \\\n",
      "0         0    65+  female               0-9y  high school    upper class   \n",
      "1         1  16-25    male               0-9y      unknown        poverty   \n",
      "2         2  16-25  female               0-9y  high school  working class   \n",
      "3         3  16-25    male               0-9y   university  working class   \n",
      "4         4  26-39    male             10-19y      unknown  working class   \n",
      "...     ...    ...     ...                ...          ...            ...   \n",
      "9507   9995  26-39  female             10-19y   university    upper class   \n",
      "9508   9996  26-39  female             10-19y      unknown   middle class   \n",
      "9509   9997  26-39    male               0-9y  high school   middle class   \n",
      "9510   9998  26-39  female             10-19y  high school        poverty   \n",
      "9511   9999  26-39  female               0-9y      unknown  working class   \n",
      "\n",
      "      credit_score  vehicle_ownership vehicle_year  married  children  \\\n",
      "0         0.629027                1.0   after 2015      0.0       1.0   \n",
      "1         0.357757                0.0  before 2015      0.0       0.0   \n",
      "2         0.493146                1.0  before 2015      0.0       0.0   \n",
      "3         0.206013                1.0  before 2015      0.0       0.0   \n",
      "4         0.388366                1.0  before 2015      0.0       0.0   \n",
      "...            ...                ...          ...      ...       ...   \n",
      "9507      0.582787                1.0  before 2015      0.0       0.0   \n",
      "9508      0.522231                1.0   after 2015      0.0       1.0   \n",
      "9509      0.470940                1.0  before 2015      0.0       1.0   \n",
      "9510      0.364185                0.0  before 2015      0.0       1.0   \n",
      "9511      0.435225                1.0  before 2015      1.0       1.0   \n",
      "\n",
      "      annual_mileage vehicle_type  speeding_violations  duis  past_accidents  \\\n",
      "0       12000.000000        sedan                  0.0   0.0             0.0   \n",
      "1       16000.000000        sedan                  0.0   0.0             0.0   \n",
      "2       11000.000000        sedan                  0.0   0.0             0.0   \n",
      "3       11000.000000        sedan                  0.0   0.0             0.0   \n",
      "4       12000.000000        sedan                  2.0   0.0             1.0   \n",
      "...              ...          ...                  ...   ...             ...   \n",
      "9507    16000.000000        sedan                  0.0   0.0             1.0   \n",
      "9508    12024.045802        sedan                  1.0   0.0             0.0   \n",
      "9509    14000.000000        sedan                  0.0   0.0             0.0   \n",
      "9510    13000.000000        sedan                  2.0   0.0             1.0   \n",
      "9511    13000.000000        sedan                  0.0   0.0             0.0   \n",
      "\n",
      "      outcome  \n",
      "0         0.0  \n",
      "1         1.0  \n",
      "2         0.0  \n",
      "3         0.0  \n",
      "4         1.0  \n",
      "...       ...  \n",
      "9507      0.0  \n",
      "9508      0.0  \n",
      "9509      0.0  \n",
      "9510      1.0  \n",
      "9511      0.0  \n",
      "\n",
      "[9512 rows x 17 columns]\n"
     ]
    }
   ],
   "source": [
    "claims.reset_index(inplace=True)"
   ],
   "metadata": {
    "collapsed": false,
    "ExecuteTime": {
     "end_time": "2023-10-30T15:45:42.077502Z",
     "start_time": "2023-10-30T15:45:42.030139Z"
    }
   },
   "id": "53688fa4d2d59729"
  },
  {
   "cell_type": "code",
   "execution_count": 1134,
   "outputs": [
    {
     "data": {
      "text/plain": "<Figure size 800x600 with 1 Axes>",
      "image/png": "[encoded data removed]"
     },
     "metadata": {},
     "output_type": "display_data"
    }
   ],
   "source": [
    "ax= claims.groupby(['driving_experience','outcome']).size().unstack().plot(kind='bar',figsize=(8,6),ylabel='Number of Drivers',title=\"OUTCOME by AGE\")\n",
    "for p in ax.patches:\n",
    "    ax.annotate(f'{p.get_height()}',(p.get_x()+p.get_width()/2, p.get_height()),ha='center',va='bottom')"
   ],
   "metadata": {
    "collapsed": false,
    "ExecuteTime": {
     "end_time": "2023-10-30T14:54:19.461120Z",
     "start_time": "2023-10-30T14:54:19.335150Z"
    }
   },
   "id": "bdfc2e112654642b"
  },
  {
   "cell_type": "code",
   "execution_count": 1136,
   "outputs": [
    {
     "data": {
      "text/plain": "age\n16-25    12941.210375\n26-39    12024.045802\n40-64    11190.765492\n65+      10706.405694\nName: annual_mileage, dtype: float64"
     },
     "execution_count": 1136,
     "metadata": {},
     "output_type": "execute_result"
    }
   ],
   "source": [
    "claims.groupby('age')['annual_mileage'].agg('mean')"
   ],
   "metadata": {
    "collapsed": false,
    "ExecuteTime": {
     "end_time": "2023-10-30T15:31:40.531653Z",
     "start_time": "2023-10-30T15:31:40.473522Z"
    }
   },
   "id": "632a63adbca17eb2"
  },
  {
   "cell_type": "code",
   "execution_count": null,
   "outputs": [],
   "source": [],
   "metadata": {
    "collapsed": false
   },
   "id": "fa661399987426f"
  }
 ],
 "metadata": {
  "kernelspec": {
   "display_name": "Python 3",
   "language": "python",
   "name": "python3"
  },
  "language_info": {
   "codemirror_mode": {
    "name": "ipython",
    "version": 2
   },
   "file_extension": ".py",
   "mimetype": "text/x-python",
   "name": "python",
   "nbconvert_exporter": "python",
   "pygments_lexer": "ipython2",
   "version": "2.7.6"
  }
 },
 "nbformat": 4,
 "nbformat_minor": 5
}
