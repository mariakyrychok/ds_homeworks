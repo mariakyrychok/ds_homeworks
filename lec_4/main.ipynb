{
 "cells": [
  {
   "cell_type": "markdown",
   "id": "fa50c1273a77d279",
   "metadata": {
    "collapsed": false
   },
   "source": [
    "<font color = green >\n",
    "\n",
    "# <center>EDA of car insurance dataset<center>\n",
    "</font>\n",
    "\n",
    "__Exploratory Data Analysis (EDA)__ of car insurance dataset.\n",
    "    \n",
    "__Dataset description:__ Car insurance claim. As you are working in the insurance company. Company wants to know the reason why claim was not made. Doing so would allow insurance company to improve there policy for giving loan to the customer. In this project you are dealing with various feature such as age, occupation etc. based on that let's get back to the final conculsion.    \n",
    "\n",
    "__Steps:__\n",
    "- Data Cleaning\n",
    "- Descriptive Statistics\n",
    "- Data Visualization\n",
    "- Conclusions"
   ]
  },
  {
   "cell_type": "markdown",
   "id": "758e70654f5c1b8a",
   "metadata": {
    "collapsed": false
   },
   "source": [
    "## Import Python Libraries"
   ]
  },
  {
   "cell_type": "code",
   "execution_count": null,
   "id": "ff51832540e7bfb9",
   "metadata": {
    "collapsed": false
   },
   "outputs": [],
   "source": [
    "import pandas as pd\n",
    "import numpy as np\n",
    "import matplotlib.pyplot as plt\n",
    "import seaborn as sns\n",
    "from IPython.display import display"
   ]
  },
  {
   "cell_type": "markdown",
   "id": "42d62f92fabd6e2f",
   "metadata": {
    "collapsed": false
   },
   "source": [
    "## Loading the data into a data frame"
   ]
  },
  {
   "cell_type": "code",
   "execution_count": null,
   "id": "c9335ee46d807c01",
   "metadata": {
    "collapsed": false
   },
   "outputs": [],
   "source": [
    "claims = pd.read_csv(\"./datasets/car_insurance_claim.csv\")\n",
    "claims.columns= claims.columns.str.lower()"
   ]
  },
  {
   "cell_type": "markdown",
   "id": "65941abcfbb26a1a",
   "metadata": {
    "collapsed": false
   },
   "source": [
    "## Inspecting the data"
   ]
  },
  {
   "cell_type": "code",
   "execution_count": null,
   "id": "b12d4f97d85c65ea",
   "metadata": {
    "collapsed": false
   },
   "outputs": [],
   "source": [
    "claims.shape"
   ]
  },
  {
   "cell_type": "markdown",
   "id": "201569190a057a9b",
   "metadata": {
    "collapsed": false
   },
   "source": [
    "Our dataset has 10000 rows and 20 columns. Let's check the first and last few rows of the dataset using `head()` and `tail()` methods."
   ]
  },
  {
   "cell_type": "code",
   "execution_count": null,
   "id": "a7964912bd951a47",
   "metadata": {
    "collapsed": false
   },
   "outputs": [],
   "source": [
    "claims.head()"
   ]
  },
  {
   "cell_type": "code",
   "execution_count": null,
   "id": "9fc0469fe79dd647",
   "metadata": {
    "collapsed": false
   },
   "outputs": [],
   "source": [
    "claims.tail()"
   ]
  },
  {
   "cell_type": "code",
   "execution_count": null,
   "id": "5d0447c49a61cde8",
   "metadata": {
    "collapsed": false
   },
   "outputs": [],
   "source": [
    "claims.info()"
   ]
  },
  {
   "cell_type": "markdown",
   "id": "94ab5743217bf749",
   "metadata": {
    "collapsed": false
   },
   "source": [
    "The majority of columns, excluding `id` and `income`, contain missing values. Columns like `credit_score`, `vehicle_ownership`, `married`, `children`, `annual_mileage`, `speeding_violations`, `duis`, `past_accidents` and `outcome` have `object` datatype instead of `int` or `float`. Also we can delete `unnamed: 0` column as it duplicates indexes.\n",
    "\n",
    "Let's check unique values in each column.\n"
   ]
  },
  {
   "cell_type": "code",
   "execution_count": null,
   "id": "e13339a20f353224",
   "metadata": {
    "collapsed": false
   },
   "outputs": [],
   "source": [
    "claims.nunique()"
   ]
  },
  {
   "cell_type": "markdown",
   "id": "a622b54869eb9eb2",
   "metadata": {
    "collapsed": false
   },
   "source": []
  },
  {
   "cell_type": "code",
   "execution_count": null,
   "id": "3c1bfc4780dfae74",
   "metadata": {
    "collapsed": false
   },
   "outputs": [],
   "source": [
    "columns = [column for column in claims.columns if column not in ['id', 'credit_score', 'unnamed: 0', 'postal_code', 'annual_mileage']]\n",
    "pd.set_option(\"max_colwidth\", 60)\n",
    "display(claims[columns].apply(lambda col: col.dropna().unique()))\n",
    "pd.reset_option(\"max_colwidth\")"
   ]
  },
  {
   "cell_type": "markdown",
   "id": "b3a15b8dfcd213e",
   "metadata": {
    "collapsed": false
   },
   "source": [
    "As observed, the string “none” is present in nearly all columns. Our next step is to replace it with `np.nan`.\n",
    "\n",
    "Now, let’s generate descriptions for each column, taking into account their names, data types, and the uniqueness of values: \n",
    "<br/><br/>\n",
    "\n",
    "| Column | Description                                                                                                              |\n",
    "|--------|--------------------------------------------------------------------------------------------------------------------------|\n",
    "| `id` | unique client identifier                                                                                                 |\n",
    "| `age` | client's age: <br> <ul><li>16-25</li><li>26-39</li><li>40-64</li><li>65+</li></ul>                                       |\n",
    "| `gender` | client's gender: <br> <ul><li>female</li><li>male</li></ul>                                                              |\n",
    "| `driving_experience` | the number of years a client has been driving: <br> <ul><li>0-9</li><li>10-19</li><li> 20-29</li><li>30+</li></ul>       |\n",
    "| `education` | client's level of education: <br> <ul><li>high school</li><li>university</li></ul>                                       |\n",
    "| `income` | client's income level: <br> <ul><li>poverty</li><li>working class</li><li>middle class</li><li>upper class</li></ul>     |\n",
    "| `credit_score` | client's credit score (between zero and one)                                                                             |\n",
    "| `vehicle_ownership` | client's vehicle ownership status: <br><ul><li>`0`: does not own their vehilce</li><li>`1`: owns their vehicle</li></ul> |\n",
    "| `vehcile_year` | year of vehicle registration: <br><ul><li>before 2015</li><li> after 2015</li></ul>                                      |\n",
    "| `married` | client's marital status: <br><ul><li>`0`: not married</li><li>`1`: married</li></ul>                                     |\n",
    "| `children` | client's children status: <br><ul><li>`0`: does not have children</li><li>`1`: has at least 1 child</li></ul>            |\n",
    "| `postal_code` | client's postal code                                                                                                     | \n",
    "| `annual_mileage` | number of miles driven by the client each year                                                                           |\n",
    "| `vehicle_type` | type of car: <br> <ul><li>sedan</li><li>sports car</li></ul>                                                             |\n",
    "| `speeding_violations` | total number of speeding violations received by the client                                                               | \n",
    "| `duis` | number of times the client has been caught driving under the influence of of alcohol, drugs, or other substances         |\n",
    "| `past_accidents` | total number of previous accidents the client has been involved in                                                       |\n",
    "| `outcome` | the company provided car insurance for the individual: <br><ul><li>`0`: no</li><li>`1`: yes</li></ul>         |\n"
   ]
  },
  {
   "cell_type": "markdown",
   "id": "136ec6a5fad21cfa",
   "metadata": {
    "collapsed": false
   },
   "source": [
    "## Data Preparation"
   ]
  },
  {
   "cell_type": "markdown",
   "id": "602c6f8565d57617",
   "metadata": {
    "collapsed": false
   },
   "source": [
    "### Duplicate values "
   ]
  },
  {
   "cell_type": "code",
   "execution_count": null,
   "id": "372a2060f1df2f11",
   "metadata": {
    "collapsed": false
   },
   "outputs": [],
   "source": [
    "claims.duplicated().sum()"
   ]
  },
  {
   "cell_type": "markdown",
   "id": "a17172673fbfca6c",
   "metadata": {
    "collapsed": false
   },
   "source": [
    "### Dropping columns\n",
    "\n",
    "Columns such as `unnamed: 0`, `id`, `postal_code`, `race` will not be relevant for our analysis, so we can get rid of these.  "
   ]
  },
  {
   "cell_type": "code",
   "execution_count": null,
   "id": "841e9ccfe4288c4b",
   "metadata": {
    "collapsed": false
   },
   "outputs": [],
   "source": [
    "claims.drop(['unnamed: 0', 'id', 'postal_code', 'race'], axis=1, inplace=True)"
   ]
  },
  {
   "cell_type": "markdown",
   "id": "52ca39d39f08c094",
   "metadata": {
    "collapsed": false
   },
   "source": [
    "### Missing values\n",
    "We will start with replacing `\"none\"` values with `np.nan`"
   ]
  },
  {
   "cell_type": "code",
   "execution_count": null,
   "id": "b11f6d16f1323fa1",
   "metadata": {
    "collapsed": false
   },
   "outputs": [],
   "source": [
    "claims.replace('none', np.nan, inplace=True)"
   ]
  },
  {
   "cell_type": "markdown",
   "id": "78abb0bd94dab6f4",
   "metadata": {
    "collapsed": false
   },
   "source": [
    "Updating data type of columns"
   ]
  },
  {
   "cell_type": "code",
   "execution_count": null,
   "id": "13a1f2d8bdc300bd",
   "metadata": {
    "collapsed": false
   },
   "outputs": [],
   "source": [
    "float_columns = ['credit_score']\n",
    "int_columns = ['speeding_violations', 'past_accidents', 'outcome', 'vehicle_ownership', 'married', 'children', 'duis', 'annual_mileage']\n",
    "\n",
    "# we can not change type to int while there are missing values in column\n",
    "for col in float_columns + int_columns:\n",
    "    claims[col] = claims[col].astype('float')"
   ]
  },
  {
   "cell_type": "markdown",
   "id": "9b0a810cc922cd46",
   "metadata": {
    "collapsed": false
   },
   "source": [
    "Let's check % of missing values in each column. "
   ]
  },
  {
   "cell_type": "code",
   "execution_count": null,
   "id": "ec445c6089c6a69b",
   "metadata": {
    "collapsed": false
   },
   "outputs": [],
   "source": [
    "(claims.isnull().sum()/(len(claims)))*100."
   ]
  },
  {
   "cell_type": "markdown",
   "id": "e1bd44e752a6e62c",
   "metadata": {
    "collapsed": false
   },
   "source": [
    "We can notice the highest number of missing values in columns such as `education`, `credit_score`, `annual_mileage`. Our initial step should involve filling in these columns. \n",
    "\n",
    "Let's visualize out missing values in each column to understand the distribution of it in out dataset."
   ]
  },
  {
   "cell_type": "code",
   "execution_count": null,
   "id": "a4619fdf2aeeda90",
   "metadata": {
    "collapsed": false
   },
   "outputs": [],
   "source": [
    "sns.heatmap(claims.isna().transpose())"
   ]
  },
  {
   "cell_type": "markdown",
   "id": "2c5f40ce465637a8",
   "metadata": {
    "collapsed": false
   },
   "source": [
    "As mentioned earlier, the largest amount of missing data is found in the `education`, `credit_score`, and `annual_mileage` columns. There are no discernible patterns or correlations in the distribution of the missing values; the `nan`/`Null` values appear in various columns across different rows. Our initial approach to addressing missing data involves removing rows with missing values, but we will limit this removal to no more than 5% of our entire dataset."
   ]
  },
  {
   "cell_type": "code",
   "execution_count": null,
   "id": "b84622550fe3a685",
   "metadata": {
    "collapsed": false
   },
   "outputs": [],
   "source": [
    "claims.dropna(subset=['vehicle_type', 'vehicle_year', 'driving_experience', 'outcome', 'gender'], inplace=True)"
   ]
  },
  {
   "cell_type": "markdown",
   "id": "60fbe47ca3c53d70",
   "metadata": {
    "collapsed": false
   },
   "source": [
    "Since we lack information about the client's education, we will replace the missing values with `\"unknown\"`."
   ]
  },
  {
   "cell_type": "code",
   "execution_count": null,
   "id": "2ae38b56e3d511d0",
   "metadata": {
    "collapsed": false
   },
   "outputs": [],
   "source": [
    "claims['education'].fillna('unknown',inplace=True)"
   ]
  },
  {
   "cell_type": "markdown",
   "id": "3ca4c11f34444f18",
   "metadata": {
    "collapsed": false
   },
   "source": [
    "We've established a connection between the `credit score` and the `income` column. As a result, we can replace the missing `credit score` values with the average `credit score` based on the client's `income`. We'll apply a similar approach to the `vehicle_ownership` column. However, in this case, we'll fill the missing values with the median value, which can be either *1* or *0*."
   ]
  },
  {
   "cell_type": "code",
   "execution_count": null,
   "id": "2c9f4a9c19d1c90b",
   "metadata": {
    "collapsed": false
   },
   "outputs": [],
   "source": [
    "income_grouped = claims.groupby('income')\n",
    "\n",
    "claims['credit_score'] = (\n",
    "    income_grouped['credit_score'].apply(lambda group: group.fillna(group.mean())).reset_index(level=0)['credit_score']\n",
    ")\n",
    "claims['vehicle_ownership'] = (\n",
    "    income_grouped['vehicle_ownership']\n",
    "    .apply(lambda group: group.fillna(group.median()))\n",
    "    .reset_index(level=0)['vehicle_ownership']\n",
    ")"
   ]
  },
  {
   "cell_type": "markdown",
   "id": "f23c5e95b00e8263",
   "metadata": {
    "collapsed": false
   },
   "source": [
    "There is a clear correlation between a client's age and their years of driving experience. Based on this relationship, we can make certain assumptions, such as inferring that a person with 30+ years of driving experience is likely to be 65+ years old, and someone with 0-9 years of experience falls within the age range of 16 to 25."
   ]
  },
  {
   "cell_type": "code",
   "execution_count": null,
   "id": "65a188eb31225ea9",
   "metadata": {
    "collapsed": false
   },
   "outputs": [],
   "source": [
    "driving_experience_to_age = {\n",
    "    '0-9y': '16-25',\n",
    "    '10-19y': '26-39',\n",
    "    '20-29y': '40-64',\n",
    "    '30y+': '65+'\n",
    "}\n",
    "for key, value in driving_experience_to_age.items():\n",
    "    mask = claims['driving_experience'] == key\n",
    "    claims.loc[mask, 'age'] = claims.loc[mask,'age'].fillna(value)"
   ]
  },
  {
   "cell_type": "markdown",
   "id": "65877d35c350682b",
   "metadata": {
    "collapsed": false
   },
   "source": [
    "Our research indicates a connection between `annual_mileage` and `age`, where younger individuals tend to drive more throughout the year. Therefore, we plan to replace the missing `annual_mileage` values with the average `annual_mileage` specific to `age` groups."
   ]
  },
  {
   "cell_type": "code",
   "execution_count": null,
   "id": "861e8763be95cd34",
   "metadata": {
    "collapsed": false
   },
   "outputs": [],
   "source": [
    "claims['annual_mileage'] = (\n",
    "    claims.groupby('age')['annual_mileage']\n",
    "    .apply(lambda group: group.fillna(group.mean())).reset_index(level=0)['annual_mileage']\n",
    ")"
   ]
  },
  {
   "cell_type": "markdown",
   "id": "ea6ae68a31b4e638",
   "metadata": {
    "collapsed": false
   },
   "source": [
    "We also discovered variations in columns like `past_accidents`, `speeding_violations`, and `duis` among different groups based on both `driving_experience` and `gender`. Consequently, we have chosen to address the missing values by filling them with the median values from these specific `(driving_experience,gender)` groups."
   ]
  },
  {
   "cell_type": "code",
   "execution_count": null,
   "id": "9c8222a5ca5245ff",
   "metadata": {
    "collapsed": false
   },
   "outputs": [],
   "source": [
    "columns = ['past_accidents', 'speeding_violations', 'duis']\n",
    "\n",
    "for col in columns:\n",
    "    claims[col] = (\n",
    "        claims\n",
    "            .groupby(['driving_experience','gender'])[col]\n",
    "            .apply(lambda x: x.fillna(x.median()))\n",
    "            .reset_index(level=[0, 1])[col]\n",
    "    )"
   ]
  },
  {
   "cell_type": "markdown",
   "id": "e9c35fa423eb1cb3",
   "metadata": {
    "collapsed": false
   },
   "source": [
    "We can assume that individuals with children are more likely to be married, and conversely, married individuals are more likely to have children."
   ]
  },
  {
   "cell_type": "code",
   "execution_count": null,
   "id": "d27f8f862fd74a92",
   "metadata": {
    "collapsed": false
   },
   "outputs": [],
   "source": [
    "columns = ['children', 'married']\n",
    "for idx, col in enumerate(columns):\n",
    "    claims[col] = claims[col].fillna(claims[columns[idx - 1]])"
   ]
  },
  {
   "cell_type": "markdown",
   "id": "da60becfb2733041",
   "metadata": {
    "collapsed": false
   },
   "source": [
    "Let's check the missing data."
   ]
  },
  {
   "cell_type": "code",
   "execution_count": null,
   "id": "f42933f2574c07cd",
   "metadata": {
    "collapsed": false
   },
   "outputs": [],
   "source": [
    "claims.isnull().sum()"
   ]
  },
  {
   "cell_type": "code",
   "execution_count": null,
   "outputs": [],
   "source": [
    "for col in int_columns:\n",
    "    claims[col] = claims[col].astype('int')"
   ],
   "metadata": {
    "collapsed": false
   },
   "id": "85e5b2d492a302ea"
  },
  {
   "cell_type": "markdown",
   "id": "efcb6e2aefa1dead",
   "metadata": {
    "collapsed": false
   },
   "source": [
    "After all our manipulations let's reset index in out dataframe."
   ]
  },
  {
   "cell_type": "code",
   "execution_count": null,
   "id": "53688fa4d2d59729",
   "metadata": {
    "collapsed": false
   },
   "outputs": [],
   "source": [
    "claims.reset_index(drop=True, inplace=True)"
   ]
  },
  {
   "cell_type": "markdown",
   "id": "133ff8d044cfcf81",
   "metadata": {
    "collapsed": false
   },
   "source": [
    "Let's verify that all the data with a numeric nature is assigned the correct data type."
   ]
  },
  {
   "cell_type": "code",
   "execution_count": null,
   "id": "7e5f87bef13500b1",
   "metadata": {
    "collapsed": false
   },
   "outputs": [],
   "source": [
    "numerical_columns = claims.select_dtypes('number').columns\n",
    "numerical_columns"
   ]
  },
  {
   "cell_type": "markdown",
   "id": "28e8673366d124a4",
   "metadata": {
    "collapsed": false
   },
   "source": [
    "We need to correct numerical columns, as certain columns, such as `vehicle_ownership`, `married`, `children`, and `outcome` are considered categorical, even when they are represented using numerical values, namely 0 and 1."
   ]
  },
  {
   "cell_type": "code",
   "execution_count": null,
   "id": "eda56e0a4469b661",
   "metadata": {
    "collapsed": false
   },
   "outputs": [],
   "source": [
    "zero_one_columns = ['vehicle_ownership', 'married', 'children', 'outcome']\n",
    "for col in zero_one_columns:\n",
    "    claims[col] = claims[col].astype('object')"
   ]
  },
  {
   "cell_type": "markdown",
   "id": "6d01bce68f780122",
   "metadata": {
    "collapsed": false
   },
   "source": [
    "Now we will check categorical columns."
   ]
  },
  {
   "cell_type": "code",
   "execution_count": null,
   "id": "72e7f1562c6383f0",
   "metadata": {
    "collapsed": false
   },
   "outputs": [],
   "source": [
    "categorical_columns = claims.select_dtypes('object').columns\n",
    "categorical_columns"
   ]
  },
  {
   "cell_type": "code",
   "execution_count": null,
   "id": "cc25bc553bac589f",
   "metadata": {
    "collapsed": false
   },
   "outputs": [],
   "source": [
    "numerical_columns = claims.select_dtypes('number').columns"
   ]
  },
  {
   "cell_type": "markdown",
   "id": "5232cad2d0de886a",
   "metadata": {
    "collapsed": false
   },
   "source": [
    "### Conclusions\n",
    "- Correct data types have been applied consistently to enhance data clarity.\n",
    "- Missing values have been appropriately managed through imputation, preserving dataset completeness, some of missing values were deleted.\n",
    "\n",
    "The dataset is now clean and ready for deeper analysis and insights."
   ]
  },
  {
   "cell_type": "markdown",
   "id": "9cdb8a60c0ae747",
   "metadata": {
    "collapsed": false
   },
   "source": [
    "## Analyzing the data\n"
   ]
  },
  {
   "cell_type": "markdown",
   "source": [
    "### Descriptive Statistics"
   ],
   "metadata": {
    "collapsed": false
   },
   "id": "a538dad9a0abfb7c"
  },
  {
   "cell_type": "code",
   "execution_count": null,
   "outputs": [],
   "source": [
    "claims.describe()"
   ],
   "metadata": {
    "collapsed": false
   },
   "id": "c2539197f5096143"
  },
  {
   "cell_type": "code",
   "execution_count": null,
   "outputs": [],
   "source": [
    "claims.describe(include='object')"
   ],
   "metadata": {
    "collapsed": false
   },
   "id": "c63942c9672abbbb"
  },
  {
   "cell_type": "code",
   "execution_count": null,
   "id": "3780dc2e623fb8b5",
   "metadata": {
    "collapsed": false
   },
   "outputs": [],
   "source": [
    "for col in driving_incidents_columns:\n",
    "    fig, (ax1, ax2) = plt.subplots(1, 2, figsize=(12, 3))\n",
    "    sns.countplot(x=col, data=claims, hue='gender', ax=ax1)\n",
    "    sns.barplot(x='gender', y=col, data=claims, ax=ax2)"
   ]
  },
  {
   "cell_type": "markdown",
   "source": [
    "### Univariate analysis\n",
    "#### Proportion of clients by categorical columns"
   ],
   "metadata": {
    "collapsed": false
   },
   "id": "a5bd061e80f9a722"
  },
  {
   "cell_type": "code",
   "execution_count": null,
   "outputs": [],
   "source": [
    "colors = sns.color_palette(\"Set2\")\n",
    "\n",
    "plt.figure(figsize=(10, 30))\n",
    "plt.subplots_adjust(hspace=0.2, wspace=0.2)\n",
    "for n, col in enumerate(categorical_columns):\n",
    "    ax = plt.subplot(7, 2, n+1)\n",
    "    ax.set_title(f'{col.capitalize()} proportion')\n",
    "    counts = claims[col].value_counts()\n",
    "    plt.pie(counts.values, labels=counts.index, autopct='%0.0f%%', colors=colors)\n",
    "plt.show()"
   ],
   "metadata": {
    "collapsed": false
   },
   "id": "d5645e889cbf1613"
  },
  {
   "cell_type": "markdown",
   "source": [
    "**Observations**\n",
    "- Our clients are primarily distributed as follows: the largest group falls within the ***age*** range of 26 to 39 years (comprising 31%), followed by the group between 40 and 64 years (constituting 29%). The two smaller groups consist of the youngest and oldest individuals, accounting for 21% and 20% of the total, respectively. <br/><br/>\n",
    "- The ***gender*** distribution in our dataset is fairly balanced, with 50% male and 50% female clients. <br/><br/>\n",
    "- Most clients in the dataset have ***driving experience*** ranging from 0 to 19 years, accounting for 69% of the total. The highly experienced clients, with 30+ years of experience, constitute 11% of the dataset. <br/><br/>\n",
    "- The proportion of high school and university graduates in the dataset shows little variation, with 41% and 39%, respectively. However, it's important to note that information about the ***education*** level of 20% of clients is missing. <br/><br/>\n",
    "- The majority (43%) of clients in the dataset belong to the upper class. The ***income*** of 21% clients is middle. Individuals in poverty account for 18%, working class - 17%. <br/><br/>\n",
    "- Most clients own cars manufactured before 2015, constituting 70% of the dataset. 30% of clients possess ***vehicles year*** after the year 2015. <br/><br/>\n",
    "- It is expected that significant majority of customers opt for ***vehicle types*** like sedans, with only 5% preferring sports cars. <br/><br/>\n",
    "- 50% of clients are ***married*** and 69% have at least one ***child***. <br/><br/>\n",
    "- The majority (70%) of clients have ***own vehicle***. <br/><br/>\n",
    "- Car insurance applications for 69% of clients were rejected by the company, while 31% had a positive ***outcome*** in obtaining insurance. <br/><br/>\n",
    "\n",
    "**Conclusions**\n",
    "The data's proportions mirror real-life proportions, with particular emphasis on income distributions, where upper-class and middle-class individuals are prominently represented.\n"
   ],
   "metadata": {
    "collapsed": false
   },
   "id": "4de2f90eb9a498c"
  },
  {
   "cell_type": "markdown",
   "source": [
    "#### Distribution of credit score range using histogram and boxplot"
   ],
   "metadata": {
    "collapsed": false
   },
   "id": "e3d2874499599ddf"
  },
  {
   "cell_type": "code",
   "execution_count": null,
   "outputs": [],
   "source": [
    "def draw_distribution(column, bins=20):\n",
    "    f, (ax1, ax2) = plt.subplots(2, 1, sharex=True, figsize=(10,6), gridspec_kw={'height_ratios': [2, 1]})\n",
    "    plt.subplots_adjust(hspace=0.01)\n",
    "    ax1.set_title(f'Distribution of {column}')\n",
    "    sns.histplot(data=claims, x=column, ax=ax1, common_bins=True, bins=bins)\n",
    "    sns.boxplot(data=claims, x=column, ax=ax2)\n",
    "    plt.show()\n",
    "\n",
    "draw_distribution('credit_score')"
   ],
   "metadata": {
    "collapsed": false
   },
   "id": "124b8044b933265d"
  },
  {
   "cell_type": "markdown",
   "source": [
    "**Observations**\n",
    "- The credit scores of clients follow a normal distribution.\n",
    "- We can observe four bars that are slightly taller than the adjacent ones. These correspond to the four values that filled the missing cells in this column.\n",
    "- The median is approximately 0.5, while the minimum value in dataset is 0.05, and the maximum value is 0.95.\n",
    "- The majority of the data falls within the range of 0.4 to 0.6.\n",
    "- Outliers are noticeable on both sides of the whiskers, with a more significant concentration on the left side."
   ],
   "metadata": {
    "collapsed": false
   },
   "id": "83c38d143bd2078b"
  },
  {
   "cell_type": "markdown",
   "source": [
    "#### Distribution of annual mileage range using histogram and boxplot"
   ],
   "metadata": {
    "collapsed": false
   },
   "id": "974fa3ee4f3fb41d"
  },
  {
   "cell_type": "code",
   "execution_count": null,
   "outputs": [],
   "source": [
    "draw_distribution('annual_mileage')"
   ],
   "metadata": {
    "collapsed": false
   },
   "id": "f14479f1c5e5bec9"
  },
  {
   "cell_type": "markdown",
   "source": [
    "**Observations**\n",
    "- The annual mileage driven by individuals follow a normal distribution.\n",
    "- We can observe in the boxplot that distribution is skewed to the left, so the mean is slightly less than the median.\n",
    "- The median is approximately 12000, while the minimum value in dataset is 2000, and the maximum value is 22000.\n",
    "- Outliers are noticeable on both sides of the whiskers."
   ],
   "metadata": {
    "collapsed": false
   },
   "id": "6c2e74407f2a1738"
  },
  {
   "cell_type": "markdown",
   "source": [
    "#### Distribution of seeping violations, duis, and past accidents range using histogram and boxplot"
   ],
   "metadata": {
    "collapsed": false
   },
   "id": "3f5e7f80921f16a9"
  },
  {
   "cell_type": "code",
   "execution_count": null,
   "outputs": [],
   "source": [
    "for col in numerical_columns[2:]:\n",
    "    draw_distribution(col, bins=10)"
   ],
   "metadata": {
    "collapsed": false
   },
   "id": "1a13c5ef02422dbf"
  },
  {
   "cell_type": "markdown",
   "source": [
    "**Observations**\n",
    "- All three variables follow positively skewed distribution (right-skewed).\n",
    "- There are outliers on the right side.\n",
    "- `speeding_violation`:\n",
    "    - the max value is 22; the majority of the data falls within the range of 0 to 2.\n",
    "- `duis`:\n",
    "    - the max value is 6; Q1=Q3=0, it means that the majority of the data is zero, while a few data points may have much higher values.\n",
    "- `past_accidents`:\n",
    "    - the max value is 15; the majority of the data falls within the range of 0 to 2; all data points that have higher value than 5 are considered like outliers."
   ],
   "metadata": {
    "collapsed": false
   },
   "id": "38a4b9bad8abe211"
  },
  {
   "cell_type": "markdown",
   "source": [
    "### Bivariate analysis\n",
    "#### Analyzing outcome (Categorical-Categorical)"
   ],
   "metadata": {
    "collapsed": false
   },
   "id": "10cc903182d7788a"
  },
  {
   "cell_type": "code",
   "execution_count": null,
   "outputs": [],
   "source": [
    "fig, axes = plt.subplots(5, 2, figsize=(12, 20))\n",
    "plt.subplots_adjust(hspace=0.5, wspace=0.3)\n",
    "categorical_columns_without_outcome = [x for x in categorical_columns if x != 'outcome']\n",
    "for col, ax in zip(categorical_columns_without_outcome, axes.flat[:]):\n",
    "    sns.countplot(data=claims, x=col, ax=ax, hue=\"outcome\")\n",
    "    ax.set_title(f'Outcome by {col}', pad=15)\n",
    "    ax.set(xlabel=None)\n",
    "    ax.legend(bbox_to_anchor=(1.02, 1), loc='upper left', borderaxespad=0)\n",
    "    subplot = ax.get_subplotspec()\n",
    "    if subplot.is_first_col() and not subplot.is_last_row():\n",
    "        ax.get_legend().remove()\n",
    "    for p in ax.patches:\n",
    "        if p.get_height() != 0:\n",
    "            x = p.get_x() + p.get_width() / 2.\n",
    "            y = p.get_height()\n",
    "            ax.annotate(int(y), (x, y), ha='center', va='bottom')\n",
    "plt.show()"
   ],
   "metadata": {
    "collapsed": false
   },
   "id": "7eb90e7cfd411045"
  },
  {
   "cell_type": "markdown",
   "source": [
    "**Observations**\n",
    "\n",
    "By analyzing the presented graphs, it becomes evident that our initial assumption regarding the definition of the `outcome` column was incorrect. It is highly probable that the `outcome` pertains to whether the client has applied for insurance payment during the year.\n",
    "\n",
    "So,<br>\n",
    "\n",
    "| Column    | Description                                                                                                                 |\n",
    "|:----------|:----------------------------------------------------------------------------------------------------------------------------|\n",
    "| `outcome` | whether the client made a claim on their car insurance <br><ul><li>`0`: no claim</li><li>`1`: made claim</li></ul>          |\n",
    "\n",
    "Based on this assumption we can make the following **conclusions**:\n",
    "- Insurance claims are most frequently filed by young (16-25y.o.) and inexperienced drivers (0-9y). As drivers age and gain experience, their likelihood of being involved in accidents and filing insurance claims decreases. <br/><br/>\n",
    "- Females demonstrate a lower propensity to request insurance claims. Does this suggest that they are less tend to get into car accidents? Let's investigate this in the following section. <br/><br/>\n",
    "- Insurance claims are submitted by high school graduates more often than university graduates. <br/><br/>\n",
    "- It's evident that income has an impact on the likelihood of engaging with the insurance company. We can infer that individuals in poverty may possess older vehicles, which may experience more frequent breakdowns or pose greater risks in accidents. <br/><br/>\n",
    "- There is a likelihood that individuals exercise more caution when driving their own vehicles as opposed to rented or \"borrowed\" ones. <br/><br/>\n",
    "- Insurance claims are most frequently filled by owners of older cars. <br/><br/>\n",
    "- There is no substantial disparity in the proportion of outcomes between sedan and sports car owners. <br/><br/>\n",
    "- Married clients more rarely request insurance claims."
   ],
   "metadata": {
    "collapsed": false
   },
   "id": "cd600479ace2d21"
  },
  {
   "cell_type": "markdown",
   "source": [
    "#### Female vs Male (Categorical-Numerical)\n",
    "\n",
    "Let's investigate who demonstrates greater caution on the road: women or men. Through an analysis of driving behaviors, we seek to determine which group, male or female drivers, is of greater interest to insurance companies."
   ],
   "metadata": {
    "collapsed": false
   },
   "id": "53fa56e243004ea3"
  },
  {
   "cell_type": "code",
   "execution_count": null,
   "outputs": [],
   "source": [
    "driving_incidents_columns = [\"speeding_violations\", \"duis\", \"past_accidents\"]\n",
    "for col in driving_incidents_columns + zero_one_columns:\n",
    "    claims[col] = claims[col].astype('int')"
   ],
   "metadata": {
    "collapsed": false
   },
   "id": "f01b3c7f7ee09f4b"
  },
  {
   "cell_type": "markdown",
   "source": [
    "The graphs clearly indicate that women are more responsible drivers. However, it's essential to consider whether this is influenced by their driving frequency. Further exploration is needed to delve into this aspect."
   ],
   "metadata": {
    "collapsed": false
   },
   "id": "7e482aa12889d0e5"
  },
  {
   "cell_type": "code",
   "execution_count": null,
   "id": "d8d0eb6b83e48cfd",
   "metadata": {
    "collapsed": false
   },
   "outputs": [],
   "source": [
    "fig, (ax1, ax2) = plt.subplots(2, 1, sharex=True, figsize=(10,6), gridspec_kw={'height_ratios': [2, 1]})\n",
    "plt.subplots_adjust(hspace=0.01)\n",
    "sns.histplot(claims, x=\"annual_mileage\", hue=\"gender\", element=\"step\", bins=20, ax=ax1)\n",
    "sns.boxplot(x='annual_mileage', y='gender', data=claims, ax=ax2)\n",
    "plt.show()"
   ]
  },
  {
   "cell_type": "markdown",
   "source": [
    "**Conclusions**\n",
    "Our data reveals that women and men cover a similar number of miles annually. This leads to the inference of a correlation between gender and the occurrence of `speeding_violations`, `duis`, and `past_accidents`."
   ],
   "metadata": {
    "collapsed": false
   },
   "id": "5e1f37b45790cd74"
  },
  {
   "cell_type": "markdown",
   "source": [
    "#### The relationship between numerical data (Numerical-Numerical)"
   ],
   "metadata": {
    "collapsed": false
   },
   "id": "79a003be726412ba"
  },
  {
   "cell_type": "code",
   "execution_count": null,
   "outputs": [],
   "source": [
    "sns.pairplot(data=claims, vars=numerical_columns, corner=True)"
   ],
   "metadata": {
    "collapsed": false
   },
   "id": "ad2ad833a23a012"
  },
  {
   "cell_type": "markdown",
   "source": [
    "As confirmed in our previous analysis, the numerical data can be divided into two categories: one half follows a normal distribution, while the other half displays a right-skewed pattern. Consequently, we will employ different correlation coefficients for the distinct pairs: Spearman's rank correlation coefficient for (normal, right-skewed) and (right-skewed, right-skewed) pairs, and Pearson's correlation coefficient (r) for the (normal, normal) pair."
   ],
   "metadata": {
    "collapsed": false
   },
   "id": "a5a73af1624f8b9f"
  },
  {
   "cell_type": "code",
   "execution_count": null,
   "outputs": [],
   "source": [
    "corr_matrix = claims[numerical_columns].corr(method='spearman')\n",
    "corr_matrix.loc['credit_score', 'annual_mileage'] = corr_matrix.loc['annual_mileage', 'credit_score'] = (\n",
    "    claims['credit_score'].corr(claims['annual_mileage'])\n",
    ")\n",
    "sns.heatmap(corr_matrix, annot=True)\n",
    "plt.title(\"Correlation between numerical columns\")\n",
    "plt.show()"
   ],
   "metadata": {
    "collapsed": false
   },
   "id": "e2836c25a6ab5d76"
  },
  {
   "cell_type": "markdown",
   "source": [
    "### Multivariate analysis\n",
    "\n",
    "Let's identify the client groups with a higher propensity to submit a claim."
   ],
   "metadata": {
    "collapsed": false
   },
   "id": "ddc5efc4ac081f56"
  },
  {
   "cell_type": "code",
   "execution_count": null,
   "outputs": [],
   "source": [
    "len_c = len(categorical_columns_without_outcome)\n",
    "fig, axes = plt.subplots(15, 3, figsize=(20, 60))\n",
    "plt.subplots_adjust(hspace=0.5, wspace=0.2)\n",
    "n = 0\n",
    "\n",
    "for i in range(len_c):\n",
    "    col_1 = categorical_columns_without_outcome[i]\n",
    "    for j in range(i+1, len_c):\n",
    "        col_2 = categorical_columns_without_outcome[j]\n",
    "        if i != j:\n",
    "            pivot = pd.pivot_table(data=claims, index=col_1, columns=col_2, values='outcome')\n",
    "            m, k = n//3, n%3\n",
    "            ax = axes[m, k]\n",
    "            sns.heatmap(pivot, annot=True, center=0.117, ax=ax, cbar=k == 2)\n",
    "            ax.set_title(f\"{col_1} and {col_2}\", pad=15)\n",
    "            ax.set(xlabel=None, ylabel=None)\n",
    "            n+=1\n",
    "plt.show()"
   ],
   "metadata": {
    "collapsed": false
   },
   "id": "9742b152f796190a"
  },
  {
   "cell_type": "markdown",
   "source": [
    "**Conclusions**\n",
    "Based on these plots, it appears that the highest claim rates are associated with young, unmarried men without children, lacking significant driving experience, residing in poverty, with unknown education status, and not owning a vehicle manufactured before 2015.\n",
    "We will check it in the next section.\n"
   ],
   "metadata": {
    "collapsed": false
   },
   "id": "c00828999345f640"
  },
  {
   "cell_type": "markdown",
   "source": [
    "### Correlation analysis\n",
    "#### Encoding categorical variables"
   ],
   "metadata": {
    "collapsed": false
   },
   "id": "7499acb6f479aef9"
  },
  {
   "cell_type": "code",
   "execution_count": null,
   "outputs": [],
   "source": [
    "categorical_columns_corr = ['age', 'gender', 'driving_experience', 'education', 'income', 'vehicle_year', 'vehicle_type']"
   ],
   "metadata": {
    "collapsed": false
   },
   "id": "d659803d0a7a2bbf"
  },
  {
   "cell_type": "code",
   "execution_count": null,
   "outputs": [],
   "source": [
    "claims_transformed = claims.copy()\n",
    "for col in zero_one_columns:\n",
    "    claims_transformed[col] = claims_transformed[col].astype(int)\n",
    "for i in categorical_columns_corr:\n",
    "    var = pd.get_dummies(claims_transformed[i], drop_first=False)\n",
    "    claims_transformed.drop(i, axis=1, inplace=True)\n",
    "    claims_transformed = pd.concat([claims_transformed, var], axis=1)"
   ],
   "metadata": {
    "collapsed": false
   },
   "id": "a724adbab18c63e8"
  },
  {
   "cell_type": "markdown",
   "source": [
    "### Building the correlation matrix"
   ],
   "metadata": {
    "collapsed": false
   },
   "id": "9240802a0ec5726f"
  },
  {
   "cell_type": "code",
   "execution_count": null,
   "outputs": [],
   "source": [
    "corr_matrix = claims_transformed.corr()\n",
    "corr_with_outcome = corr_matrix['outcome'].drop('outcome')\n",
    "corr_with_outcome.loc[corr_with_outcome.abs().sort_values(ascending=False).index]"
   ],
   "metadata": {
    "collapsed": false
   },
   "id": "c11569919ade8186"
  },
  {
   "cell_type": "code",
   "execution_count": null,
   "outputs": [],
   "source": [
    "corr_with_outcome.plot.bar()"
   ],
   "metadata": {
    "collapsed": false
   },
   "id": "bfdf0b5596aad21"
  },
  {
   "cell_type": "markdown",
   "source": [
    "**Conclusions**\n",
    "There is moderate positive correlation between `outcome` and:\n",
    "- 0-9y `driving_experience`\n",
    "- 16-25 `age`\n",
    "- poverty `income`\n",
    "\n",
    "moderate negative correlation between `outcome` and:\n",
    "- `vehicle_ownership`\n",
    "- upper_class `income`\n",
    "- `credit_score`\n",
    "- `past_accidents`\n",
    "\n",
    "Probably some of these variables are correlated, e.x. `age` and `driving_experience`, but we will investigate it next time."
   ],
   "metadata": {
    "collapsed": false
   },
   "id": "1209390936a899c8"
  },
  {
   "cell_type": "markdown",
   "source": [
    "### Suggestions\n",
    "- when the target is \"outcome = 0,\" consider client attributes such as `age`, `driving experience`, `income`, and `credit_score`.\n",
    "- establish specific thresholds or limits for variables like `past_accidents`, `duis`, and `speeding_violations`.\n",
    "- implement a differentiated pricing strategy, potentially with higher rates for male clients and owners of old cars.\n"
   ],
   "metadata": {
    "collapsed": false
   },
   "id": "60a76317f1d0da90"
  }
 ],
 "metadata": {
  "kernelspec": {
   "display_name": "Python 3 (ipykernel)",
   "language": "python",
   "name": "python3"
  },
  "language_info": {
   "codemirror_mode": {
    "name": "ipython",
    "version": 3
   },
   "file_extension": ".py",
   "mimetype": "text/x-python",
   "name": "python",
   "nbconvert_exporter": "python",
   "pygments_lexer": "ipython3",
   "version": "3.11.5"
  }
 },
 "nbformat": 4,
 "nbformat_minor": 5
}
