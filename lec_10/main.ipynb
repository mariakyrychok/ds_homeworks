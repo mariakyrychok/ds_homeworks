{
 "cells": [
  {
   "cell_type": "markdown",
   "metadata": {},
   "source": [
    "<font color = green >\n",
    "    \n",
    "# Home Task \n",
    "\n",
    "</font>\n",
    "\n"
   ]
  },
  {
   "cell_type": "markdown",
   "metadata": {},
   "source": [
    "<font color = green>\n",
    "\n",
    "##  Brest cancer  dataset\n",
    "</font>\n",
    "\n"
   ]
  },
  {
   "cell_type": "code",
   "execution_count": 170,
   "outputs": [],
   "source": [
    "import graphviz\n",
    "\n",
    "from sklearn.datasets import load_breast_cancer\n",
    "from sklearn.model_selection import train_test_split\n",
    "from sklearn.tree import DecisionTreeClassifier\n",
    "from sklearn import tree\n",
    "from sklearn.ensemble import RandomForestClassifier\n",
    "from sklearn.ensemble import GradientBoostingClassifier\n",
    "from xgboost import XGBClassifier"
   ],
   "metadata": {
    "collapsed": false,
    "ExecuteTime": {
     "end_time": "2023-12-19T16:23:08.783245Z",
     "start_time": "2023-12-19T16:23:08.672334Z"
    }
   }
  },
  {
   "cell_type": "code",
   "execution_count": 171,
   "metadata": {
    "ExecuteTime": {
     "end_time": "2023-12-19T16:23:08.783874Z",
     "start_time": "2023-12-19T16:23:08.689432Z"
    }
   },
   "outputs": [
    {
     "name": "stdout",
     "output_type": "stream",
     "text": [
      "labels: ['malignant' 'benign']\n",
      "features: ['mean radius' 'mean texture' 'mean perimeter' 'mean area'\n",
      " 'mean smoothness' 'mean compactness' 'mean concavity'\n",
      " 'mean concave points' 'mean symmetry' 'mean fractal dimension'\n",
      " 'radius error' 'texture error' 'perimeter error' 'area error'\n",
      " 'smoothness error' 'compactness error' 'concavity error'\n",
      " 'concave points error' 'symmetry error' 'fractal dimension error'\n",
      " 'worst radius' 'worst texture' 'worst perimeter' 'worst area'\n",
      " 'worst smoothness' 'worst compactness' 'worst concavity'\n",
      " 'worst concave points' 'worst symmetry' 'worst fractal dimension']\n"
     ]
    }
   ],
   "source": [
    "cancer = load_breast_cancer()\n",
    "X, y, labels, features = cancer.data, cancer.target, cancer.target_names, cancer.feature_names\n",
    "print ('labels:',labels)\n",
    "print ('features:', features)\n",
    "\n",
    "X_train, X_test, y_train, y_test = train_test_split(X, y, random_state = 0)"
   ]
  },
  {
   "cell_type": "markdown",
   "metadata": {},
   "source": [
    "<font color = green>\n",
    "\n",
    "##  DecisionTree \n",
    "\n",
    "</font>\n",
    "\n"
   ]
  },
  {
   "cell_type": "code",
   "execution_count": 172,
   "metadata": {
    "ExecuteTime": {
     "end_time": "2023-12-19T16:23:08.908363Z",
     "start_time": "2023-12-19T16:23:08.707873Z"
    }
   },
   "outputs": [
    {
     "name": "stdout",
     "output_type": "stream",
     "text": [
      "The best test accuracy: 0.951. \n",
      "The best depth: 3\n",
      "\n",
      "train accuracy= 97.653%\n",
      "test accuracy= 95.105%\n"
     ]
    },
    {
     "data": {
      "text/plain": "'Source.gv.pdf'"
     },
     "execution_count": 172,
     "metadata": {},
     "output_type": "execute_result"
    }
   ],
   "source": [
    "random_state = 12345\n",
    "\n",
    "decision_tree_model = None\n",
    "result = 0\n",
    "decision_tree_depth = 1\n",
    "\n",
    "for depth in range(1, 10):\n",
    "    model = DecisionTreeClassifier(random_state=random_state, max_depth=depth, criterion='entropy')\n",
    "    model.fit(X_train, y_train)\n",
    "    accuracy = model.score(X_test, y_test)\n",
    "    if accuracy > result:\n",
    "        decision_tree_model = model\n",
    "        decision_tree_depth = depth\n",
    "        result = accuracy\n",
    "\n",
    "print(f'The best test accuracy: {result:.4}. ',\n",
    "      f'The best depth: {decision_tree_depth}', '', sep='\\n')\n",
    "\n",
    "\n",
    "print(\"train accuracy= {:.3%}\".format(decision_tree_model.score(X_train, y_train)))\n",
    "print(\"test accuracy= {:.3%}\".format(result))\n",
    "graph_viz = tree.export_graphviz(decision_tree_model, out_file=None,feature_names=features, class_names=labels, filled = True)\n",
    "graph = graphviz.Source(graph_viz)\n",
    "graph.view(cleanup =True) # cleanup (bool) – Delete the source file after rendering."
   ]
  },
  {
   "cell_type": "markdown",
   "metadata": {},
   "source": [
    "<font color = green>\n",
    "\n",
    "##  RandomForest\n",
    "\n",
    "</font>\n",
    "\n"
   ]
  },
  {
   "cell_type": "code",
   "execution_count": 173,
   "metadata": {
    "ExecuteTime": {
     "end_time": "2023-12-19T16:23:09.612946Z",
     "start_time": "2023-12-19T16:23:08.913128Z"
    }
   },
   "outputs": [
    {
     "name": "stdout",
     "output_type": "stream",
     "text": [
      "The best test accuracy: 0.979\n",
      "The best best number of trees: 9\n",
      "The best depth: 3\n",
      "\n",
      "train accuracy= 96.948%\n",
      "test accuracy= 97.902%\n"
     ]
    }
   ],
   "source": [
    "forest_model = None\n",
    "result = 0\n",
    "forest_est = 1\n",
    "forest_depth = 1\n",
    "\n",
    "for est in range(1, 11):\n",
    "    for depth in range(1, 11):\n",
    "        model = RandomForestClassifier(\n",
    "            random_state=random_state, n_estimators=est, max_depth=depth, max_features='sqrt'\n",
    "        )\n",
    "        model.fit(X_train, y_train)\n",
    "        accuracy = model.score(X_test, y_test)\n",
    "        if accuracy > result:\n",
    "            forest_model = model\n",
    "            result = accuracy\n",
    "            forest_est = est\n",
    "            forest_depth = depth\n",
    "\n",
    "print(f'The best test accuracy: {result:.4}',\n",
    "      f'The best best number of trees: {forest_est}',\n",
    "      f'The best depth: {forest_depth}', '', sep='\\n')\n",
    "\n",
    "print(\"train accuracy= {:.3%}\".format(forest_model.score(X_train, y_train)))\n",
    "print(\"test accuracy= {:.3%}\".format(forest_model.score(X_test, y_test)))"
   ]
  },
  {
   "cell_type": "markdown",
   "metadata": {},
   "source": [
    "<font color = green>\n",
    "\n",
    "##  Gradient Boosting Decision Trees (GBDT)\n",
    "\n",
    "</font>\n",
    "\n"
   ]
  },
  {
   "cell_type": "code",
   "execution_count": 174,
   "metadata": {
    "ExecuteTime": {
     "end_time": "2023-12-19T16:23:10.571325Z",
     "start_time": "2023-12-19T16:23:09.623130Z"
    }
   },
   "outputs": [
    {
     "name": "stdout",
     "output_type": "stream",
     "text": [
      "The best test accuracy: 0.965. \n",
      "The best depth: 2\n",
      "\n",
      "train accuracy= 97.418%\n",
      "test accuracy= 96.503%\n"
     ]
    }
   ],
   "source": [
    "gradient_model = None\n",
    "result = 0\n",
    "gradient_depth = 1\n",
    "\n",
    "\n",
    "for depth in range(1, 5):\n",
    "    model = GradientBoostingClassifier(learning_rate=0.01, max_depth=depth)\n",
    "    model.fit(X_train, y_train)\n",
    "    accuracy = model.score(X_test, y_test)\n",
    "    if accuracy > result:\n",
    "        gradient_model = model\n",
    "        gradient_depth = depth\n",
    "        result = accuracy\n",
    "\n",
    "print(f'The best test accuracy: {result:.4}. ',\n",
    "      f'The best depth: {gradient_depth}', '', sep='\\n')\n",
    "# END_CODE \n",
    "\n",
    "print(\"train accuracy= {:.3%}\".format(gradient_model.score(X_train, y_train)))\n",
    "print(\"test accuracy= {:.3%}\".format(result))"
   ]
  },
  {
   "cell_type": "markdown",
   "metadata": {},
   "source": [
    "<font color = green>\n",
    "\n",
    "##  XGBoost\n",
    "\n",
    "</font>\n",
    "\n"
   ]
  },
  {
   "cell_type": "code",
   "execution_count": 175,
   "metadata": {
    "ExecuteTime": {
     "end_time": "2023-12-19T16:23:10.783787Z",
     "start_time": "2023-12-19T16:23:10.576865Z"
    }
   },
   "outputs": [
    {
     "name": "stdout",
     "output_type": "stream",
     "text": [
      "The best test accuracy: 0.986. \n",
      "The best depth: 1\n",
      "\n",
      "train accuracy= 99.765%\n",
      "test accuracy= 98.601%\n"
     ]
    }
   ],
   "source": [
    "xgboost_model = None\n",
    "result = 0\n",
    "xgboost_depth = 1\n",
    "\n",
    "for depth in range(1, 5):\n",
    "    model = XGBClassifier(use_label_encoder=False, eval_metric= 'logloss', max_depth=depth)\n",
    "    model.fit(X_train, y_train)\n",
    "    accuracy = model.score(X_test, y_test)\n",
    "    if accuracy > result:\n",
    "        xgboost_model = model\n",
    "        gxgboost_depth = depth\n",
    "        result = accuracy\n",
    "\n",
    "print(f'The best test accuracy: {result:.4}. ',\n",
    "      f'The best depth: {xgboost_depth}', '', sep='\\n')\n",
    "\n",
    "print(\"train accuracy= {:.3%}\".format(xgboost_model.score(X_train, y_train)))\n",
    "print(\"test accuracy= {:.3%}\".format(result))"
   ]
  }
 ],
 "metadata": {
  "kernelspec": {
   "display_name": "Python 3 (ipykernel)",
   "language": "python",
   "name": "python3"
  },
  "language_info": {
   "codemirror_mode": {
    "name": "ipython",
    "version": 3
   },
   "file_extension": ".py",
   "mimetype": "text/x-python",
   "name": "python",
   "nbconvert_exporter": "python",
   "pygments_lexer": "ipython3",
   "version": "3.9.13"
  }
 },
 "nbformat": 4,
 "nbformat_minor": 2
}
