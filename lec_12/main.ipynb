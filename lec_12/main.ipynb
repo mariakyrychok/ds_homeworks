{
 "cells": [
  {
   "cell_type": "code",
   "execution_count": 956,
   "id": "initial_id",
   "metadata": {
    "collapsed": true,
    "ExecuteTime": {
     "end_time": "2023-11-21T15:55:51.160752Z",
     "start_time": "2023-11-21T15:55:50.369487Z"
    }
   },
   "outputs": [],
   "source": [
    "import pandas as pd\n",
    "import re\n",
    "import seaborn as sns\n",
    "from sklearn.preprocessing import MinMaxScaler"
   ]
  },
  {
   "cell_type": "code",
   "execution_count": 957,
   "outputs": [],
   "source": [
    "import warnings # for ignore unimportant warnings\n",
    "warnings.filterwarnings(\"ignore\")\n",
    "warnings.simplefilter('ignore')"
   ],
   "metadata": {
    "collapsed": false,
    "ExecuteTime": {
     "end_time": "2023-11-21T15:55:51.161421Z",
     "start_time": "2023-11-21T15:55:50.376530Z"
    }
   },
   "id": "11b1cc4d8003ec07"
  },
  {
   "cell_type": "code",
   "execution_count": 958,
   "outputs": [
    {
     "data": {
      "text/plain": "   PassengerId  Survived  Pclass  \\\n0            1         0       3   \n1            2         1       1   \n2            3         1       3   \n3            4         1       1   \n4            5         0       3   \n5            6         0       3   \n6            7         0       1   \n7            8         0       3   \n8            9         1       3   \n9           10         1       2   \n\n                                                Name     Sex   Age  SibSp  \\\n0                            Braund, Mr. Owen Harris    male  22.0      1   \n1  Cumings, Mrs. John Bradley (Florence Briggs Th...  female  38.0      1   \n2                             Heikkinen, Miss. Laina  female  26.0      0   \n3       Futrelle, Mrs. Jacques Heath (Lily May Peel)  female  35.0      1   \n4                           Allen, Mr. William Henry    male  35.0      0   \n5                                   Moran, Mr. James    male   NaN      0   \n6                            McCarthy, Mr. Timothy J    male  54.0      0   \n7                     Palsson, Master. Gosta Leonard    male   2.0      3   \n8  Johnson, Mrs. Oscar W (Elisabeth Vilhelmina Berg)  female  27.0      0   \n9                Nasser, Mrs. Nicholas (Adele Achem)  female  14.0      1   \n\n   Parch            Ticket     Fare Cabin Embarked  \n0      0         A/5 21171   7.2500   NaN        S  \n1      0          PC 17599  71.2833   C85        C  \n2      0  STON/O2. 3101282   7.9250   NaN        S  \n3      0            113803  53.1000  C123        S  \n4      0            373450   8.0500   NaN        S  \n5      0            330877   8.4583   NaN        Q  \n6      0             17463  51.8625   E46        S  \n7      1            349909  21.0750   NaN        S  \n8      2            347742  11.1333   NaN        S  \n9      0            237736  30.0708   NaN        C  ",
      "text/html": "<div>\n<style scoped>\n    .dataframe tbody tr th:only-of-type {\n        vertical-align: middle;\n    }\n\n    .dataframe tbody tr th {\n        vertical-align: top;\n    }\n\n    .dataframe thead th {\n        text-align: right;\n    }\n</style>\n<table border=\"1\" class=\"dataframe\">\n  <thead>\n    <tr style=\"text-align: right;\">\n      <th></th>\n      <th>PassengerId</th>\n      <th>Survived</th>\n      <th>Pclass</th>\n      <th>Name</th>\n      <th>Sex</th>\n      <th>Age</th>\n      <th>SibSp</th>\n      <th>Parch</th>\n      <th>Ticket</th>\n      <th>Fare</th>\n      <th>Cabin</th>\n      <th>Embarked</th>\n    </tr>\n  </thead>\n  <tbody>\n    <tr>\n      <th>0</th>\n      <td>1</td>\n      <td>0</td>\n      <td>3</td>\n      <td>Braund, Mr. Owen Harris</td>\n      <td>male</td>\n      <td>22.0</td>\n      <td>1</td>\n      <td>0</td>\n      <td>A/5 21171</td>\n      <td>7.2500</td>\n      <td>NaN</td>\n      <td>S</td>\n    </tr>\n    <tr>\n      <th>1</th>\n      <td>2</td>\n      <td>1</td>\n      <td>1</td>\n      <td>Cumings, Mrs. John Bradley (Florence Briggs Th...</td>\n      <td>female</td>\n      <td>38.0</td>\n      <td>1</td>\n      <td>0</td>\n      <td>PC 17599</td>\n      <td>71.2833</td>\n      <td>C85</td>\n      <td>C</td>\n    </tr>\n    <tr>\n      <th>2</th>\n      <td>3</td>\n      <td>1</td>\n      <td>3</td>\n      <td>Heikkinen, Miss. Laina</td>\n      <td>female</td>\n      <td>26.0</td>\n      <td>0</td>\n      <td>0</td>\n      <td>STON/O2. 3101282</td>\n      <td>7.9250</td>\n      <td>NaN</td>\n      <td>S</td>\n    </tr>\n    <tr>\n      <th>3</th>\n      <td>4</td>\n      <td>1</td>\n      <td>1</td>\n      <td>Futrelle, Mrs. Jacques Heath (Lily May Peel)</td>\n      <td>female</td>\n      <td>35.0</td>\n      <td>1</td>\n      <td>0</td>\n      <td>113803</td>\n      <td>53.1000</td>\n      <td>C123</td>\n      <td>S</td>\n    </tr>\n    <tr>\n      <th>4</th>\n      <td>5</td>\n      <td>0</td>\n      <td>3</td>\n      <td>Allen, Mr. William Henry</td>\n      <td>male</td>\n      <td>35.0</td>\n      <td>0</td>\n      <td>0</td>\n      <td>373450</td>\n      <td>8.0500</td>\n      <td>NaN</td>\n      <td>S</td>\n    </tr>\n    <tr>\n      <th>5</th>\n      <td>6</td>\n      <td>0</td>\n      <td>3</td>\n      <td>Moran, Mr. James</td>\n      <td>male</td>\n      <td>NaN</td>\n      <td>0</td>\n      <td>0</td>\n      <td>330877</td>\n      <td>8.4583</td>\n      <td>NaN</td>\n      <td>Q</td>\n    </tr>\n    <tr>\n      <th>6</th>\n      <td>7</td>\n      <td>0</td>\n      <td>1</td>\n      <td>McCarthy, Mr. Timothy J</td>\n      <td>male</td>\n      <td>54.0</td>\n      <td>0</td>\n      <td>0</td>\n      <td>17463</td>\n      <td>51.8625</td>\n      <td>E46</td>\n      <td>S</td>\n    </tr>\n    <tr>\n      <th>7</th>\n      <td>8</td>\n      <td>0</td>\n      <td>3</td>\n      <td>Palsson, Master. Gosta Leonard</td>\n      <td>male</td>\n      <td>2.0</td>\n      <td>3</td>\n      <td>1</td>\n      <td>349909</td>\n      <td>21.0750</td>\n      <td>NaN</td>\n      <td>S</td>\n    </tr>\n    <tr>\n      <th>8</th>\n      <td>9</td>\n      <td>1</td>\n      <td>3</td>\n      <td>Johnson, Mrs. Oscar W (Elisabeth Vilhelmina Berg)</td>\n      <td>female</td>\n      <td>27.0</td>\n      <td>0</td>\n      <td>2</td>\n      <td>347742</td>\n      <td>11.1333</td>\n      <td>NaN</td>\n      <td>S</td>\n    </tr>\n    <tr>\n      <th>9</th>\n      <td>10</td>\n      <td>1</td>\n      <td>2</td>\n      <td>Nasser, Mrs. Nicholas (Adele Achem)</td>\n      <td>female</td>\n      <td>14.0</td>\n      <td>1</td>\n      <td>0</td>\n      <td>237736</td>\n      <td>30.0708</td>\n      <td>NaN</td>\n      <td>C</td>\n    </tr>\n  </tbody>\n</table>\n</div>"
     },
     "execution_count": 958,
     "metadata": {},
     "output_type": "execute_result"
    }
   ],
   "source": [
    "train = pd.read_csv(\"datasets/train.csv\")\n",
    "test = pd.read_csv(\"datasets/test.csv\")\n",
    "\n",
    "train.head(10)"
   ],
   "metadata": {
    "collapsed": false,
    "ExecuteTime": {
     "end_time": "2023-11-21T15:55:51.162158Z",
     "start_time": "2023-11-21T15:55:50.480296Z"
    }
   },
   "id": "97d35e4adc79db14"
  },
  {
   "cell_type": "code",
   "execution_count": 959,
   "outputs": [],
   "source": [
    "train.columns = train.columns.str.lower()\n",
    "test.columns = test.columns.str.lower()"
   ],
   "metadata": {
    "collapsed": false,
    "ExecuteTime": {
     "end_time": "2023-11-21T15:55:51.162206Z",
     "start_time": "2023-11-21T15:55:50.481546Z"
    }
   },
   "id": "69667fcc2fa5742e"
  },
  {
   "cell_type": "code",
   "execution_count": 960,
   "outputs": [
    {
     "data": {
      "text/plain": "       passengerid    survived      pclass         age       sibsp  \\\ncount   891.000000  891.000000  891.000000  714.000000  891.000000   \nmean    446.000000    0.383838    2.308642   29.699118    0.523008   \nstd     257.353842    0.486592    0.836071   14.526497    1.102743   \nmin       1.000000    0.000000    1.000000    0.420000    0.000000   \n25%     223.500000    0.000000    2.000000   20.125000    0.000000   \n50%     446.000000    0.000000    3.000000   28.000000    0.000000   \n75%     668.500000    1.000000    3.000000   38.000000    1.000000   \nmax     891.000000    1.000000    3.000000   80.000000    8.000000   \n\n            parch        fare  \ncount  891.000000  891.000000  \nmean     0.381594   32.204208  \nstd      0.806057   49.693429  \nmin      0.000000    0.000000  \n25%      0.000000    7.910400  \n50%      0.000000   14.454200  \n75%      0.000000   31.000000  \nmax      6.000000  512.329200  ",
      "text/html": "<div>\n<style scoped>\n    .dataframe tbody tr th:only-of-type {\n        vertical-align: middle;\n    }\n\n    .dataframe tbody tr th {\n        vertical-align: top;\n    }\n\n    .dataframe thead th {\n        text-align: right;\n    }\n</style>\n<table border=\"1\" class=\"dataframe\">\n  <thead>\n    <tr style=\"text-align: right;\">\n      <th></th>\n      <th>passengerid</th>\n      <th>survived</th>\n      <th>pclass</th>\n      <th>age</th>\n      <th>sibsp</th>\n      <th>parch</th>\n      <th>fare</th>\n    </tr>\n  </thead>\n  <tbody>\n    <tr>\n      <th>count</th>\n      <td>891.000000</td>\n      <td>891.000000</td>\n      <td>891.000000</td>\n      <td>714.000000</td>\n      <td>891.000000</td>\n      <td>891.000000</td>\n      <td>891.000000</td>\n    </tr>\n    <tr>\n      <th>mean</th>\n      <td>446.000000</td>\n      <td>0.383838</td>\n      <td>2.308642</td>\n      <td>29.699118</td>\n      <td>0.523008</td>\n      <td>0.381594</td>\n      <td>32.204208</td>\n    </tr>\n    <tr>\n      <th>std</th>\n      <td>257.353842</td>\n      <td>0.486592</td>\n      <td>0.836071</td>\n      <td>14.526497</td>\n      <td>1.102743</td>\n      <td>0.806057</td>\n      <td>49.693429</td>\n    </tr>\n    <tr>\n      <th>min</th>\n      <td>1.000000</td>\n      <td>0.000000</td>\n      <td>1.000000</td>\n      <td>0.420000</td>\n      <td>0.000000</td>\n      <td>0.000000</td>\n      <td>0.000000</td>\n    </tr>\n    <tr>\n      <th>25%</th>\n      <td>223.500000</td>\n      <td>0.000000</td>\n      <td>2.000000</td>\n      <td>20.125000</td>\n      <td>0.000000</td>\n      <td>0.000000</td>\n      <td>7.910400</td>\n    </tr>\n    <tr>\n      <th>50%</th>\n      <td>446.000000</td>\n      <td>0.000000</td>\n      <td>3.000000</td>\n      <td>28.000000</td>\n      <td>0.000000</td>\n      <td>0.000000</td>\n      <td>14.454200</td>\n    </tr>\n    <tr>\n      <th>75%</th>\n      <td>668.500000</td>\n      <td>1.000000</td>\n      <td>3.000000</td>\n      <td>38.000000</td>\n      <td>1.000000</td>\n      <td>0.000000</td>\n      <td>31.000000</td>\n    </tr>\n    <tr>\n      <th>max</th>\n      <td>891.000000</td>\n      <td>1.000000</td>\n      <td>3.000000</td>\n      <td>80.000000</td>\n      <td>8.000000</td>\n      <td>6.000000</td>\n      <td>512.329200</td>\n    </tr>\n  </tbody>\n</table>\n</div>"
     },
     "execution_count": 960,
     "metadata": {},
     "output_type": "execute_result"
    }
   ],
   "source": [
    "train.describe()"
   ],
   "metadata": {
    "collapsed": false,
    "ExecuteTime": {
     "end_time": "2023-11-21T15:55:51.164464Z",
     "start_time": "2023-11-21T15:55:50.494390Z"
    }
   },
   "id": "da3c88f5f5702533"
  },
  {
   "cell_type": "markdown",
   "source": [
    "| Column     | Description                                                                                                              |\n",
    "|------------|--------------------------------------------------------------------------------------------------------------------------|\n",
    "| `survival` | Survival: <br><ul><li>`0`: no</li><li>`1`: yes</li></ul>                                                                 |\n",
    "| `pclass`   | Ticket class: <br> <ul><li>`1`: 1st</li><li>`2`: 2nd</li><li>`3`: 3rd</li></ul>                              |\n",
    "| `sex`      | sex                                                              |\n",
    "| `age`      | Age in years       |\n",
    "| `sibsp`    | # of siblings / spouses aboard the Titanic                                       |\n",
    "| `parch`    | # of parents / children aboard the Titanic     |\n",
    "| `ticket`   | Ticket number                                                                             |\n",
    "| `fare`     | Passenger fare |\n",
    "| `cabin`    | Cabin number                                      |\n",
    "| `embarked` | Port of Embarkation: <br><ul><li>`C`: Cherbourg</li><li>`Q`: Queenstown</li><li>`S`: Southampton</li></ul>                                     |\n",
    "\n",
    "\n",
    "\n",
    "**Variable Notes:** <br>\n",
    "`pclass`: A proxy for socio-economic status (SES)\n",
    "- 1st = Upper\n",
    "- 2nd = Middle\n",
    "- 3rd = Lower <br>\n",
    "\n",
    "`age`: Age is fractional if less than 1. If the age is estimated, is it in the form of xx.5 <br>\n",
    "\n",
    "`sibsp`: The dataset defines family relations in this way...\n",
    "- Sibling = brother, sister, stepbrother, stepsister\n",
    "- Spouse = husband, wife (mistresses and fiancés were ignored) <br>\n",
    "\n",
    "`parch`: The dataset defines family relations in this way...\n",
    "- Parent = mother, father\n",
    "- Child = daughter, son, stepdaughter, stepson\n",
    "Some children travelled only with a nanny, therefore parch=0 for them."
   ],
   "metadata": {
    "collapsed": false
   },
   "id": "8ca34ea29ca0bcf4"
  },
  {
   "cell_type": "code",
   "execution_count": 961,
   "outputs": [
    {
     "data": {
      "text/plain": "passengerid      0\nsurvived         0\npclass           0\nname             0\nsex              0\nage            177\nsibsp            0\nparch            0\nticket           0\nfare             0\ncabin          687\nembarked         2\ndtype: int64"
     },
     "execution_count": 961,
     "metadata": {},
     "output_type": "execute_result"
    }
   ],
   "source": [
    "train.isnull().sum()"
   ],
   "metadata": {
    "collapsed": false,
    "ExecuteTime": {
     "end_time": "2023-11-21T15:55:51.165466Z",
     "start_time": "2023-11-21T15:55:50.513958Z"
    }
   },
   "id": "eef7844913ffd572"
  },
  {
   "cell_type": "code",
   "execution_count": 962,
   "outputs": [
    {
     "data": {
      "text/plain": "passengerid      0\npclass           0\nname             0\nsex              0\nage             86\nsibsp            0\nparch            0\nticket           0\nfare             1\ncabin          327\nembarked         0\ndtype: int64"
     },
     "execution_count": 962,
     "metadata": {},
     "output_type": "execute_result"
    }
   ],
   "source": [
    "test.isnull().sum()"
   ],
   "metadata": {
    "collapsed": false,
    "ExecuteTime": {
     "end_time": "2023-11-21T15:55:51.165568Z",
     "start_time": "2023-11-21T15:55:50.515860Z"
    }
   },
   "id": "2ff7b70a060091bb"
  },
  {
   "cell_type": "code",
   "execution_count": 963,
   "outputs": [
    {
     "data": {
      "text/plain": "0"
     },
     "execution_count": 963,
     "metadata": {},
     "output_type": "execute_result"
    }
   ],
   "source": [
    "train.duplicated().sum()"
   ],
   "metadata": {
    "collapsed": false,
    "ExecuteTime": {
     "end_time": "2023-11-21T15:55:51.165652Z",
     "start_time": "2023-11-21T15:55:50.521188Z"
    }
   },
   "id": "e329da79e4befde8"
  },
  {
   "cell_type": "code",
   "execution_count": 964,
   "outputs": [
    {
     "data": {
      "text/plain": "0"
     },
     "execution_count": 964,
     "metadata": {},
     "output_type": "execute_result"
    }
   ],
   "source": [
    "test.duplicated().sum()"
   ],
   "metadata": {
    "collapsed": false,
    "ExecuteTime": {
     "end_time": "2023-11-21T15:55:51.165985Z",
     "start_time": "2023-11-21T15:55:50.526434Z"
    }
   },
   "id": "2e0a95b48ad7b619"
  },
  {
   "cell_type": "markdown",
   "source": [
    "Let's merge these two datasets to apply uniform preprocessing steps for both."
   ],
   "metadata": {
    "collapsed": false
   },
   "id": "42a61fa53081ac2e"
  },
  {
   "cell_type": "code",
   "execution_count": 965,
   "outputs": [],
   "source": [
    "data = pd.concat([train, test])"
   ],
   "metadata": {
    "collapsed": false,
    "ExecuteTime": {
     "end_time": "2023-11-21T15:55:51.166034Z",
     "start_time": "2023-11-21T15:55:50.533941Z"
    }
   },
   "id": "aeeed946e7af97cb"
  },
  {
   "cell_type": "code",
   "execution_count": 966,
   "outputs": [],
   "source": [
    "data.reset_index(drop=True, inplace=True)"
   ],
   "metadata": {
    "collapsed": false,
    "ExecuteTime": {
     "end_time": "2023-11-21T15:55:51.166069Z",
     "start_time": "2023-11-21T15:55:50.536114Z"
    }
   },
   "id": "bae0215f79f9dc1e"
  },
  {
   "cell_type": "code",
   "execution_count": 967,
   "outputs": [
    {
     "data": {
      "text/plain": "passengerid       0\nsurvived        418\npclass            0\nname              0\nsex               0\nage             263\nsibsp             0\nparch             0\nticket            0\nfare              1\ncabin          1014\nembarked          2\ndtype: int64"
     },
     "execution_count": 967,
     "metadata": {},
     "output_type": "execute_result"
    }
   ],
   "source": [
    "data.isnull().sum()"
   ],
   "metadata": {
    "collapsed": false,
    "ExecuteTime": {
     "end_time": "2023-11-21T15:55:51.166313Z",
     "start_time": "2023-11-21T15:55:50.541119Z"
    }
   },
   "id": "1bd41e8bcb7e415"
  },
  {
   "cell_type": "code",
   "execution_count": 968,
   "outputs": [],
   "source": [
    "pattern = r\"\\S+(?=\\.)\"\n",
    "\n",
    "data['title'] = [re.findall(pattern, name)[0] for name in data['name']]"
   ],
   "metadata": {
    "collapsed": false,
    "ExecuteTime": {
     "end_time": "2023-11-21T15:55:51.166457Z",
     "start_time": "2023-11-21T15:55:50.544405Z"
    }
   },
   "id": "ba1de396c3542afd"
  },
  {
   "cell_type": "code",
   "execution_count": 969,
   "outputs": [],
   "source": [
    "data['age'] = (\n",
    "    data.groupby('title')['age'].apply(lambda group: group.fillna(group.median())).reset_index(level=0)['age']\n",
    ")"
   ],
   "metadata": {
    "collapsed": false,
    "ExecuteTime": {
     "end_time": "2023-11-21T15:55:51.166495Z",
     "start_time": "2023-11-21T15:55:50.558439Z"
    }
   },
   "id": "c8934fd4d85441ae"
  },
  {
   "cell_type": "code",
   "execution_count": 970,
   "outputs": [],
   "source": [
    "thomas = data[data['fare'].isnull()]"
   ],
   "metadata": {
    "collapsed": false,
    "ExecuteTime": {
     "end_time": "2023-11-21T15:55:51.166533Z",
     "start_time": "2023-11-21T15:55:50.568114Z"
    }
   },
   "id": "c0111f0d530407a1"
  },
  {
   "cell_type": "code",
   "execution_count": 971,
   "outputs": [],
   "source": [
    "thomas_fare = data.groupby(['sex', 'pclass', 'title'])['fare'].mean()[thomas.sex.values[0], thomas.pclass.values[0], thomas.title.values[0]]"
   ],
   "metadata": {
    "collapsed": false,
    "ExecuteTime": {
     "end_time": "2023-11-21T15:55:51.166573Z",
     "start_time": "2023-11-21T15:55:50.571428Z"
    }
   },
   "id": "49243eafe5d0a24e"
  },
  {
   "cell_type": "code",
   "execution_count": 972,
   "outputs": [],
   "source": [
    "data['fare'].fillna(thomas_fare, inplace=True)"
   ],
   "metadata": {
    "collapsed": false,
    "ExecuteTime": {
     "end_time": "2023-11-21T15:55:51.166623Z",
     "start_time": "2023-11-21T15:55:50.580892Z"
    }
   },
   "id": "28711c7c340ea4a"
  },
  {
   "cell_type": "code",
   "execution_count": 973,
   "outputs": [
    {
     "data": {
      "text/plain": "     passengerid  survived  pclass                                       name  \\\n61            62       1.0       1                        Icard, Miss. Amelie   \n829          830       1.0       1  Stone, Mrs. George Nelson (Martha Evelyn)   \n\n        sex   age  sibsp  parch  ticket  fare cabin embarked title  \n61   female  38.0      0      0  113572  80.0   B28      NaN  Miss  \n829  female  62.0      0      0  113572  80.0   B28      NaN   Mrs  ",
      "text/html": "<div>\n<style scoped>\n    .dataframe tbody tr th:only-of-type {\n        vertical-align: middle;\n    }\n\n    .dataframe tbody tr th {\n        vertical-align: top;\n    }\n\n    .dataframe thead th {\n        text-align: right;\n    }\n</style>\n<table border=\"1\" class=\"dataframe\">\n  <thead>\n    <tr style=\"text-align: right;\">\n      <th></th>\n      <th>passengerid</th>\n      <th>survived</th>\n      <th>pclass</th>\n      <th>name</th>\n      <th>sex</th>\n      <th>age</th>\n      <th>sibsp</th>\n      <th>parch</th>\n      <th>ticket</th>\n      <th>fare</th>\n      <th>cabin</th>\n      <th>embarked</th>\n      <th>title</th>\n    </tr>\n  </thead>\n  <tbody>\n    <tr>\n      <th>61</th>\n      <td>62</td>\n      <td>1.0</td>\n      <td>1</td>\n      <td>Icard, Miss. Amelie</td>\n      <td>female</td>\n      <td>38.0</td>\n      <td>0</td>\n      <td>0</td>\n      <td>113572</td>\n      <td>80.0</td>\n      <td>B28</td>\n      <td>NaN</td>\n      <td>Miss</td>\n    </tr>\n    <tr>\n      <th>829</th>\n      <td>830</td>\n      <td>1.0</td>\n      <td>1</td>\n      <td>Stone, Mrs. George Nelson (Martha Evelyn)</td>\n      <td>female</td>\n      <td>62.0</td>\n      <td>0</td>\n      <td>0</td>\n      <td>113572</td>\n      <td>80.0</td>\n      <td>B28</td>\n      <td>NaN</td>\n      <td>Mrs</td>\n    </tr>\n  </tbody>\n</table>\n</div>"
     },
     "execution_count": 973,
     "metadata": {},
     "output_type": "execute_result"
    }
   ],
   "source": [
    "data[data['embarked'].isnull()]"
   ],
   "metadata": {
    "collapsed": false,
    "ExecuteTime": {
     "end_time": "2023-11-21T15:55:51.166785Z",
     "start_time": "2023-11-21T15:55:50.588221Z"
    }
   },
   "id": "98f32bff5c0bc7a7"
  },
  {
   "cell_type": "code",
   "execution_count": 974,
   "outputs": [
    {
     "data": {
      "text/plain": "array(['S', 'C', 'Q', nan], dtype=object)"
     },
     "execution_count": 974,
     "metadata": {},
     "output_type": "execute_result"
    }
   ],
   "source": [
    "data['embarked'].unique()"
   ],
   "metadata": {
    "collapsed": false,
    "ExecuteTime": {
     "end_time": "2023-11-21T15:55:51.166860Z",
     "start_time": "2023-11-21T15:55:50.592296Z"
    }
   },
   "id": "a2f15f4ed6f5a897"
  },
  {
   "cell_type": "code",
   "execution_count": 975,
   "outputs": [
    {
     "data": {
      "text/plain": "<Axes: xlabel='embarked', ylabel='count'>"
     },
     "execution_count": 975,
     "metadata": {},
     "output_type": "execute_result"
    },
    {
     "data": {
      "text/plain": "<Figure size 640x480 with 1 Axes>",
      "image/png": "[encoded data removed]"
     },
     "metadata": {},
     "output_type": "display_data"
    }
   ],
   "source": [
    "sns.countplot(data=data, x='embarked')"
   ],
   "metadata": {
    "collapsed": false,
    "ExecuteTime": {
     "end_time": "2023-11-21T15:55:51.177063Z",
     "start_time": "2023-11-21T15:55:50.629220Z"
    }
   },
   "id": "792575fd858df47f"
  },
  {
   "cell_type": "code",
   "execution_count": 976,
   "outputs": [],
   "source": [
    "common_value = 'S'\n",
    "data['embarked'].fillna(common_value, inplace=True)"
   ],
   "metadata": {
    "collapsed": false,
    "ExecuteTime": {
     "end_time": "2023-11-21T15:55:51.177201Z",
     "start_time": "2023-11-21T15:55:50.718133Z"
    }
   },
   "id": "69d9707918849279"
  },
  {
   "cell_type": "code",
   "execution_count": 977,
   "outputs": [
    {
     "data": {
      "text/plain": "passengerid       0\nsurvived        418\npclass            0\nname              0\nsex               0\nage               0\nsibsp             0\nparch             0\nticket            0\nfare              0\ncabin          1014\nembarked          0\ntitle             0\ndtype: int64"
     },
     "execution_count": 977,
     "metadata": {},
     "output_type": "execute_result"
    }
   ],
   "source": [
    "data.isnull().sum()"
   ],
   "metadata": {
    "collapsed": false,
    "ExecuteTime": {
     "end_time": "2023-11-21T15:55:51.177324Z",
     "start_time": "2023-11-21T15:55:50.726381Z"
    }
   },
   "id": "fdea2ce50109149e"
  },
  {
   "cell_type": "code",
   "execution_count": 978,
   "outputs": [
    {
     "data": {
      "text/plain": "cabin\nC23 C25 C27        6\nG6                 5\nB57 B59 B63 B66    5\nC22 C26            4\nF33                4\n                  ..\nA14                1\nE63                1\nE12                1\nE38                1\nC105               1\nName: count, Length: 186, dtype: int64"
     },
     "execution_count": 978,
     "metadata": {},
     "output_type": "execute_result"
    }
   ],
   "source": [
    "data['cabin'].value_counts()"
   ],
   "metadata": {
    "collapsed": false,
    "ExecuteTime": {
     "end_time": "2023-11-21T15:55:51.177428Z",
     "start_time": "2023-11-21T15:55:50.733474Z"
    }
   },
   "id": "fca6249bc8d53598"
  },
  {
   "cell_type": "code",
   "execution_count": 979,
   "outputs": [],
   "source": [
    "data['cabin'] = data['cabin'].str[:1]"
   ],
   "metadata": {
    "collapsed": false,
    "ExecuteTime": {
     "end_time": "2023-11-21T15:55:51.177473Z",
     "start_time": "2023-11-21T15:55:50.741353Z"
    }
   },
   "id": "eb2eaf6a19e1eaca"
  },
  {
   "cell_type": "code",
   "execution_count": 980,
   "outputs": [
    {
     "data": {
      "text/plain": "<Axes: xlabel='cabin', ylabel='count'>"
     },
     "execution_count": 980,
     "metadata": {},
     "output_type": "execute_result"
    },
    {
     "data": {
      "text/plain": "<Figure size 640x480 with 1 Axes>",
      "image/png": "[encoded data removed]"
     },
     "metadata": {},
     "output_type": "display_data"
    }
   ],
   "source": [
    "sns.countplot(data=data, x='cabin')"
   ],
   "metadata": {
    "collapsed": false,
    "ExecuteTime": {
     "end_time": "2023-11-21T15:55:51.177606Z",
     "start_time": "2023-11-21T15:55:50.746533Z"
    }
   },
   "id": "21baea6f6747ea17"
  },
  {
   "cell_type": "code",
   "execution_count": 981,
   "outputs": [
    {
     "data": {
      "text/plain": "<Axes: xlabel='cabin', ylabel='Count'>"
     },
     "execution_count": 981,
     "metadata": {},
     "output_type": "execute_result"
    },
    {
     "data": {
      "text/plain": "<Figure size 640x480 with 1 Axes>",
      "image/png": "[encoded data removed]"
     },
     "metadata": {},
     "output_type": "display_data"
    }
   ],
   "source": [
    "sns.histplot(data=data, x=\"cabin\",hue=\"pclass\", element=\"step\")"
   ],
   "metadata": {
    "collapsed": false,
    "ExecuteTime": {
     "end_time": "2023-11-21T15:55:51.177722Z",
     "start_time": "2023-11-21T15:55:50.839217Z"
    }
   },
   "id": "55faeb4c2ed70d57"
  },
  {
   "cell_type": "code",
   "execution_count": 982,
   "outputs": [
    {
     "data": {
      "text/plain": "     passengerid  survived  pclass                          name   sex   age  \\\n339          340       0.0       1  Blackwell, Mr. Stephen Weart  male  45.0   \n\n     sibsp  parch  ticket  fare cabin embarked title  \n339      0      0  113784  35.5     T        S    Mr  ",
      "text/html": "<div>\n<style scoped>\n    .dataframe tbody tr th:only-of-type {\n        vertical-align: middle;\n    }\n\n    .dataframe tbody tr th {\n        vertical-align: top;\n    }\n\n    .dataframe thead th {\n        text-align: right;\n    }\n</style>\n<table border=\"1\" class=\"dataframe\">\n  <thead>\n    <tr style=\"text-align: right;\">\n      <th></th>\n      <th>passengerid</th>\n      <th>survived</th>\n      <th>pclass</th>\n      <th>name</th>\n      <th>sex</th>\n      <th>age</th>\n      <th>sibsp</th>\n      <th>parch</th>\n      <th>ticket</th>\n      <th>fare</th>\n      <th>cabin</th>\n      <th>embarked</th>\n      <th>title</th>\n    </tr>\n  </thead>\n  <tbody>\n    <tr>\n      <th>339</th>\n      <td>340</td>\n      <td>0.0</td>\n      <td>1</td>\n      <td>Blackwell, Mr. Stephen Weart</td>\n      <td>male</td>\n      <td>45.0</td>\n      <td>0</td>\n      <td>0</td>\n      <td>113784</td>\n      <td>35.5</td>\n      <td>T</td>\n      <td>S</td>\n      <td>Mr</td>\n    </tr>\n  </tbody>\n</table>\n</div>"
     },
     "execution_count": 982,
     "metadata": {},
     "output_type": "execute_result"
    }
   ],
   "source": [
    "data[data['cabin'] == 'T']"
   ],
   "metadata": {
    "collapsed": false,
    "ExecuteTime": {
     "end_time": "2023-11-21T15:55:51.177942Z",
     "start_time": "2023-11-21T15:55:50.943656Z"
    }
   },
   "id": "3fb3ffc1b4b2fe0e"
  },
  {
   "cell_type": "code",
   "execution_count": 983,
   "outputs": [],
   "source": [
    "data['cabin'].replace('T', 'C', inplace=True)"
   ],
   "metadata": {
    "collapsed": false,
    "ExecuteTime": {
     "end_time": "2023-11-21T15:55:51.177979Z",
     "start_time": "2023-11-21T15:55:50.947683Z"
    }
   },
   "id": "6a3036dd75c5589a"
  },
  {
   "cell_type": "code",
   "execution_count": 984,
   "outputs": [
    {
     "data": {
      "text/plain": "   cabin  pclass  cabin_count\n0      A       1     0.085938\n1      B       1     0.253906\n2      C       1     0.371094\n3      D       1     0.156250\n4      D       2     0.260870\n5      E       1     0.132812\n6      E       2     0.173913\n7      E       3     0.187500\n8      F       2     0.565217\n9      F       3     0.500000\n10     G       3     0.312500",
      "text/html": "<div>\n<style scoped>\n    .dataframe tbody tr th:only-of-type {\n        vertical-align: middle;\n    }\n\n    .dataframe tbody tr th {\n        vertical-align: top;\n    }\n\n    .dataframe thead th {\n        text-align: right;\n    }\n</style>\n<table border=\"1\" class=\"dataframe\">\n  <thead>\n    <tr style=\"text-align: right;\">\n      <th></th>\n      <th>cabin</th>\n      <th>pclass</th>\n      <th>cabin_count</th>\n    </tr>\n  </thead>\n  <tbody>\n    <tr>\n      <th>0</th>\n      <td>A</td>\n      <td>1</td>\n      <td>0.085938</td>\n    </tr>\n    <tr>\n      <th>1</th>\n      <td>B</td>\n      <td>1</td>\n      <td>0.253906</td>\n    </tr>\n    <tr>\n      <th>2</th>\n      <td>C</td>\n      <td>1</td>\n      <td>0.371094</td>\n    </tr>\n    <tr>\n      <th>3</th>\n      <td>D</td>\n      <td>1</td>\n      <td>0.156250</td>\n    </tr>\n    <tr>\n      <th>4</th>\n      <td>D</td>\n      <td>2</td>\n      <td>0.260870</td>\n    </tr>\n    <tr>\n      <th>5</th>\n      <td>E</td>\n      <td>1</td>\n      <td>0.132812</td>\n    </tr>\n    <tr>\n      <th>6</th>\n      <td>E</td>\n      <td>2</td>\n      <td>0.173913</td>\n    </tr>\n    <tr>\n      <th>7</th>\n      <td>E</td>\n      <td>3</td>\n      <td>0.187500</td>\n    </tr>\n    <tr>\n      <th>8</th>\n      <td>F</td>\n      <td>2</td>\n      <td>0.565217</td>\n    </tr>\n    <tr>\n      <th>9</th>\n      <td>F</td>\n      <td>3</td>\n      <td>0.500000</td>\n    </tr>\n    <tr>\n      <th>10</th>\n      <td>G</td>\n      <td>3</td>\n      <td>0.312500</td>\n    </tr>\n  </tbody>\n</table>\n</div>"
     },
     "execution_count": 984,
     "metadata": {},
     "output_type": "execute_result"
    }
   ],
   "source": [
    "df2 = data.groupby(['cabin', 'pclass']).size().reset_index(name='cabin_count')\n",
    "a = df2.groupby('pclass')['cabin_count'].transform('sum')\n",
    "df2['cabin_count'] = df2['cabin_count'].div(a)\n",
    "\n",
    "df2"
   ],
   "metadata": {
    "collapsed": false,
    "ExecuteTime": {
     "end_time": "2023-11-21T15:55:51.178161Z",
     "start_time": "2023-11-21T15:55:50.955699Z"
    }
   },
   "id": "b57640e5eb633556"
  },
  {
   "cell_type": "code",
   "execution_count": 985,
   "outputs": [],
   "source": [
    "cabin_mapping = {\"A\": 0, \"B\": 1, \"C\": 2, \"D\": 3, \"E\": 4, \"F\": 5, \"G\": 6}\n",
    "data['cabin'] = data['cabin'].map(cabin_mapping)"
   ],
   "metadata": {
    "collapsed": false,
    "ExecuteTime": {
     "end_time": "2023-11-21T15:55:51.178197Z",
     "start_time": "2023-11-21T15:55:50.960577Z"
    }
   },
   "id": "f6801be023312b4b"
  },
  {
   "cell_type": "code",
   "execution_count": 986,
   "outputs": [],
   "source": [
    "data['cabin'].fillna(data.groupby('pclass')['cabin'].transform('median'), inplace=True)"
   ],
   "metadata": {
    "collapsed": false,
    "ExecuteTime": {
     "end_time": "2023-11-21T15:55:51.178235Z",
     "start_time": "2023-11-21T15:55:50.964767Z"
    }
   },
   "id": "b0985f2301629fde"
  },
  {
   "cell_type": "markdown",
   "source": [
    "//"
   ],
   "metadata": {
    "collapsed": false
   },
   "id": "f9aa049ccffbc237"
  },
  {
   "cell_type": "code",
   "execution_count": 987,
   "outputs": [],
   "source": [
    "data['family_size'] = data['parch'] + data['sibsp'] + 1"
   ],
   "metadata": {
    "collapsed": false,
    "ExecuteTime": {
     "end_time": "2023-11-21T15:55:51.178270Z",
     "start_time": "2023-11-21T15:55:50.968450Z"
    }
   },
   "id": "e05bb68a91569981"
  },
  {
   "cell_type": "code",
   "execution_count": 988,
   "outputs": [
    {
     "data": {
      "text/plain": "             survived\nfamily_size          \n4            0.724138\n3            0.578431\n2            0.552795\n7            0.333333\n1            0.303538\n5            0.200000\n6            0.136364\n8            0.000000\n11           0.000000",
      "text/html": "<div>\n<style scoped>\n    .dataframe tbody tr th:only-of-type {\n        vertical-align: middle;\n    }\n\n    .dataframe tbody tr th {\n        vertical-align: top;\n    }\n\n    .dataframe thead th {\n        text-align: right;\n    }\n</style>\n<table border=\"1\" class=\"dataframe\">\n  <thead>\n    <tr style=\"text-align: right;\">\n      <th></th>\n      <th>survived</th>\n    </tr>\n    <tr>\n      <th>family_size</th>\n      <th></th>\n    </tr>\n  </thead>\n  <tbody>\n    <tr>\n      <th>4</th>\n      <td>0.724138</td>\n    </tr>\n    <tr>\n      <th>3</th>\n      <td>0.578431</td>\n    </tr>\n    <tr>\n      <th>2</th>\n      <td>0.552795</td>\n    </tr>\n    <tr>\n      <th>7</th>\n      <td>0.333333</td>\n    </tr>\n    <tr>\n      <th>1</th>\n      <td>0.303538</td>\n    </tr>\n    <tr>\n      <th>5</th>\n      <td>0.200000</td>\n    </tr>\n    <tr>\n      <th>6</th>\n      <td>0.136364</td>\n    </tr>\n    <tr>\n      <th>8</th>\n      <td>0.000000</td>\n    </tr>\n    <tr>\n      <th>11</th>\n      <td>0.000000</td>\n    </tr>\n  </tbody>\n</table>\n</div>"
     },
     "execution_count": 988,
     "metadata": {},
     "output_type": "execute_result"
    }
   ],
   "source": [
    "data[[\"family_size\", \"survived\"]].groupby(['family_size']).mean().sort_values(by='survived', ascending=False)"
   ],
   "metadata": {
    "collapsed": false,
    "ExecuteTime": {
     "end_time": "2023-11-21T15:55:51.178432Z",
     "start_time": "2023-11-21T15:55:50.974171Z"
    }
   },
   "id": "2ded401212bb3423"
  },
  {
   "cell_type": "code",
   "execution_count": 989,
   "outputs": [],
   "source": [
    "family_mapping = {\n",
    "    1: 2, 2: 1, 3: 1, 4: 1, 5: 2, 6: 2, 7: 2, 8: 3, 11: 3\n",
    "}\n",
    "\n",
    "data['family_size'] = data['family_size'].map(family_mapping)"
   ],
   "metadata": {
    "collapsed": false,
    "ExecuteTime": {
     "end_time": "2023-11-21T15:55:51.178477Z",
     "start_time": "2023-11-21T15:55:50.979228Z"
    }
   },
   "id": "4cd5d07b7ce326c"
  },
  {
   "cell_type": "code",
   "execution_count": 990,
   "outputs": [],
   "source": [
    "data.drop(['name', 'title', 'passengerid', 'ticket'],axis=1,inplace=True)"
   ],
   "metadata": {
    "collapsed": false,
    "ExecuteTime": {
     "end_time": "2023-11-21T15:55:51.178510Z",
     "start_time": "2023-11-21T15:55:50.982975Z"
    }
   },
   "id": "f5e8bfa17e3eb3ca"
  },
  {
   "cell_type": "code",
   "execution_count": 1003,
   "outputs": [
    {
     "data": {
      "text/plain": "(1309, 11)"
     },
     "execution_count": 1003,
     "metadata": {},
     "output_type": "execute_result"
    }
   ],
   "source": [
    "data = pd.get_dummies(data, drop_first=True)"
   ],
   "metadata": {
    "collapsed": false,
    "ExecuteTime": {
     "end_time": "2023-11-21T16:08:18.582242Z",
     "start_time": "2023-11-21T16:08:18.562929Z"
    }
   },
   "id": "838ac3c2c224127a"
  },
  {
   "cell_type": "code",
   "execution_count": 992,
   "outputs": [],
   "source": [
    "scale = MinMaxScaler()\n",
    "\n",
    "col = data.columns\n",
    "data_scaled = scale.fit_transform(data)\n",
    "\n",
    "data_scaled= pd.DataFrame(data_scaled, columns=col)"
   ],
   "metadata": {
    "collapsed": false,
    "ExecuteTime": {
     "end_time": "2023-11-21T15:55:51.179347Z",
     "start_time": "2023-11-21T15:55:50.994585Z"
    }
   },
   "id": "df426583c16b6a11"
  },
  {
   "cell_type": "code",
   "execution_count": 993,
   "outputs": [],
   "source": [
    "train_scaled = data_scaled.loc[data_scaled[\"survived\"].notnull(),:]\n",
    "test_scaled = data_scaled.loc[data_scaled[\"survived\"].isnull(),:]"
   ],
   "metadata": {
    "collapsed": false,
    "ExecuteTime": {
     "end_time": "2023-11-21T15:55:51.179414Z",
     "start_time": "2023-11-21T15:55:51.000569Z"
    }
   },
   "id": "e4bacc9c10b94a10"
  },
  {
   "cell_type": "code",
   "execution_count": 994,
   "outputs": [],
   "source": [
    "y_train_scaled = train_scaled[\"survived\"]"
   ],
   "metadata": {
    "collapsed": false,
    "ExecuteTime": {
     "end_time": "2023-11-21T15:55:51.179489Z",
     "start_time": "2023-11-21T15:55:51.004229Z"
    }
   },
   "id": "883b5b41a80e1702"
  },
  {
   "cell_type": "code",
   "execution_count": 995,
   "outputs": [],
   "source": [
    "X_train_scaled = train_scaled.drop(\"survived\",axis=1)"
   ],
   "metadata": {
    "collapsed": false,
    "ExecuteTime": {
     "end_time": "2023-11-21T15:55:51.179546Z",
     "start_time": "2023-11-21T15:55:51.007171Z"
    }
   },
   "id": "de92ec666861eb76"
  },
  {
   "cell_type": "code",
   "execution_count": 996,
   "outputs": [],
   "source": [
    "X_test_scaled = test_scaled.drop(\"survived\",axis=1)"
   ],
   "metadata": {
    "collapsed": false,
    "ExecuteTime": {
     "end_time": "2023-11-21T15:55:51.179594Z",
     "start_time": "2023-11-21T15:55:51.015587Z"
    }
   },
   "id": "52a9425a13aca237"
  },
  {
   "cell_type": "code",
   "execution_count": 997,
   "outputs": [],
   "source": [
    "passenger_ids = test['passengerid']"
   ],
   "metadata": {
    "collapsed": false,
    "ExecuteTime": {
     "end_time": "2023-11-21T15:55:51.179670Z",
     "start_time": "2023-11-21T15:55:51.018027Z"
    }
   },
   "id": "6785763a15bbc49d"
  },
  {
   "cell_type": "code",
   "execution_count": 998,
   "outputs": [
    {
     "name": "stdout",
     "output_type": "stream",
     "text": [
      "The best ccuracy: 0.9181. \n",
      "The best depth: 9\n"
     ]
    }
   ],
   "source": [
    "from sklearn.tree import DecisionTreeClassifier\n",
    "\n",
    "random_state = 12345\n",
    "\n",
    "decision_tree_model = None\n",
    "decision_tree_result = 0\n",
    "decision_tree_depth = 1\n",
    "\n",
    "for depth in range(1, 10):\n",
    "    model = DecisionTreeClassifier(random_state=random_state, max_depth=depth)\n",
    "    model.fit(X_train_scaled, y_train_scaled)\n",
    "    result = model.score(X_train_scaled, y_train_scaled)\n",
    "    if result > decision_tree_result:\n",
    "        decision_tree_model = model\n",
    "        decision_tree_depth = depth\n",
    "        decision_tree_result = result\n",
    "\n",
    "print(f'The best ccuracy: {decision_tree_result:.4}. ',\n",
    "      f'The best depth: {decision_tree_depth}', sep='\\n')"
   ],
   "metadata": {
    "collapsed": false,
    "ExecuteTime": {
     "end_time": "2023-11-21T15:55:51.180140Z",
     "start_time": "2023-11-21T15:55:51.021245Z"
    }
   },
   "id": "9fe5f2f03c78611c"
  },
  {
   "cell_type": "code",
   "execution_count": 1002,
   "outputs": [
    {
     "name": "stdout",
     "output_type": "stream",
     "text": [
      "Accuracy: 0.9798\n",
      "Forest_est: 43\n",
      "Forest_depth: 18\n"
     ]
    }
   ],
   "source": [
    "from sklearn.ensemble import RandomForestClassifier\n",
    "\n",
    "forest_model = None\n",
    "forest_result = 0\n",
    "forest_est = 1\n",
    "forest_depth = 1\n",
    "\n",
    "for est in range(1, 40):\n",
    "    for depth in range(1, 11):\n",
    "        model = RandomForestClassifier(random_state=random_state, n_estimators=est, max_depth=depth)\n",
    "        model.fit(X_train_scaled, y_train_scaled)\n",
    "        result = model.score(X_train_scaled, y_train_scaled)\n",
    "        if result > forest_result:\n",
    "            forest_model = model\n",
    "            forest_result = result\n",
    "            forest_est = est\n",
    "            forest_depth = depth\n",
    "\n",
    "print(f'Accuracy: {forest_result:.4}',\n",
    "      f'Forest_est: {forest_est}',\n",
    "      f'Forest_depth: {forest_depth}', sep='\\n')"
   ],
   "metadata": {
    "collapsed": false,
    "ExecuteTime": {
     "end_time": "2023-11-21T15:56:31.607938Z",
     "start_time": "2023-11-21T15:56:16.351109Z"
    }
   },
   "id": "1b9de1ec430db403"
  },
  {
   "cell_type": "code",
   "execution_count": 1000,
   "outputs": [
    {
     "name": "stdout",
     "output_type": "stream",
     "text": [
      "Accuracy: 0.8103\n"
     ]
    }
   ],
   "source": [
    "from sklearn.linear_model import LogisticRegression\n",
    "\n",
    "logistic_regression_model = LogisticRegression(random_state=random_state)\n",
    "logistic_regression_model.fit(X_train_scaled, y_train_scaled)\n",
    "logistic_regression_result = logistic_regression_model.score(X_train_scaled, y_train_scaled)\n",
    "\n",
    "print(f'Accuracy: {logistic_regression_result:.4}')"
   ],
   "metadata": {
    "collapsed": false,
    "ExecuteTime": {
     "end_time": "2023-11-21T15:55:51.724622Z",
     "start_time": "2023-11-21T15:55:51.524813Z"
    }
   },
   "id": "197169667fa2e905"
  },
  {
   "cell_type": "code",
   "execution_count": 1001,
   "outputs": [],
   "source": [
    "models = [\n",
    "    {\n",
    "        'model': decision_tree_model,\n",
    "        'name': 'decision_tree'\n",
    "    },\n",
    "    {\n",
    "        'model': forest_model,\n",
    "        'name': 'random_forest'\n",
    "    },\n",
    "    {\n",
    "        'model': logistic_regression_model,\n",
    "        'name': 'logistic_regression'\n",
    "    },\n",
    "]\n",
    "\n",
    "\n",
    "for model_obj in models:\n",
    "    y_pred = model_obj['model'].predict(X_test_scaled)\n",
    "    submission = pd.DataFrame({'PassengerId': passenger_ids, 'Survived': y_pred.astype(int)})\n",
    "    submission.to_csv(f'submission_{model_obj[\"name\"]}.csv', index=False)"
   ],
   "metadata": {
    "collapsed": false,
    "ExecuteTime": {
     "end_time": "2023-11-21T15:55:51.725311Z",
     "start_time": "2023-11-21T15:55:51.566449Z"
    }
   },
   "id": "317a9d12943d0268"
  },
  {
   "cell_type": "markdown",
   "source": [
    "<img src=\"results.png\" alt=\"results\" />"
   ],
   "metadata": {
    "collapsed": false
   },
   "id": "e53f9b685e4dc02a"
  }
 ],
 "metadata": {
  "kernelspec": {
   "display_name": "Python 3",
   "language": "python",
   "name": "python3"
  },
  "language_info": {
   "codemirror_mode": {
    "name": "ipython",
    "version": 2
   },
   "file_extension": ".py",
   "mimetype": "text/x-python",
   "name": "python",
   "nbconvert_exporter": "python",
   "pygments_lexer": "ipython2",
   "version": "2.7.6"
  }
 },
 "nbformat": 4,
 "nbformat_minor": 5
}
